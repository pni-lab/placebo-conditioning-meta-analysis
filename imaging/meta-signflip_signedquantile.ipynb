{
 "cells": [
  {
   "metadata": {},
   "cell_type": "markdown",
   "source": "# Mediation analysis with sign-flipping and study wise zero-preserving quantile harmonization\n",
   "id": "481dc1891533b05a"
  },
  {
   "metadata": {},
   "cell_type": "markdown",
   "source": "## Imports and loading data\n",
   "id": "38495a5224ad5468"
  },
  {
   "cell_type": "code",
   "id": "initial_id",
   "metadata": {
    "collapsed": true,
    "jupyter": {
     "outputs_hidden": true
    },
    "ExecuteTime": {
     "end_time": "2024-07-29T10:39:48.090094Z",
     "start_time": "2024-07-29T10:39:47.983677Z"
    }
   },
   "source": [
    "import numpy as np\n",
    "from scipy.stats import rankdata\n",
    "import pandas as pd\n",
    "import nibabel as nib\n",
    "import seaborn as sns\n",
    "import matplotlib.pyplot as plt\n",
    "from sklearn.preprocessing import QuantileTransformer\n",
    "from joblib import Parallel, delayed\n",
    "from tqdm import tqdm\n",
    "\n",
    "base_dir = '/Users/tspisak/data/PIC_conditioning_withinsub_nodatalad'\n",
    "pheno = pd.read_csv(base_dir + '/signatures.csv')\n",
    "orig_diff = nib.load(base_dir + '/all_data.nii')\n",
    "mask = nib.load(base_dir + '/full_masked_10_percent.nii')\n",
    "\n",
    "# convert x to categorical and get integer representation\n",
    "pheno['plc_induction'] = pheno['Conditioning'].astype('category').cat.codes\n",
    "pheno['Rating_diff'] = -1*pheno['Rating_diff']   # higher score stronger placebo"
   ],
   "outputs": [],
   "execution_count": 1
  },
  {
   "metadata": {},
   "cell_type": "markdown",
   "source": "## Simple helper functions",
   "id": "11407ecab8040933"
  },
  {
   "cell_type": "code",
   "id": "e49bde071c4c39aa",
   "metadata": {
    "collapsed": false,
    "jupyter": {
     "outputs_hidden": false
    },
    "ExecuteTime": {
     "end_time": "2024-07-29T10:39:50.984265Z",
     "start_time": "2024-07-29T10:39:50.980551Z"
    }
   },
   "source": [
    "def img2vector(image_4d, mask=None):\n",
    "    \"\"\"\n",
    "    :param image_4d: 4d numpy.array of shape (nx, ny, nz, num_samples)\n",
    "    :param mask: 3d numpy array (nx, ny, nz)\n",
    "    :return: numpy.array (num_samples, n_within_mask_voxels)\n",
    "    \"\"\"\n",
    "    if mask is not None:\n",
    "        vectorized = image_4d[mask>0].transpose()\n",
    "    else:\n",
    "        vectorized = image_4d.reshape(-1, image_4d.shape[-1]).transpose()\n",
    "    return vectorized\n",
    "    \n",
    "        \n",
    "def vector2img(vectorized_data, out_shape, mask=None):\n",
    "    \"\"\"\n",
    "    :param vectorized_data: (num_samples, n_features)\n",
    "    :param out_shape: (nx, ny, nz, num_samples)\n",
    "    :param mask: 3d numpy array (nx, ny, nz)\n",
    "    :return: 4d numpy.array of shape (nx, ny, nz, num_samples)\n",
    "    \"\"\"\n",
    "    nx, ny, nz, num_samples = out_shape\n",
    "    if mask is not None:\n",
    "        # Create an empty array with the desired output shape\n",
    "        image_4d = np.zeros(out_shape)\n",
    "        \n",
    "        # Get the indices of the mask where the value is greater than 0\n",
    "        mask_indices = np.where(mask > 0)\n",
    "        \n",
    "        # Reconstruct the image from the vectorized data\n",
    "        for i in range(num_samples):\n",
    "            temp_image = np.zeros((nx, ny, nz))\n",
    "            temp_image[mask_indices] = vectorized_data[i]\n",
    "            image_4d[:, :, :, i] = temp_image\n",
    "    else:\n",
    "        # If no mask is provided, reshape the data to the output shape\n",
    "        image_4d = vectorized_data.T.reshape(out_shape)\n",
    "    \n",
    "    return image_4d\n",
    "\n",
    "def vec2img3d(vectorized_data, mask):\n",
    "    temp_image = np.zeros(mask.shape)\n",
    "    temp_image[np.where(mask > 0)] = vectorized_data\n",
    "    return temp_image"
   ],
   "outputs": [],
   "execution_count": 2
  },
  {
   "metadata": {},
   "cell_type": "markdown",
   "source": "## Harmonization: zero-preserving quantile normalization",
   "id": "7c705cfaed93a522"
  },
  {
   "cell_type": "code",
   "id": "efb7ac7cc5abe8c4",
   "metadata": {
    "collapsed": false,
    "jupyter": {
     "outputs_hidden": false
    },
    "ExecuteTime": {
     "end_time": "2024-07-29T10:39:52.372907Z",
     "start_time": "2024-07-29T10:39:52.369624Z"
    }
   },
   "source": [
    "def rank_harmonize(data, batch_id, pb=False):\n",
    "    \"\"\"\n",
    "    :param data: n_samples x n_features\n",
    "    :param batch_id:  n_samples\n",
    "    :param pb: switch progressbar on/off\n",
    "    :return: within-batch zero preserving rank harmonized data\n",
    "    \"\"\"\n",
    "    output = np.zeros(data.shape)\n",
    "    pbar = tqdm(np.unique(batch_id), disable=not pb)\n",
    "    for batch in pbar:\n",
    "        pbar.set_description(f'Batch: {batch}')\n",
    "        # get the data for this batch\n",
    "        data_batch = data[batch_id == batch, :]\n",
    "        # for each voxel, determine the ratio if participants with negative values\n",
    "        ratio_neg = np.sum(data_batch<0, axis=0)/data_batch.shape[0]\n",
    "        # do a normalized, zero-preserving rank transformation\n",
    "        ranked = ((rankdata(data_batch, method='average', axis=0)-0.5)/data_batch.shape[0] - ratio_neg)\n",
    "        output[batch_id == batch, :] = ranked\n",
    "    pbar.set_description(f'Done!')\n",
    "    return output"
   ],
   "outputs": [],
   "execution_count": 3
  },
  {
   "metadata": {},
   "cell_type": "markdown",
   "source": "## Mask and vectorize data\n",
   "id": "7bdac5f8fabfc42e"
  },
  {
   "cell_type": "code",
   "id": "5bca9510b242ab52",
   "metadata": {
    "collapsed": false,
    "jupyter": {
     "outputs_hidden": false
    },
    "ExecuteTime": {
     "end_time": "2024-07-29T10:39:54.453453Z",
     "start_time": "2024-07-29T10:39:53.654327Z"
    }
   },
   "source": [
    "data = img2vector(orig_diff.get_fdata(), mask=mask.get_fdata())\n",
    "data.shape"
   ],
   "outputs": [
    {
     "data": {
      "text/plain": [
       "(409, 191118)"
      ]
     },
     "execution_count": 4,
     "metadata": {},
     "output_type": "execute_result"
    }
   ],
   "execution_count": 4
  },
  {
   "metadata": {},
   "cell_type": "markdown",
   "source": "## Harmonize data",
   "id": "514978e5c5d019b0"
  },
  {
   "metadata": {
    "ExecuteTime": {
     "end_time": "2024-07-29T10:39:58.485881Z",
     "start_time": "2024-07-29T10:39:55.612431Z"
    }
   },
   "cell_type": "code",
   "source": "rank_harmonized = rank_harmonize(data, pheno.Study_ID, pb=True)",
   "id": "3b15bf599ab6507f",
   "outputs": [
    {
     "name": "stderr",
     "output_type": "stream",
     "text": [
      "Batch: zeidan: 100%|██████████| 16/16 [00:02<00:00,  5.61it/s]   \n"
     ]
    }
   ],
   "execution_count": 5
  },
  {
   "metadata": {},
   "cell_type": "markdown",
   "source": "## Convert back and save",
   "id": "af8a45106466af48"
  },
  {
   "cell_type": "code",
   "id": "c3ee1d8a469442b0",
   "metadata": {
    "collapsed": false,
    "jupyter": {
     "outputs_hidden": false
    },
    "ExecuteTime": {
     "end_time": "2024-07-29T10:40:08.097802Z",
     "start_time": "2024-07-29T10:39:58.487102Z"
    }
   },
   "source": [
    "rank_harmonized_4d = vector2img(rank_harmonized, out_shape=orig_diff.get_fdata().shape, mask=mask.get_fdata())\n",
    "# write back rank_harmonized to a 4d nifti\n",
    "nib.save(nib.Nifti1Image(rank_harmonized_4d, orig_diff.affine), base_dir + '/all_data_studyranked.nii')"
   ],
   "outputs": [],
   "execution_count": 6
  },
  {
   "metadata": {},
   "cell_type": "markdown",
   "source": [
    "## Mediation analysis\n",
    "*(see end of notebook for validation against pingouin)*"
   ],
   "id": "223a2bbe2e565fd4"
  },
  {
   "cell_type": "code",
   "id": "bdc502c9d08a5419",
   "metadata": {
    "collapsed": false,
    "jupyter": {
     "outputs_hidden": false
    },
    "ExecuteTime": {
     "end_time": "2024-07-29T10:40:08.103269Z",
     "start_time": "2024-07-29T10:40:08.098776Z"
    }
   },
   "source": [
    "#                                                 M\n",
    "#                                            (a) / \\ (b)\n",
    "#                                               /   \\   \n",
    "#                                              X ---- Y\n",
    "#                                                (c)\n",
    "# x, y: n_samples\n",
    "# covar: n_samples x n_covariates\n",
    "# m:  n_samples x n_features\n",
    "def mediation(x, y, m, covar=None, y_type='continuous', m_type='continuous'):\n",
    "    from sklearn.linear_model import LinearRegression, LogisticRegression\n",
    "    from sklearn.multioutput import MultiOutputRegressor\n",
    "    \n",
    "    if covar is None:\n",
    "        covar = np.array([])\n",
    "        \n",
    "    # M ~ X + covar\n",
    "    # with sign-flipping M, this is the Manly-technique -> should be fine with large N\n",
    "    if m_type == \"continuous\":\n",
    "        XM = LinearRegression().fit(X=np.c_[x,covar], y=m)\n",
    "    else:\n",
    "        XM = MultiOutputRegressor(LogisticRegression()).fit(X=np.c_[x,covar], y=m)\n",
    "    XM_group_diff = XM.coef_[:,0]\n",
    "    # let's also look at the group means and the conjunction\n",
    "    # here we must assume we use dummy coding for two groups\n",
    "    group0_mean = XM.intercept_  # we assume dummy coding, i.e. group 0 is the reference group\n",
    "    group1_mean = XM.intercept_ + XM_group_diff\n",
    "\n",
    "    min_group_effect = np.zeros_like(group0_mean) # conjunction under the global null\n",
    "    for i in range(len(group0_mean)):\n",
    "        if np.abs(group0_mean[i]) < np.abs(group1_mean[i]):\n",
    "            min_group_effect[i] = group0_mean[i]\n",
    "        else:\n",
    "            min_group_effect[i] = group1_mean[i]\n",
    "        \n",
    "    if y_type == \"continuous\":\n",
    "        # Y ~ M + covar\n",
    "        MY = np.array([LinearRegression().fit(X=np.c_[m[:,i],covar], y=y).coef_[0] for i in range(m.shape[1])])\n",
    "        # Average Total Effects (Y ~ X + covar)\n",
    "        XY = LinearRegression().fit(X=np.c_[x,covar], y=y).coef_[0]\n",
    "        # Average Direct Effects (Y ~ X + M + covar)\n",
    "        # with sign-flipping M, this is the Draper-Stoneman technique -> should be fine with large N (Smith would be better)\n",
    "        XMY_coefs = np.array([LinearRegression().fit(X=np.c_[x,m[:,i],covar], y=y).coef_ for i in range(m.shape[1])])\n",
    "    else:\n",
    "        #MY = LogisticRegression().fit(X=np.c_[m,covar], y=y)\n",
    "        # not yet implemented\n",
    "        raise NotImplementedError(\"Only continuous outcomes are supported currently.\")\n",
    "\n",
    "    #      ACME                             #PATH A    PATH B  TOTAL    INDIRECT    #MEAN INST   MEAN CONDINST   MIN INST&CONDINST\n",
    "    return XM_group_diff * XMY_coefs[:, 1], XM_group_diff, MY, XY, XMY_coefs[:, 2], group0_mean, group1_mean, min_group_effect\n"
   ],
   "outputs": [],
   "execution_count": 7
  },
  {
   "metadata": {
    "ExecuteTime": {
     "end_time": "2024-07-29T10:41:23.156882Z",
     "start_time": "2024-07-29T10:40:09.126705Z"
    }
   },
   "cell_type": "code",
   "source": [
    "%%time\n",
    "ACME, XM, MY, XY, XMY, INST_mean, CONDINST_mean, min_group_effect = mediation(x=pheno['plc_induction'].to_numpy(),\n",
    "                                                                              y=pheno['Rating_diff'].to_numpy(),\n",
    "                                                                              m=rank_harmonized,\n",
    "                                                                              covar = pheno[['Age', 'Male', 'Rating_pain_ctr']].to_numpy(),\n",
    "                                                                              m_type='continuous')"
   ],
   "id": "26aaf655d56a82cc",
   "outputs": [
    {
     "name": "stdout",
     "output_type": "stream",
     "text": [
      "CPU times: user 1min 14s, sys: 8.17 s, total: 1min 22s\n",
      "Wall time: 1min 14s\n"
     ]
    }
   ],
   "execution_count": 8
  },
  {
   "metadata": {
    "ExecuteTime": {
     "end_time": "2024-07-29T10:41:23.160376Z",
     "start_time": "2024-07-29T10:41:23.157995Z"
    }
   },
   "cell_type": "code",
   "source": "ACME",
   "id": "ded3db09d03e0bf4",
   "outputs": [
    {
     "data": {
      "text/plain": [
       "array([-0.0662861 , -0.03342092, -0.1384455 , ...,  0.07398256,\n",
       "        0.02804077,  0.07960881])"
      ]
     },
     "execution_count": 9,
     "metadata": {},
     "output_type": "execute_result"
    }
   ],
   "execution_count": 9
  },
  {
   "metadata": {},
   "cell_type": "markdown",
   "source": "## Create workhorse function for sign-flipping",
   "id": "76f3fa4ad1bb273f"
  },
  {
   "cell_type": "code",
   "id": "eef91caaa231809b",
   "metadata": {
    "collapsed": false,
    "jupyter": {
     "outputs_hidden": false
    },
    "ExecuteTime": {
     "end_time": "2024-07-29T10:41:23.163044Z",
     "start_time": "2024-07-29T10:41:23.160937Z"
    }
   },
   "source": [
    "# sign-flipping the brain data, see https://www.tandfonline.com/doi/abs/10.1080/00949659908811936\n",
    "def signflip_workhorse(data, pheno, stat_fun, random_state=None):\n",
    "    \"\"\"\n",
    "    Generates a single sign-flipped sample from data and pheno, assumes symmetric errors.\n",
    "    Then calls stat_fun with the sign-flipped data and pheno variables.\n",
    "    :param data: numpy array of shape (n_samples, n_features)\n",
    "    :param pheno: pandas dataframe of shape (n_samples,n_phenotypes)\n",
    "    :param stat_fun: function to be called with the bootstrapped sample. It is aware of pheno columns.\n",
    "    :param random_seed: int or None, random seed for reproducibility\n",
    "    :return: whatever stat_fun returns on the bootstrapped sample\n",
    "    \"\"\"\n",
    "    # Set the random seed in a thread-safe manner\n",
    "    random = np.random.RandomState(random_state)\n",
    "    # sign-flip random participants and\n",
    "    # call the stat_fun with the sign-flipped data, pheno is unchanged\n",
    "    return stat_fun(data * random.choice((-1,1), data.shape[0]).reshape(-1,1), pheno)"
   ],
   "outputs": [],
   "execution_count": 10
  },
  {
   "metadata": {},
   "cell_type": "markdown",
   "source": "## Run sign-flipping",
   "id": "cf28aef6623d42ae"
  },
  {
   "cell_type": "code",
   "id": "6d58c1c62525cc12",
   "metadata": {
    "collapsed": false,
    "is_executing": true,
    "jupyter": {
     "outputs_hidden": false
    },
    "ExecuteTime": {
     "start_time": "2024-07-29T10:42:53.398284Z"
    }
   },
   "source": [
    "%%time\n",
    "\n",
    "def stat_fun(data, pheno):\n",
    "    rank_harmonized = rank_harmonize(data, pheno.Study_ID, pb=False)\n",
    "    return mediation(x=pheno['plc_induction'].to_numpy(),\n",
    "                     y=pheno['Rating_diff'].to_numpy(),\n",
    "                     m=rank_harmonized,\n",
    "                     covar = pheno[['Age', 'Male', 'Rating_pain_ctr']].to_numpy(),\n",
    "                     m_type='continuous')\n",
    "\n",
    "\n",
    "seed = 42 # for reproducibility\n",
    "n_perm = 1000\n",
    "\n",
    "null_ACME, null_XM, null_MY, null_XY, null_XMY, null_INST_mean, null_CONDINST_mean, null_min_group_effect = zip(* Parallel(n_jobs=-1, timeout=99999)(delayed(\n",
    "    signflip_workhorse)(data, pheno, stat_fun, [i, seed]) for i in range(n_perm)))\n",
    "\n",
    "# save boot_ACME, boot_XM, boot_MY, boot_XY, boot_XMY\n",
    "null_dist = {\n",
    "    \"PathA(XM)\": np.array(null_XM), # diff CONDINST>INST\n",
    "    \"PathB(MY)\": np.array(null_MY),\n",
    "    \"Total(XY)\": np.array(null_XY),\n",
    "    \"Indirect(ACME)\": np.array(null_ACME),\n",
    "    \"Direct(Total-Indirect)\": np.array(null_XY)[:, np.newaxis] - np.array(null_ACME),\n",
    "    \"INST_mean\": np.array(null_INST_mean),\n",
    "    \"CONDINST_mean\": np.array(null_CONDINST_mean),\n",
    "    \"INSTandCONDINST\": np.array(null_min_group_effect),\n",
    "}\n",
    "np.save(base_dir + '/mediation_signflipped_signedquantile_null_dist.npy', null_dist)"
   ],
   "outputs": [],
   "execution_count": null
  },
  {
   "metadata": {},
   "cell_type": "code",
   "source": "null_dist = np.load(base_dir + '/mediation_signflipped_signedquantile_null_dist.npy', allow_pickle=True).item()",
   "id": "64706b29f9d1d54a",
   "outputs": [],
   "execution_count": null
  },
  {
   "metadata": {},
   "cell_type": "markdown",
   "source": [
    "## Calculate more accurate small p-values with tail approximation\n",
    "### Implementation of tail approximation"
   ],
   "id": "b9d758fc34db7cb4"
  },
  {
   "cell_type": "code",
   "id": "160a684515ca78ce",
   "metadata": {},
   "source": [
    "import scipy.stats as stats\n",
    "\n",
    "def tail_approx(null_data, extreme_value, tail_ratios = (0.30, 0.25, 0.20, 0.15, 0.1), verbose=False):\n",
    "    \n",
    "    onetailed_pval = ((np.sum(null_data>=extreme_value)+1) \n",
    "                             / (null_data.shape[0] + 1))\n",
    "    twotailed_pval = ((np.sum(np.abs(null_data)>=np.abs(extreme_value))+1) \n",
    "                             / (null_data.shape[0] + 1))\n",
    "    \n",
    "    # negate data if we need the lower tail\n",
    "    if onetailed_pval > min(tail_ratios): # it's not in the right tail\n",
    "        if onetailed_pval < 1 - min(tail_ratios): # it's not in the left tail\n",
    "            return {'pval_original': twotailed_pval,\n",
    "            'pval_pareto': twotailed_pval,\n",
    "            'goodness_of_fit': np.nan,\n",
    "            'tail_threshold': np.nan,\n",
    "            'gpd_c': np.nan,\n",
    "            'gpd_loc': np.nan,\n",
    "            'gpd_scale': np.nan,\n",
    "            'best_tail_ratio': np.nan\n",
    "            }\n",
    "        else: # it's in the lower tail, we must flip the distribution\n",
    "            null_data *= -1\n",
    "            extreme_value *= -1\n",
    "    # else it's in the right tail, nothing to do\n",
    "        \n",
    "    if verbose:\n",
    "        print(f\"One-tailed p-value {onetailed_pval}\")\n",
    "    # tails can vary, get the best fit\n",
    "    best_threshold = np.nan\n",
    "    best_tail_ratio = None\n",
    "    best_pval = np.inf\n",
    "    best_gof = -1\n",
    "    best_c = np.nan\n",
    "    best_loc = np.nan\n",
    "    best_scale = np.nan\n",
    "    for tail_ratio in tail_ratios:\n",
    "        # identify tail threshold\n",
    "        threshold = np.quantile(null_data, 1-tail_ratio)\n",
    "        # Identify the upper tail\n",
    "        tail_data = null_data[null_data > threshold]\n",
    "        # Fit the Generalized Pareto Distribution (GPD)\n",
    "        c, loc, scale = stats.genpareto.fit(tail_data - threshold)\n",
    "        # calculate the p-value\n",
    "        excess_value = extreme_value - threshold\n",
    "        p_value = (1 - stats.genpareto.cdf(excess_value, c, loc=loc, scale=scale)) * tail_ratio # we mltiply by the tail ratio to account for the fact that we only consider the tail\n",
    "        \n",
    "        # get the KS stat\n",
    "        gof = stats.goodness_of_fit(stats.genpareto ,tail_data, known_params={'c': c,\n",
    "                                                                        'loc': loc, \n",
    "                                                                        'scale': scale}, \n",
    "                                     random_state=42,\n",
    "                                     statistic='ks').statistic\n",
    "        \n",
    "        if verbose:\n",
    "            print(f\"P-value with tail ratio {tail_ratio}: {p_value}     Goodness-of-fit: {gof}\")\n",
    "        \n",
    "        if gof > best_gof:\n",
    "            best_gof = gof\n",
    "            best_threshold = threshold\n",
    "            best_pval = p_value\n",
    "            best_c = c\n",
    "            best_loc = loc\n",
    "            best_scale = scale\n",
    "            best_tail_ratio = tail_ratio\n",
    "            \n",
    "    if best_pval == 0: # handle underflow\n",
    "        best_pval = np.finfo(np.float64).tiny\n",
    "            \n",
    "    if verbose:\n",
    "        # Plot the distribution of bootstrap correlations\n",
    "        plt.hist(null_data, bins=30, edgecolor='k', alpha=0.7, density=True)\n",
    "        plt.title('Tail Approximation')\n",
    "        plt.xlabel('Test Statistic')\n",
    "        plt.ylabel('Frequency')\n",
    "            \n",
    "        # Plot the fitted GPD versus the empirical tail data\n",
    "        x = np.linspace(best_threshold, np.max((null_data.max(), extreme_value)), 100)\n",
    "        y = stats.genpareto.pdf(x - best_threshold, best_c, loc=best_loc, scale=best_scale)\n",
    "        plt.plot(x, y*best_tail_ratio, 'r-', lw=2, label='Fitted GPD')\n",
    "        plt.axvline(extreme_value, color='r')\n",
    "        \n",
    "    return {'pval_original': twotailed_pval,\n",
    "            'pval_pareto': best_pval*2,\n",
    "            'goodness_of_fit': best_gof,\n",
    "            'tail_threshold': best_threshold,\n",
    "            'gpd_c': best_c,\n",
    "            'gpd_loc': best_loc,\n",
    "            'gpd_scale': best_scale,\n",
    "            'best_tail_ratio': best_tail_ratio\n",
    "            }\n"
   ],
   "outputs": [],
   "execution_count": null
  },
  {
   "cell_type": "code",
   "id": "f3d18342ce0600b9",
   "metadata": {},
   "source": [
    "# test it\n",
    "tail_approx(null_dist['Indirect(ACME)'][:,50722], ACME[50722], verbose=True)"
   ],
   "outputs": [],
   "execution_count": null
  },
  {
   "metadata": {},
   "cell_type": "markdown",
   "source": "## Do tail approximation for all voxels",
   "id": "d0833230998a30a5"
  },
  {
   "metadata": {},
   "cell_type": "code",
   "source": [
    "from scipy.stats import false_discovery_control\n",
    "\n",
    "observed = {\n",
    "    \"PathA(XM)\": XM,\n",
    "    \"PathB(MY)\": MY,\n",
    "    \"Total(XY)\": XY,\n",
    "    \"Indirect(ACME)\": ACME,\n",
    "    \"Direct(Total-Indirect)\": XY - ACME,\n",
    "    \"INST_mean\": INST_mean,\n",
    "    \"CONDINST_mean\": CONDINST_mean,\n",
    "    \"INSTandCONDINST\": min_group_effect,\n",
    "}\n",
    "\n",
    "tail_approximated = {}\n",
    "fdr_qvals = {}\n",
    "\n",
    "for key in null_dist.keys():\n",
    "    print(f'Calculating FDR q-values for {key}')\n",
    "    if key=='Total(XY)': #no voxel data:\n",
    "        continue\n",
    "    tail_approximated[key] = pd.DataFrame(\n",
    "        Parallel(n_jobs=-1, timeout=99999)(delayed(tail_approx)(null_dist[key][:,vox_idx],\n",
    "                                                                    observed[key][vox_idx]) for vox_idx in range(null_dist[key].shape[1]))\n",
    "        )\n",
    "    fdr_qvals[key] = false_discovery_control(tail_approximated[key].pval_pareto, method=\"bh\")\n"
   ],
   "id": "6e54983d88ef5cee",
   "outputs": [
    {
     "name": "stdout",
     "output_type": "stream",
     "text": [
      "Calculating FDR q-values for CONDINST_mean\n"
     ]
    }
   ],
   "execution_count": null
  },
  {
   "metadata": {},
   "cell_type": "code",
   "source": [
    "# calculate fwer with the min-p method\n",
    "\n",
    "def workhorse_fwer(maxabs_effect_dist, observed):\n",
    "    return np.sum(maxabs_effect_dist < observed) / len(maxabs_effect_dist)\n",
    "\n",
    "\n",
    "fwer_pval = {}\n",
    "\n",
    "for key in null_dist.keys():\n",
    "    print(f'Calculating FWER p-values for {key}')\n",
    "    if key=='Total(XY)': #no voxel data:\n",
    "        continue\n",
    "\n",
    "    # max absolute effect per row\n",
    "    maxabs_effect = np.max(np.abs(null_dist[key]), axis=0)\n",
    "    print(maxabs_effect.shape)\n",
    "\n",
    "    fwer_pval[key] = pd.array(\n",
    "        Parallel(n_jobs=-1, timeout=99999)(delayed(workhorse_fwer)(maxabs_effect,\n",
    "                                                                    observed[key][vox_idx]) for vox_idx in range(null_dist[key].shape[1]))\n",
    "        )\n"
   ],
   "id": "e0a7652d4d107dfb",
   "outputs": [],
   "execution_count": null
  },
  {
   "metadata": {},
   "cell_type": "markdown",
   "source": [
    "## Save results as nifiti files\n",
    "\n",
    "*(See visualization in separate notebook)*"
   ],
   "id": "be5179d4e155dbf8"
  },
  {
   "cell_type": "code",
   "id": "f916cdb82cce80ea",
   "metadata": {
    "ExecuteTime": {
     "end_time": "2024-07-29T19:50:06.933995Z",
     "start_time": "2024-07-29T19:50:06.249728Z"
    }
   },
   "source": [
    "import os\n",
    "out_dir = base_dir + '/mediation_signflipped_signedquantile_results'\n",
    "os.makedirs(out_dir, exist_ok=True)\n",
    "# save results\n",
    "for key in fdr_qvals.keys():\n",
    "    print(key, np.min(fdr_qvals[key]), np.sum(fdr_qvals[key] < 0.05))\n",
    "    # coefficient map\n",
    "    nib.save(nib.Nifti2Image(vec2img3d(observed[key], mask.get_fdata()), affine=mask.affine),\n",
    "             out_dir + F'/beta_{key}.nii.gz')\n",
    "    # -log uncorrp\n",
    "    nib.save(nib.Nifti2Image(vec2img3d(-np.log10(tail_approximated[key].pval_pareto), mask.get_fdata()), affine=mask.affine),\n",
    "             out_dir + F'/uncorr_logp_{key}.nii.gz')\n",
    "    # -log fdrq\n",
    "    nib.save(nib.Nifti2Image(vec2img3d(-np.log10(fdr_qvals[key]), mask.get_fdata()), affine=mask.affine),\n",
    "             out_dir + F'/fdr_logq_{key}.nii.gz')\n",
    "    # thresholded map\n",
    "    res = np.zeros_like(fdr_qvals[key])\n",
    "    res[tail_approximated[key].pval_original<0.01] = 1\n",
    "    res[fdr_qvals[key]<0.05] = 2\n",
    "    res[observed[key]<0] *= -1\n",
    "    nib.save(nib.Nifti2Image(vec2img3d(res, mask.get_fdata()), affine=mask.affine),\n",
    "             out_dir + F'/thres_{key}.nii.gz')"
   ],
   "outputs": [
    {
     "name": "stdout",
     "output_type": "stream",
     "text": [
      "PathA(XM) 1.23261352373965e-304 132\n",
      "PathB(MY) 4.088958323944032e-305 479\n",
      "Indirect(ACME) 4.0500158637159936e-304 50\n",
      "Direct(Total-Indirect) 8.505033313803586e-303 3\n",
      "INST_mean 7.662192174597825e-305 210\n",
      "CONDINST_mean 7.207655350681006e-305 263\n",
      "INSTandCONDINST 7.147086818322342e-305 240\n"
     ]
    }
   ],
   "execution_count": 23
  },
  {
   "metadata": {},
   "cell_type": "markdown",
   "source": "## Validate the implementation against pingouin",
   "id": "f1c4ccfe6c1e95cd"
  },
  {
   "cell_type": "code",
   "id": "ab7b1449a894b969",
   "metadata": {
    "ExecuteTime": {
     "end_time": "2024-07-29T19:51:20.651821Z",
     "start_time": "2024-07-29T19:50:09.588776Z"
    }
   },
   "source": [
    "ACME, Xm, My, Xy, Xmy, INST_mean, CONDINST_mean, min_group_effect = mediation(x=pheno['plc_induction'].to_numpy(),\n",
    "                                                                              y=pheno['Rating_diff'].to_numpy(),\n",
    "                                                                              m=rank_harmonized,\n",
    "                                                                              covar = pheno[['Age','Male']].to_numpy(),\n",
    "                                                                              m_type='continuous')\n",
    "pd.DataFrame({'Xm': [Xm[50722]],\n",
    "              'My': [My[50722]],\n",
    "              'Total': [Xy], \n",
    "              'Direct': [Xy-ACME[50722]],\n",
    "              'Indirect': [ACME[50722]]})"
   ],
   "outputs": [
    {
     "data": {
      "text/plain": [
       "        Xm        My     Total    Direct  Indirect\n",
       "0  0.08905 -4.082966  2.194774  2.607291 -0.412516"
      ],
      "text/html": [
       "<div>\n",
       "<style scoped>\n",
       "    .dataframe tbody tr th:only-of-type {\n",
       "        vertical-align: middle;\n",
       "    }\n",
       "\n",
       "    .dataframe tbody tr th {\n",
       "        vertical-align: top;\n",
       "    }\n",
       "\n",
       "    .dataframe thead th {\n",
       "        text-align: right;\n",
       "    }\n",
       "</style>\n",
       "<table border=\"1\" class=\"dataframe\">\n",
       "  <thead>\n",
       "    <tr style=\"text-align: right;\">\n",
       "      <th></th>\n",
       "      <th>Xm</th>\n",
       "      <th>My</th>\n",
       "      <th>Total</th>\n",
       "      <th>Direct</th>\n",
       "      <th>Indirect</th>\n",
       "    </tr>\n",
       "  </thead>\n",
       "  <tbody>\n",
       "    <tr>\n",
       "      <th>0</th>\n",
       "      <td>0.08905</td>\n",
       "      <td>-4.082966</td>\n",
       "      <td>2.194774</td>\n",
       "      <td>2.607291</td>\n",
       "      <td>-0.412516</td>\n",
       "    </tr>\n",
       "  </tbody>\n",
       "</table>\n",
       "</div>"
      ]
     },
     "execution_count": 24,
     "metadata": {},
     "output_type": "execute_result"
    }
   ],
   "execution_count": 24
  },
  {
   "metadata": {
    "ExecuteTime": {
     "end_time": "2024-07-29T19:51:20.798305Z",
     "start_time": "2024-07-29T19:51:20.654087Z"
    }
   },
   "cell_type": "code",
   "source": [
    "from pingouin import mediation_analysis\n",
    "tmp=pheno\n",
    "tmp['ex_voxel'] = rank_harmonized[:,50722]\n",
    "\n",
    "stats, dist = mediation_analysis(data=tmp, x='plc_induction', m='ex_voxel', y='Rating_diff',\n",
    "                                 covar=['Age', 'Male'], \n",
    "                                 n_boot=1000,\n",
    "                                 alpha=0.05, seed=42, return_dist=True)\n",
    "stats"
   ],
   "id": "7052bbe687564ae4",
   "outputs": [
    {
     "data": {
      "text/plain": [
       "           path      coef        se      pval  CI[2.5%]  CI[97.5%]  sig\n",
       "0  ex_voxel ~ X  0.089050  0.031997  0.005637  0.026149   0.151951  Yes\n",
       "1  Y ~ ex_voxel -4.082966  2.762405  0.140172 -9.513410   1.347477   No\n",
       "2         Total  2.194774  1.797240  0.222724 -1.338310   5.727858   No\n",
       "3        Direct  2.607291  1.810400  0.150593 -0.951691   6.166272   No\n",
       "4      Indirect -0.412516  0.321475  0.142000 -1.312349   0.043299   No"
      ],
      "text/html": [
       "<div>\n",
       "<style scoped>\n",
       "    .dataframe tbody tr th:only-of-type {\n",
       "        vertical-align: middle;\n",
       "    }\n",
       "\n",
       "    .dataframe tbody tr th {\n",
       "        vertical-align: top;\n",
       "    }\n",
       "\n",
       "    .dataframe thead th {\n",
       "        text-align: right;\n",
       "    }\n",
       "</style>\n",
       "<table border=\"1\" class=\"dataframe\">\n",
       "  <thead>\n",
       "    <tr style=\"text-align: right;\">\n",
       "      <th></th>\n",
       "      <th>path</th>\n",
       "      <th>coef</th>\n",
       "      <th>se</th>\n",
       "      <th>pval</th>\n",
       "      <th>CI[2.5%]</th>\n",
       "      <th>CI[97.5%]</th>\n",
       "      <th>sig</th>\n",
       "    </tr>\n",
       "  </thead>\n",
       "  <tbody>\n",
       "    <tr>\n",
       "      <th>0</th>\n",
       "      <td>ex_voxel ~ X</td>\n",
       "      <td>0.089050</td>\n",
       "      <td>0.031997</td>\n",
       "      <td>0.005637</td>\n",
       "      <td>0.026149</td>\n",
       "      <td>0.151951</td>\n",
       "      <td>Yes</td>\n",
       "    </tr>\n",
       "    <tr>\n",
       "      <th>1</th>\n",
       "      <td>Y ~ ex_voxel</td>\n",
       "      <td>-4.082966</td>\n",
       "      <td>2.762405</td>\n",
       "      <td>0.140172</td>\n",
       "      <td>-9.513410</td>\n",
       "      <td>1.347477</td>\n",
       "      <td>No</td>\n",
       "    </tr>\n",
       "    <tr>\n",
       "      <th>2</th>\n",
       "      <td>Total</td>\n",
       "      <td>2.194774</td>\n",
       "      <td>1.797240</td>\n",
       "      <td>0.222724</td>\n",
       "      <td>-1.338310</td>\n",
       "      <td>5.727858</td>\n",
       "      <td>No</td>\n",
       "    </tr>\n",
       "    <tr>\n",
       "      <th>3</th>\n",
       "      <td>Direct</td>\n",
       "      <td>2.607291</td>\n",
       "      <td>1.810400</td>\n",
       "      <td>0.150593</td>\n",
       "      <td>-0.951691</td>\n",
       "      <td>6.166272</td>\n",
       "      <td>No</td>\n",
       "    </tr>\n",
       "    <tr>\n",
       "      <th>4</th>\n",
       "      <td>Indirect</td>\n",
       "      <td>-0.412516</td>\n",
       "      <td>0.321475</td>\n",
       "      <td>0.142000</td>\n",
       "      <td>-1.312349</td>\n",
       "      <td>0.043299</td>\n",
       "      <td>No</td>\n",
       "    </tr>\n",
       "  </tbody>\n",
       "</table>\n",
       "</div>"
      ]
     },
     "execution_count": 25,
     "metadata": {},
     "output_type": "execute_result"
    }
   ],
   "execution_count": 25
  },
  {
   "metadata": {},
   "cell_type": "markdown",
   "source": "## Visualize the harmonized data",
   "id": "9b1969e68e996e54"
  },
  {
   "metadata": {
    "ExecuteTime": {
     "end_time": "2024-07-29T19:51:20.872205Z",
     "start_time": "2024-07-29T19:51:20.799912Z"
    }
   },
   "cell_type": "code",
   "source": "sns.scatterplot(x=data[pheno.Study_ID=='atlas', 100], y=rank_harmonized[pheno.Study_ID=='atlas', 100])",
   "id": "b6aef71975e805cb",
   "outputs": [
    {
     "data": {
      "text/plain": [
       "<Axes: >"
      ]
     },
     "execution_count": 26,
     "metadata": {},
     "output_type": "execute_result"
    },
    {
     "data": {
      "text/plain": [
       "<Figure size 640x480 with 1 Axes>"
      ],
      "image/png": "[encoded data removed]"
     },
     "metadata": {},
     "output_type": "display_data"
    }
   ],
   "execution_count": 26
  },
  {
   "metadata": {
    "ExecuteTime": {
     "end_time": "2024-07-29T19:51:20.952406Z",
     "start_time": "2024-07-29T19:51:20.873464Z"
    }
   },
   "cell_type": "code",
   "source": "sns.scatterplot(x=data[pheno.Study_ID=='bingel06', 100], y=rank_harmonized[pheno.Study_ID=='bingel06', 100])",
   "id": "55494697a64e7f22",
   "outputs": [
    {
     "data": {
      "text/plain": [
       "<Axes: >"
      ]
     },
     "execution_count": 27,
     "metadata": {},
     "output_type": "execute_result"
    },
    {
     "data": {
      "text/plain": [
       "<Figure size 640x480 with 1 Axes>"
      ],
      "image/png": "[encoded data removed]"
     },
     "metadata": {},
     "output_type": "display_data"
    }
   ],
   "execution_count": 27
  },
  {
   "metadata": {},
   "cell_type": "code",
   "outputs": [],
   "execution_count": null,
   "source": "",
   "id": "2ef2db45ea70c6ab"
  }
 ],
 "metadata": {
  "kernelspec": {
   "display_name": "Python 3 (ipykernel)",
   "language": "python",
   "name": "python3"
  },
  "language_info": {
   "codemirror_mode": {
    "name": "ipython",
    "version": 3
   },
   "file_extension": ".py",
   "mimetype": "text/x-python",
   "name": "python",
   "nbconvert_exporter": "python",
   "pygments_lexer": "ipython3",
   "version": "3.9.6"
  }
 },
 "nbformat": 4,
 "nbformat_minor": 5
}
