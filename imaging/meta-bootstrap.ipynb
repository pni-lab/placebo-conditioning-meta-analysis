{
 "cells": [
  {
   "cell_type": "code",
   "execution_count": 1,
   "id": "initial_id",
   "metadata": {
    "collapsed": true,
    "ExecuteTime": {
     "end_time": "2024-05-30T10:04:06.170612Z",
     "start_time": "2024-05-30T10:04:05.927725Z"
    }
   },
   "outputs": [],
   "source": [
    "import numpy as np\n",
    "from scipy.stats import rankdata\n",
    "import pandas as pd\n",
    "import nibabel as nib\n",
    "import seaborn as sns\n",
    "import matplotlib.pyplot as plt\n",
    "from sklearn.preprocessing import QuantileTransformer\n",
    "from joblib import Parallel, delayed\n",
    "from tqdm import tqdm\n",
    "\n",
    "base_dir = '/Users/tspisak/projects/PIC_conditioning_withinsub_nodatalad'\n",
    "pheno = pd.read_csv(base_dir + '/signatures.csv')\n",
    "orig_diff = nib.load(base_dir + '/all_data.nii')\n",
    "mask = nib.load(base_dir + '/full_masked_10_percent.nii')\n",
    "\n",
    "# convert x to categorical and get integer representation\n",
    "pheno['plc_induction'] = pheno['Conditioning'].astype('category').cat.codes\n",
    "pheno['Rating_diff'] = -1*pheno['Rating_diff']   # higher score stronger placebo"
   ]
  },
  {
   "cell_type": "code",
   "execution_count": 2,
   "outputs": [],
   "source": [
    "def img2vector(image_4d, mask=None):\n",
    "    \"\"\"\n",
    "    :param image_4d: 4d numpy.array of shape (nx, ny, nz, num_samples)\n",
    "    :param mask: 3d numpy array (nx, ny, nz)\n",
    "    :return: numpy.array (num_samples, n_within_mask_voxels)\n",
    "    \"\"\"\n",
    "    if mask is not None:\n",
    "        vectorized = image_4d[mask>0].transpose()\n",
    "    else:\n",
    "        vectorized = image_4d.reshape(-1, image_4d.shape[-1]).transpose()\n",
    "    return vectorized\n",
    "    \n",
    "        \n",
    "def vector2img(vectorized_data, out_shape, mask=None):\n",
    "    \"\"\"\n",
    "    :param vectorized_data: (num_samples, n_features)\n",
    "    :param out_shape: (nx, ny, nz, num_samples)\n",
    "    :param mask: 3d numpy array (nx, ny, nz)\n",
    "    :return: 4d numpy.array of shape (nx, ny, nz, num_samples)\n",
    "    \"\"\"\n",
    "    nx, ny, nz, num_samples = out_shape\n",
    "    if mask is not None:\n",
    "        # Create an empty array with the desired output shape\n",
    "        image_4d = np.zeros(out_shape)\n",
    "        \n",
    "        # Get the indices of the mask where the value is greater than 0\n",
    "        mask_indices = np.where(mask > 0)\n",
    "        \n",
    "        # Reconstruct the image from the vectorized data\n",
    "        for i in range(num_samples):\n",
    "            temp_image = np.zeros((nx, ny, nz))\n",
    "            temp_image[mask_indices] = vectorized_data[i]\n",
    "            image_4d[:, :, :, i] = temp_image\n",
    "    else:\n",
    "        # If no mask is provided, reshape the data to the output shape\n",
    "        image_4d = vectorized_data.T.reshape(out_shape)\n",
    "    \n",
    "    return image_4d"
   ],
   "metadata": {
    "collapsed": false,
    "ExecuteTime": {
     "end_time": "2024-05-30T10:05:35.150761Z",
     "start_time": "2024-05-30T10:05:35.124195Z"
    }
   },
   "id": "e49bde071c4c39aa"
  },
  {
   "cell_type": "code",
   "execution_count": 17,
   "outputs": [],
   "source": [
    "def rank_harmonize(data, batch_id, pb=False):\n",
    "    \"\"\"\n",
    "    :param data: n_samples x n_features\n",
    "    :param batch_id:  n_samples\n",
    "    :param pb: switch progressbar on/off\n",
    "    :return: within-batch zero preserving rank harmonized data\n",
    "    \"\"\"\n",
    "    output = np.zeros(data.shape)\n",
    "    pbar = tqdm(np.unique(batch_id), disable=not pb)\n",
    "    for batch in pbar:\n",
    "        pbar.set_description(f'Batch: {batch}')\n",
    "        # get the data for this batch\n",
    "        data_batch = data[batch_id == batch, :]\n",
    "        # for each voxel, determine the ratio if participants with negative values\n",
    "        ratio_neg = np.sum(data_batch<0, axis=0)/data_batch.shape[0]\n",
    "        # do a normalized, zero-preserving rank transformation\n",
    "        ranked = ((rankdata(data_batch, method='average', axis=0)-0.5)/data_batch.shape[0] - ratio_neg)\n",
    "        output[batch_id == batch, :] = ranked\n",
    "    pbar.set_description(f'Done!')\n",
    "    return output"
   ],
   "metadata": {
    "collapsed": false,
    "ExecuteTime": {
     "end_time": "2024-05-30T10:14:10.972317Z",
     "start_time": "2024-05-30T10:14:10.960242Z"
    }
   },
   "id": "efb7ac7cc5abe8c4"
  },
  {
   "cell_type": "code",
   "execution_count": 15,
   "outputs": [
    {
     "data": {
      "text/plain": "(409, 191118)"
     },
     "execution_count": 15,
     "metadata": {},
     "output_type": "execute_result"
    }
   ],
   "source": [
    "data = img2vector(orig_diff.get_fdata(), mask=mask.get_fdata())\n",
    "data.shape"
   ],
   "metadata": {
    "collapsed": false,
    "ExecuteTime": {
     "end_time": "2024-05-30T10:12:41.100244Z",
     "start_time": "2024-05-30T10:12:37.917481Z"
    }
   },
   "id": "5bca9510b242ab52"
  },
  {
   "cell_type": "code",
   "execution_count": 18,
   "outputs": [
    {
     "name": "stderr",
     "output_type": "stream",
     "text": [
      "Batch: zeidan: 100%|██████████| 16/16 [00:10<00:00,  1.47it/s]   \n"
     ]
    }
   ],
   "source": [
    "rank_harmonized = rank_harmonize(data, pheno.Study_ID, pb=True)"
   ],
   "metadata": {
    "collapsed": false,
    "ExecuteTime": {
     "end_time": "2024-05-30T10:14:31.496087Z",
     "start_time": "2024-05-30T10:14:20.566241Z"
    }
   },
   "id": "3b15bf599ab6507f"
  },
  {
   "cell_type": "code",
   "execution_count": 20,
   "outputs": [],
   "source": [
    "rank_harmonized_4d = vector2img(data, out_shape=orig_diff.get_fdata().shape, mask=mask.get_fdata())\n",
    "# write back rank_harmonized to a 4d nifti\n",
    "nib.save(nib.Nifti1Image(rank_harmonized_4d, orig_diff.affine), base_dir + '/all_data_studyranked.nii')"
   ],
   "metadata": {
    "collapsed": false,
    "ExecuteTime": {
     "end_time": "2024-05-30T10:15:51.594048Z",
     "start_time": "2024-05-30T10:15:15.912297Z"
    }
   },
   "id": "c3ee1d8a469442b0"
  },
  {
   "cell_type": "code",
   "execution_count": 23,
   "outputs": [],
   "source": [
    "#                                                 M\n",
    "#                                            (a) / \\ (b)\n",
    "#                                               /   \\   \n",
    "#                                              X ---- Y\n",
    "#                                                (c)\n",
    "# x, y: n_samples\n",
    "# covar: n_samples x n_covariates\n",
    "# m:  n_samples x n_features\n",
    "def mediation(x, y, m, covar=None, y_type='continuous', m_type='continuous'):\n",
    "    from sklearn.linear_model import LinearRegression, LogisticRegression\n",
    "    from sklearn.multioutput import MultiOutputRegressor\n",
    "    \n",
    "    if covar is None:\n",
    "        covar = np.array([])\n",
    "        \n",
    "    # M ~ X + covar\n",
    "    if m_type == \"continuous\":\n",
    "        XM = LinearRegression().fit(X=np.c_[x,covar], y=m).coef_[:,0]\n",
    "    else:\n",
    "        XM = MultiOutputRegressor(LogisticRegression()).fit(X=np.c_[x,covar], y=m).coef_[:,0]\n",
    "        \n",
    "    if y_type == \"continuous\":\n",
    "        # Y ~ M + covar\n",
    "        MY = np.array([LinearRegression().fit(X=np.c_[m[:,i],covar], y=y).coef_[0] for i in range(m.shape[1])])\n",
    "        # Average Total Effects (Y ~ X + covar)\n",
    "        XY = LinearRegression().fit(X=np.c_[x,covar], y=y).coef_[0]\n",
    "        # Average Direct Effects (Y ~ X + M + covar)\n",
    "        XMY = np.array([LinearRegression().fit(X=np.c_[x,m[:,i],covar], y=y).coef_[1] for i in range(m.shape[1])])\n",
    "        \n",
    "    else:\n",
    "        MY = LogisticRegression().fit(X=np.c_[m,covar], y=y)    \n",
    "    return XM * XMY, XM, MY, XY, XMY    "
   ],
   "metadata": {
    "collapsed": false,
    "ExecuteTime": {
     "end_time": "2024-05-30T10:17:54.204649Z",
     "start_time": "2024-05-30T10:17:54.190376Z"
    }
   },
   "id": "bdc502c9d08a5419"
  },
  {
   "cell_type": "code",
   "execution_count": 24,
   "outputs": [
    {
     "name": "stdout",
     "output_type": "stream",
     "text": [
      "CPU times: user 4min 33s, sys: 4.42 s, total: 4min 37s\n",
      "Wall time: 4min 43s\n"
     ]
    }
   ],
   "source": [
    "%%time\n",
    "ACME, XM, MY, XY, XMY = mediation(x=pheno['plc_induction'].to_numpy(),\n",
    "                                  y=pheno['Rating_diff'].to_numpy(),\n",
    "                                  m=rank_harmonized,\n",
    "                                  covar = pheno[['Age','Male']].to_numpy(),\n",
    "                                  m_type='continuous')"
   ],
   "metadata": {
    "collapsed": false,
    "ExecuteTime": {
     "end_time": "2024-05-30T10:22:38.503168Z",
     "start_time": "2024-05-30T10:17:55.070663Z"
    }
   },
   "id": "26aaf655d56a82cc"
  },
  {
   "cell_type": "code",
   "execution_count": 26,
   "outputs": [
    {
     "data": {
      "text/plain": "array([-0.06542304, -0.02941457, -0.1509606 , ...,  0.04381365,\n        0.04788685,  0.03241497])"
     },
     "execution_count": 26,
     "metadata": {},
     "output_type": "execute_result"
    }
   ],
   "source": [
    "ACME"
   ],
   "metadata": {
    "collapsed": false,
    "ExecuteTime": {
     "end_time": "2024-05-30T10:34:48.016681Z",
     "start_time": "2024-05-30T10:34:47.999935Z"
    }
   },
   "id": "678209c5a7193607"
  },
  {
   "cell_type": "code",
   "execution_count": 35,
   "outputs": [],
   "source": [
    "# bootstrap within studies\n",
    "def bootstrap_workhorse(data, pheno, batch_id, stat_fun, random_state=None):\n",
    "    \"\"\"\n",
    "    Generates a single bootstrap sample from data and pheno, so that bootstrapping is done within batches.\n",
    "    Then calls stat_fun with the bootstrapped data and pheno variables.\n",
    "    :param data: numpy array of shape (n_samples, n_features)\n",
    "    :param pheno: pandas dataframe of shape (n_samples,n_phenotypes)\n",
    "    :param batch_id: numpy array of shape (n_samples,)\n",
    "    :param stat_fun: function to be called with the bootstrapped sample. It is aware of pheno columns.\n",
    "    :param random_seed: int or None, random seed for reproducibility\n",
    "    :return: whatever stat_fun returns on the bootstrapped sample\n",
    "    \"\"\"\n",
    "    # Set the random seed in a thread-safe manner\n",
    "    if random_state is not None:\n",
    "        random = np.random.RandomState(random_state) \n",
    "    # Lists to store bootstrapped samples\n",
    "    bootstrapped_data = []\n",
    "    bootstrapped_pheno = []\n",
    "    # Bootstrap within each batch\n",
    "    for batch in np.unique(batch_id):\n",
    "        # Get indices of samples in the current batch\n",
    "        batch_indices = np.where(batch_id == batch)[0]\n",
    "        # Bootstrap sample indices with replacement\n",
    "        sampled_indices = random.choice(batch_indices, size=len(batch_indices), replace=True)   \n",
    "        # Append the bootstrapped samples to the lists\n",
    "        bootstrapped_data.append(data[sampled_indices,:])\n",
    "        bootstrapped_pheno.append(pheno.iloc[sampled_indices,:])  \n",
    "    # Concatenate the bootstrapped samples from all batches\n",
    "    bootstrapped_data = np.concatenate(bootstrapped_data, axis=0)\n",
    "    bootstrapped_pheno = pd.concat(bootstrapped_pheno)\n",
    "    # Call the stat_fun with the bootstrapped data and pheno\n",
    "    return stat_fun(bootstrapped_data, bootstrapped_pheno)"
   ],
   "metadata": {
    "collapsed": false,
    "ExecuteTime": {
     "end_time": "2024-05-30T10:51:14.377146Z",
     "start_time": "2024-05-30T10:51:14.367290Z"
    }
   },
   "id": "eef91caaa231809b"
  },
  {
   "cell_type": "code",
   "execution_count": null,
   "outputs": [],
   "source": [
    "%%time\n",
    "\n",
    "def stat_fun(data, pheno):\n",
    "    return mediation(x=pheno['plc_induction'].to_numpy(),\n",
    "                     y=pheno['Rating_diff'].to_numpy(),\n",
    "                     m=data,\n",
    "                     covar = pheno[['Age','Male']].to_numpy(),\n",
    "                     m_type='continuous')\n",
    "\n",
    "\n",
    "seed = 42 # for reproducibility\n",
    "n_boot=500\n",
    "\n",
    "boot_ACME, boot_XM, boot_MY, boot_XY, boot_XMY = zip(* Parallel(n_jobs=-1)(delayed(\n",
    "    bootstrap_workhorse)(rank_harmonized, pheno, pheno.Study_ID, stat_fun, [i, seed]) for i in range(n_boot)))\n",
    "\n"
   ],
   "metadata": {
    "collapsed": false,
    "is_executing": true,
    "ExecuteTime": {
     "start_time": "2024-05-30T11:58:46.730669Z"
    }
   },
   "id": "6d58c1c62525cc12"
  },
  {
   "cell_type": "code",
   "execution_count": null,
   "outputs": [],
   "source": [
    "sns.histplot(np.array(boot_ACME)[:,])"
   ],
   "metadata": {
    "collapsed": false,
    "is_executing": true,
    "ExecuteTime": {
     "start_time": "2024-05-31T14:48:08.266684Z"
    }
   },
   "id": "afe6ea94d18848df"
  },
  {
   "cell_type": "code",
   "execution_count": 32,
   "outputs": [
    {
     "data": {
      "text/plain": "    Unnamed: 0 Study_ID          Sub_ID     Male   Age  NPS_pain_ctr  \\\n10          10    atlas  atlas_remi1919  0.47619  24.7      7.786752   \n11          11    atlas  atlas_remi2006  0.47619  24.7     13.077266   \n10          10    atlas  atlas_remi1919  0.47619  24.7      7.786752   \n\n    Rating_pain_ctr  Rating_diff Conditioning    TR  ...  \\\n10        81.723471     4.844658  suggestions  2000  ...   \n11        80.393369   -10.808006  suggestions  2000  ...   \n10        81.723471     4.844658  suggestions  2000  ...   \n\n    fear_vicarious_pain_zhou_2020  negative_affect_common_ceko_2022  \\\n10                       0.039574                          0.019286   \n11                       0.029513                         -0.052687   \n10                       0.039574                          0.019286   \n\n   negative_affect_mechanical_ceko_2022  negative_affect_sound_ceko_2022  \\\n10                            -0.048376                         0.004788   \n11                             0.031719                        -0.011603   \n10                            -0.048376                         0.004788   \n\n   negative_affect_thermal_ceko_2022 negative_affect_visual_ceko_2022  \\\n10                          0.034925                         0.023102   \n11                         -0.076372                         0.031192   \n10                          0.034925                         0.023102   \n\n   vifs_fear_picture_zhou_2021  basic_sexual_image_vanthof_2021  \\\n10                    0.022672                         0.107518   \n11                   -0.006818                         0.099542   \n10                    0.022672                         0.107518   \n\n    brs_reward_monetary_speer_2022  plc_induction  \n10                        0.043168              0  \n11                       -0.052959              0  \n10                        0.043168              0  \n\n[3 rows x 44 columns]",
      "text/html": "<div>\n<style scoped>\n    .dataframe tbody tr th:only-of-type {\n        vertical-align: middle;\n    }\n\n    .dataframe tbody tr th {\n        vertical-align: top;\n    }\n\n    .dataframe thead th {\n        text-align: right;\n    }\n</style>\n<table border=\"1\" class=\"dataframe\">\n  <thead>\n    <tr style=\"text-align: right;\">\n      <th></th>\n      <th>Unnamed: 0</th>\n      <th>Study_ID</th>\n      <th>Sub_ID</th>\n      <th>Male</th>\n      <th>Age</th>\n      <th>NPS_pain_ctr</th>\n      <th>Rating_pain_ctr</th>\n      <th>Rating_diff</th>\n      <th>Conditioning</th>\n      <th>TR</th>\n      <th>...</th>\n      <th>fear_vicarious_pain_zhou_2020</th>\n      <th>negative_affect_common_ceko_2022</th>\n      <th>negative_affect_mechanical_ceko_2022</th>\n      <th>negative_affect_sound_ceko_2022</th>\n      <th>negative_affect_thermal_ceko_2022</th>\n      <th>negative_affect_visual_ceko_2022</th>\n      <th>vifs_fear_picture_zhou_2021</th>\n      <th>basic_sexual_image_vanthof_2021</th>\n      <th>brs_reward_monetary_speer_2022</th>\n      <th>plc_induction</th>\n    </tr>\n  </thead>\n  <tbody>\n    <tr>\n      <th>10</th>\n      <td>10</td>\n      <td>atlas</td>\n      <td>atlas_remi1919</td>\n      <td>0.47619</td>\n      <td>24.7</td>\n      <td>7.786752</td>\n      <td>81.723471</td>\n      <td>4.844658</td>\n      <td>suggestions</td>\n      <td>2000</td>\n      <td>...</td>\n      <td>0.039574</td>\n      <td>0.019286</td>\n      <td>-0.048376</td>\n      <td>0.004788</td>\n      <td>0.034925</td>\n      <td>0.023102</td>\n      <td>0.022672</td>\n      <td>0.107518</td>\n      <td>0.043168</td>\n      <td>0</td>\n    </tr>\n    <tr>\n      <th>11</th>\n      <td>11</td>\n      <td>atlas</td>\n      <td>atlas_remi2006</td>\n      <td>0.47619</td>\n      <td>24.7</td>\n      <td>13.077266</td>\n      <td>80.393369</td>\n      <td>-10.808006</td>\n      <td>suggestions</td>\n      <td>2000</td>\n      <td>...</td>\n      <td>0.029513</td>\n      <td>-0.052687</td>\n      <td>0.031719</td>\n      <td>-0.011603</td>\n      <td>-0.076372</td>\n      <td>0.031192</td>\n      <td>-0.006818</td>\n      <td>0.099542</td>\n      <td>-0.052959</td>\n      <td>0</td>\n    </tr>\n    <tr>\n      <th>10</th>\n      <td>10</td>\n      <td>atlas</td>\n      <td>atlas_remi1919</td>\n      <td>0.47619</td>\n      <td>24.7</td>\n      <td>7.786752</td>\n      <td>81.723471</td>\n      <td>4.844658</td>\n      <td>suggestions</td>\n      <td>2000</td>\n      <td>...</td>\n      <td>0.039574</td>\n      <td>0.019286</td>\n      <td>-0.048376</td>\n      <td>0.004788</td>\n      <td>0.034925</td>\n      <td>0.023102</td>\n      <td>0.022672</td>\n      <td>0.107518</td>\n      <td>0.043168</td>\n      <td>0</td>\n    </tr>\n  </tbody>\n</table>\n<p>3 rows × 44 columns</p>\n</div>"
     },
     "execution_count": 32,
     "metadata": {},
     "output_type": "execute_result"
    }
   ],
   "source": [
    "pheno.iloc[[10,11,10]]"
   ],
   "metadata": {
    "collapsed": false,
    "ExecuteTime": {
     "end_time": "2024-05-30T10:43:04.945091Z",
     "start_time": "2024-05-30T10:43:02.869860Z"
    }
   },
   "id": "c9c90954236fb8ec"
  },
  {
   "cell_type": "code",
   "execution_count": null,
   "outputs": [],
   "source": [],
   "metadata": {
    "collapsed": false
   },
   "id": "bea7a4b727a9256a"
  }
 ],
 "metadata": {
  "kernelspec": {
   "display_name": "Python 3",
   "language": "python",
   "name": "python3"
  },
  "language_info": {
   "codemirror_mode": {
    "name": "ipython",
    "version": 2
   },
   "file_extension": ".py",
   "mimetype": "text/x-python",
   "name": "python",
   "nbconvert_exporter": "python",
   "pygments_lexer": "ipython2",
   "version": "2.7.6"
  }
 },
 "nbformat": 4,
 "nbformat_minor": 5
}
