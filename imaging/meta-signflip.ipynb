{
 "cells": [
  {
   "metadata": {},
   "cell_type": "markdown",
   "source": "# Mediation analysis with sign-flipping and study wise zero-preserving quantile harmonization\n",
   "id": "481dc1891533b05a"
  },
  {
   "metadata": {},
   "cell_type": "markdown",
   "source": "## Imports and loading data\n",
   "id": "38495a5224ad5468"
  },
  {
   "cell_type": "code",
   "id": "initial_id",
   "metadata": {
    "collapsed": true,
    "jupyter": {
     "outputs_hidden": true
    },
    "ExecuteTime": {
     "end_time": "2024-07-17T12:59:55.199768Z",
     "start_time": "2024-07-17T12:59:55.039822Z"
    }
   },
   "source": [
    "import numpy as np\n",
    "from scipy.stats import rankdata\n",
    "import pandas as pd\n",
    "import nibabel as nib\n",
    "import seaborn as sns\n",
    "import matplotlib.pyplot as plt\n",
    "from sklearn.preprocessing import QuantileTransformer\n",
    "from joblib import Parallel, delayed\n",
    "from tqdm import tqdm\n",
    "\n",
    "base_dir = '/Users/tspisak/data/PIC_conditioning_withinsub_nodatalad'\n",
    "pheno = pd.read_csv(base_dir + '/signatures.csv')\n",
    "orig_diff = nib.load(base_dir + '/all_data.nii')\n",
    "mask = nib.load(base_dir + '/full_masked_10_percent.nii')\n",
    "\n",
    "# convert x to categorical and get integer representation\n",
    "pheno['plc_induction'] = pheno['Conditioning'].astype('category').cat.codes\n",
    "pheno['Rating_diff'] = -1*pheno['Rating_diff']   # higher score stronger placebo"
   ],
   "outputs": [],
   "execution_count": 1
  },
  {
   "metadata": {},
   "cell_type": "markdown",
   "source": "## Simple helper functions",
   "id": "11407ecab8040933"
  },
  {
   "cell_type": "code",
   "id": "e49bde071c4c39aa",
   "metadata": {
    "collapsed": false,
    "jupyter": {
     "outputs_hidden": false
    },
    "ExecuteTime": {
     "end_time": "2024-07-16T05:30:06.776479Z",
     "start_time": "2024-07-16T05:30:06.773149Z"
    }
   },
   "source": [
    "def img2vector(image_4d, mask=None):\n",
    "    \"\"\"\n",
    "    :param image_4d: 4d numpy.array of shape (nx, ny, nz, num_samples)\n",
    "    :param mask: 3d numpy array (nx, ny, nz)\n",
    "    :return: numpy.array (num_samples, n_within_mask_voxels)\n",
    "    \"\"\"\n",
    "    if mask is not None:\n",
    "        vectorized = image_4d[mask>0].transpose()\n",
    "    else:\n",
    "        vectorized = image_4d.reshape(-1, image_4d.shape[-1]).transpose()\n",
    "    return vectorized\n",
    "    \n",
    "        \n",
    "def vector2img(vectorized_data, out_shape, mask=None):\n",
    "    \"\"\"\n",
    "    :param vectorized_data: (num_samples, n_features)\n",
    "    :param out_shape: (nx, ny, nz, num_samples)\n",
    "    :param mask: 3d numpy array (nx, ny, nz)\n",
    "    :return: 4d numpy.array of shape (nx, ny, nz, num_samples)\n",
    "    \"\"\"\n",
    "    nx, ny, nz, num_samples = out_shape\n",
    "    if mask is not None:\n",
    "        # Create an empty array with the desired output shape\n",
    "        image_4d = np.zeros(out_shape)\n",
    "        \n",
    "        # Get the indices of the mask where the value is greater than 0\n",
    "        mask_indices = np.where(mask > 0)\n",
    "        \n",
    "        # Reconstruct the image from the vectorized data\n",
    "        for i in range(num_samples):\n",
    "            temp_image = np.zeros((nx, ny, nz))\n",
    "            temp_image[mask_indices] = vectorized_data[i]\n",
    "            image_4d[:, :, :, i] = temp_image\n",
    "    else:\n",
    "        # If no mask is provided, reshape the data to the output shape\n",
    "        image_4d = vectorized_data.T.reshape(out_shape)\n",
    "    \n",
    "    return image_4d\n",
    "\n",
    "def vec2img3d(vectorized_data, mask):\n",
    "    temp_image = np.zeros(mask.shape)\n",
    "    temp_image[np.where(mask > 0)] = vectorized_data\n",
    "    return temp_image"
   ],
   "outputs": [],
   "execution_count": 2
  },
  {
   "metadata": {},
   "cell_type": "markdown",
   "source": "## Harmonization: zero-preserving quantile normalization",
   "id": "7c705cfaed93a522"
  },
  {
   "cell_type": "code",
   "id": "efb7ac7cc5abe8c4",
   "metadata": {
    "collapsed": false,
    "jupyter": {
     "outputs_hidden": false
    },
    "ExecuteTime": {
     "end_time": "2024-07-16T05:30:06.779677Z",
     "start_time": "2024-07-16T05:30:06.777162Z"
    }
   },
   "source": [
    "def rank_harmonize(data, batch_id, pb=False):\n",
    "    \"\"\"\n",
    "    :param data: n_samples x n_features\n",
    "    :param batch_id:  n_samples\n",
    "    :param pb: switch progressbar on/off\n",
    "    :return: within-batch zero preserving rank harmonized data\n",
    "    \"\"\"\n",
    "    output = np.zeros(data.shape)\n",
    "    pbar = tqdm(np.unique(batch_id), disable=not pb)\n",
    "    for batch in pbar:\n",
    "        pbar.set_description(f'Batch: {batch}')\n",
    "        # get the data for this batch\n",
    "        data_batch = data[batch_id == batch, :]\n",
    "        # for each voxel, determine the ratio if participants with negative values\n",
    "        ratio_neg = np.sum(data_batch<0, axis=0)/data_batch.shape[0]\n",
    "        # do a normalized, zero-preserving rank transformation\n",
    "        ranked = ((rankdata(data_batch, method='average', axis=0)-0.5)/data_batch.shape[0] - ratio_neg)\n",
    "        output[batch_id == batch, :] = ranked\n",
    "    pbar.set_description(f'Done!')\n",
    "    return output"
   ],
   "outputs": [],
   "execution_count": 3
  },
  {
   "metadata": {},
   "cell_type": "markdown",
   "source": "## Mask and vectorize data\n",
   "id": "7bdac5f8fabfc42e"
  },
  {
   "cell_type": "code",
   "id": "5bca9510b242ab52",
   "metadata": {
    "collapsed": false,
    "jupyter": {
     "outputs_hidden": false
    },
    "ExecuteTime": {
     "end_time": "2024-07-16T05:30:09.660803Z",
     "start_time": "2024-07-16T05:30:06.780808Z"
    }
   },
   "source": [
    "data = img2vector(orig_diff.get_fdata(), mask=mask.get_fdata())\n",
    "data.shape"
   ],
   "outputs": [
    {
     "data": {
      "text/plain": [
       "(409, 191118)"
      ]
     },
     "execution_count": 4,
     "metadata": {},
     "output_type": "execute_result"
    }
   ],
   "execution_count": 4
  },
  {
   "metadata": {},
   "cell_type": "markdown",
   "source": "## Harmonize data",
   "id": "514978e5c5d019b0"
  },
  {
   "metadata": {
    "ExecuteTime": {
     "end_time": "2024-07-16T05:30:12.543889Z",
     "start_time": "2024-07-16T05:30:09.661529Z"
    }
   },
   "cell_type": "code",
   "source": "rank_harmonized = rank_harmonize(data, pheno.Study_ID, pb=True)",
   "id": "3b15bf599ab6507f",
   "outputs": [
    {
     "name": "stderr",
     "output_type": "stream",
     "text": [
      "Batch: zeidan: 100%|██████████| 16/16 [00:02<00:00,  5.59it/s]   \n"
     ]
    }
   ],
   "execution_count": 5
  },
  {
   "metadata": {},
   "cell_type": "markdown",
   "source": "## Convert back and save",
   "id": "af8a45106466af48"
  },
  {
   "cell_type": "code",
   "id": "c3ee1d8a469442b0",
   "metadata": {
    "collapsed": false,
    "jupyter": {
     "outputs_hidden": false
    },
    "ExecuteTime": {
     "end_time": "2024-07-16T05:30:23.182667Z",
     "start_time": "2024-07-16T05:30:12.544808Z"
    }
   },
   "source": [
    "rank_harmonized_4d = vector2img(data, out_shape=orig_diff.get_fdata().shape, mask=mask.get_fdata())\n",
    "# write back rank_harmonized to a 4d nifti\n",
    "nib.save(nib.Nifti1Image(rank_harmonized_4d, orig_diff.affine), base_dir + '/all_data_studyranked.nii')"
   ],
   "outputs": [],
   "execution_count": 6
  },
  {
   "metadata": {},
   "cell_type": "markdown",
   "source": [
    "## Mediation analysis\n",
    "*(see end of notebook for validation against pingouin)*"
   ],
   "id": "223a2bbe2e565fd4"
  },
  {
   "cell_type": "code",
   "id": "bdc502c9d08a5419",
   "metadata": {
    "collapsed": false,
    "jupyter": {
     "outputs_hidden": false
    },
    "ExecuteTime": {
     "end_time": "2024-07-16T05:30:23.187314Z",
     "start_time": "2024-07-16T05:30:23.183530Z"
    }
   },
   "source": [
    "#                                                 M\n",
    "#                                            (a) / \\ (b)\n",
    "#                                               /   \\   \n",
    "#                                              X ---- Y\n",
    "#                                                (c)\n",
    "# x, y: n_samples\n",
    "# covar: n_samples x n_covariates\n",
    "# m:  n_samples x n_features\n",
    "def mediation(x, y, m, covar=None, y_type='continuous', m_type='continuous'):\n",
    "    from sklearn.linear_model import LinearRegression, LogisticRegression\n",
    "    from sklearn.multioutput import MultiOutputRegressor\n",
    "    \n",
    "    if covar is None:\n",
    "        covar = np.array([])\n",
    "        \n",
    "    # M ~ X + covar\n",
    "    if m_type == \"continuous\":\n",
    "        XM = LinearRegression().fit(X=np.c_[x,covar], y=m).coef_[:,0]\n",
    "    else:\n",
    "        XM = MultiOutputRegressor(LogisticRegression()).fit(X=np.c_[x,covar], y=m).coef_[:,0]\n",
    "        \n",
    "    if y_type == \"continuous\":\n",
    "        # Y ~ M + covar\n",
    "        MY = np.array([LinearRegression().fit(X=np.c_[m[:,i],covar], y=y).coef_[0] for i in range(m.shape[1])])\n",
    "        # Average Total Effects (Y ~ X + covar)\n",
    "        XY = LinearRegression().fit(X=np.c_[x,covar], y=y).coef_[0]\n",
    "        # Average Direct Effects (Y ~ X + M + covar)\n",
    "        XMY_coefs = np.array([LinearRegression().fit(X=np.c_[x,m[:,i],covar], y=y).coef_ for i in range(m.shape[1])])\n",
    "        \n",
    "    else:\n",
    "        MY = LogisticRegression().fit(X=np.c_[m,covar], y=y)    \n",
    "    return XM * XMY_coefs[:, 1], XM, MY, XY, XMY_coefs[:, 2]    "
   ],
   "outputs": [],
   "execution_count": 7
  },
  {
   "cell_type": "code",
   "id": "26aaf655d56a82cc",
   "metadata": {
    "collapsed": false,
    "jupyter": {
     "outputs_hidden": false
    },
    "ExecuteTime": {
     "end_time": "2024-07-16T05:31:32.663130Z",
     "start_time": "2024-07-16T05:30:23.188047Z"
    }
   },
   "source": [
    "%%time\n",
    "ACME, XM, MY, XY, XMY = mediation(x=pheno['plc_induction'].to_numpy(),\n",
    "                                  y=pheno['Rating_diff'].to_numpy(),\n",
    "                                  m=rank_harmonized,\n",
    "                                  covar = pheno[['Age','Male']].to_numpy(),\n",
    "                                  m_type='continuous')"
   ],
   "outputs": [
    {
     "name": "stdout",
     "output_type": "stream",
     "text": [
      "CPU times: user 1min 9s, sys: 6.76 s, total: 1min 16s\n",
      "Wall time: 1min 9s\n"
     ]
    }
   ],
   "execution_count": 8
  },
  {
   "cell_type": "code",
   "id": "678209c5a7193607",
   "metadata": {
    "collapsed": false,
    "jupyter": {
     "outputs_hidden": false
    },
    "ExecuteTime": {
     "end_time": "2024-07-16T05:31:32.666293Z",
     "start_time": "2024-07-16T05:31:32.663916Z"
    }
   },
   "source": [
    "ACME"
   ],
   "outputs": [
    {
     "data": {
      "text/plain": [
       "array([-0.06542304, -0.02941457, -0.1509606 , ...,  0.04381365,\n",
       "        0.04788685,  0.03241497])"
      ]
     },
     "execution_count": 9,
     "metadata": {},
     "output_type": "execute_result"
    }
   ],
   "execution_count": 9
  },
  {
   "metadata": {},
   "cell_type": "markdown",
   "source": "## Create workhorse function for sign-flipping",
   "id": "76f3fa4ad1bb273f"
  },
  {
   "cell_type": "code",
   "id": "eef91caaa231809b",
   "metadata": {
    "collapsed": false,
    "jupyter": {
     "outputs_hidden": false
    },
    "ExecuteTime": {
     "end_time": "2024-07-16T05:31:32.670404Z",
     "start_time": "2024-07-16T05:31:32.668257Z"
    }
   },
   "source": [
    "# bootstrap within studies\n",
    "def signflip_workhorse(data, pheno, stat_fun, random_state=None):\n",
    "    \"\"\"\n",
    "    Generates a single sign-flipped sample from data and pheno, assumes symmetric errors.\n",
    "    Then calls stat_fun with the sign-flipped data and pheno variables.\n",
    "    :param data: numpy array of shape (n_samples, n_features)\n",
    "    :param pheno: pandas dataframe of shape (n_samples,n_phenotypes)\n",
    "    :param stat_fun: function to be called with the bootstrapped sample. It is aware of pheno columns.\n",
    "    :param random_seed: int or None, random seed for reproducibility\n",
    "    :return: whatever stat_fun returns on the bootstrapped sample\n",
    "    \"\"\"\n",
    "    # Set the random seed in a thread-safe manner\n",
    "    if random_state is not None:\n",
    "        random = np.random.RandomState(random_state)   \n",
    "    # sign-flip random participants and\n",
    "    # call the stat_fun with the sign-flipped data, pheno is unchanged\n",
    "    return stat_fun(data * random.choice((-1,1), data.shape[0]).reshape(-1,1), pheno)"
   ],
   "outputs": [],
   "execution_count": 10
  },
  {
   "metadata": {},
   "cell_type": "markdown",
   "source": "## Run sign-flipping",
   "id": "cf28aef6623d42ae"
  },
  {
   "cell_type": "code",
   "id": "6d58c1c62525cc12",
   "metadata": {
    "collapsed": false,
    "is_executing": true,
    "jupyter": {
     "outputs_hidden": false
    },
    "ExecuteTime": {
     "end_time": "2024-07-16T07:22:45.389833Z",
     "start_time": "2024-07-16T05:31:32.670959Z"
    }
   },
   "source": [
    "%%time\n",
    "\n",
    "def stat_fun(data, pheno):\n",
    "    rank_harmonized = rank_harmonize(data, pheno.Study_ID, pb=False)\n",
    "    return mediation(x=pheno['plc_induction'].to_numpy(),\n",
    "                     y=pheno['Rating_diff'].to_numpy(),\n",
    "                     m=rank_harmonized,\n",
    "                     covar = pheno[['Age','Male']].to_numpy(),\n",
    "                     m_type='continuous')\n",
    "\n",
    "\n",
    "seed = 42 # for reproducibility\n",
    "n_perm = 1000\n",
    "\n",
    "null_ACME, null_XM, null_MY, null_XY, null_XMY = zip(* Parallel(n_jobs=-1, timeout=99999)(delayed(\n",
    "    signflip_workhorse)(data, pheno, stat_fun, [i, seed]) for i in range(n_perm)))\n",
    "\n",
    "# save boot_ACME, boot_XM, boot_MY, boot_XY, boot_XMY\n",
    "null_dist = {\n",
    "    \"PathA(XM)\": np.array(null_XM),\n",
    "    \"PathB(MY)\": np.array(null_MY),\n",
    "    \"Total(XY)\": np.array(null_XY),\n",
    "    \"Indirect(ACME)\": np.array(null_ACME),\n",
    "    \"Direct(Total-Indirect)\": np.array(null_XY)[:, np.newaxis] - np.array(null_ACME),\n",
    "}\n",
    "np.save(base_dir + '/mediation_signflipped_null_dist.npy', null_dist)"
   ],
   "outputs": [
    {
     "name": "stderr",
     "output_type": "stream",
     "text": [
      "/Users/tspisak/src/placebo-conditioning-meta-analysis/venv/lib/python3.9/site-packages/joblib/externals/loky/process_executor.py:752: UserWarning: A worker stopped while some jobs were given to the executor. This can be caused by a too short worker timeout or by a memory leak.\n",
      "  warnings.warn(\n"
     ]
    },
    {
     "name": "stdout",
     "output_type": "stream",
     "text": [
      "CPU times: user 14 s, sys: 14 s, total: 28 s\n",
      "Wall time: 1h 51min 12s\n"
     ]
    }
   ],
   "execution_count": 11
  },
  {
   "metadata": {
    "ExecuteTime": {
     "end_time": "2024-07-16T07:22:46.218202Z",
     "start_time": "2024-07-16T07:22:45.395569Z"
    }
   },
   "cell_type": "code",
   "source": "null_dist = np.load(base_dir + '/mediation_signflipped_null_dist.npy', allow_pickle=True).item()",
   "id": "64706b29f9d1d54a",
   "outputs": [],
   "execution_count": 12
  },
  {
   "metadata": {},
   "cell_type": "markdown",
   "source": [
    "## Calculate more accurate small p-values with tail approximation\n",
    "### Implementation of tail approximation"
   ],
   "id": "b9d758fc34db7cb4"
  },
  {
   "cell_type": "code",
   "id": "160a684515ca78ce",
   "metadata": {
    "ExecuteTime": {
     "end_time": "2024-07-16T07:22:46.233425Z",
     "start_time": "2024-07-16T07:22:46.219459Z"
    }
   },
   "source": [
    "import scipy.stats as stats\n",
    "\n",
    "def tail_approx(null_data, extreme_value, tail_ratios = (0.30, 0.25, 0.20, 0.15, 0.1), verbose=False):\n",
    "    \n",
    "    onetailed_pval = ((np.sum(null_data>=extreme_value)+1) \n",
    "                             / (null_data.shape[0] + 1))\n",
    "    twotailed_pval = ((np.sum(np.abs(null_data)>=np.abs(extreme_value))+1) \n",
    "                             / (null_data.shape[0] + 1))\n",
    "    \n",
    "    # negate data if we need the lower tail\n",
    "    if onetailed_pval > min(tail_ratios): # it's not in the right tail\n",
    "        if onetailed_pval < 1 - min(tail_ratios): # it's not in the left tail\n",
    "            return {'pval_original': twotailed_pval,\n",
    "            'pval_pareto': twotailed_pval,\n",
    "            'goodness_of_fit': np.nan,\n",
    "            'tail_threshold': np.nan,\n",
    "            'gpd_c': np.nan,\n",
    "            'gpd_loc': np.nan,\n",
    "            'gpd_scale': np.nan,\n",
    "            'best_tail_ratio': np.nan\n",
    "            }\n",
    "        else: # it's in the lower tail, we must flip the distribution\n",
    "            null_data *= -1\n",
    "            extreme_value *= -1\n",
    "    # else it's in the right tail, nothing to do\n",
    "        \n",
    "    if verbose:\n",
    "        print(f\"One-tailed p-value {onetailed_pval}\")\n",
    "    # tails can vary, get the best fit\n",
    "    best_threshold = np.nan\n",
    "    best_tail_ratio = None\n",
    "    best_pval = np.inf\n",
    "    best_gof = -1\n",
    "    best_c = np.nan\n",
    "    best_loc = np.nan\n",
    "    best_scale = np.nan\n",
    "    for tail_ratio in tail_ratios:\n",
    "        # identify tail threshold\n",
    "        threshold = np.quantile(null_data, 1-tail_ratio)\n",
    "        # Identify the upper tail\n",
    "        tail_data = null_data[null_data > threshold]\n",
    "        # Fit the Generalized Pareto Distribution (GPD)\n",
    "        c, loc, scale = stats.genpareto.fit(tail_data - threshold)\n",
    "        # calculate the p-value\n",
    "        excess_value = extreme_value - threshold\n",
    "        p_value = (1 - stats.genpareto.cdf(excess_value, c, loc=loc, scale=scale)) * tail_ratio # we mltiply by the tail ratio to account for the fact that we only consider the tail\n",
    "        \n",
    "        # get the KS stat\n",
    "        gof = stats.goodness_of_fit(stats.genpareto ,tail_data, known_params={'c': c,\n",
    "                                                                        'loc': loc, \n",
    "                                                                        'scale': scale}, \n",
    "                                     random_state=42,\n",
    "                                     statistic='ks').statistic\n",
    "        \n",
    "        if verbose:\n",
    "            print(f\"P-value with tail ratio {tail_ratio}: {p_value}     Goodness-of-fit: {gof}\")\n",
    "        \n",
    "        if gof > best_gof:\n",
    "            best_gof = gof\n",
    "            best_threshold = threshold\n",
    "            best_pval = p_value\n",
    "            best_c = c\n",
    "            best_loc = loc\n",
    "            best_scale = scale\n",
    "            best_tail_ratio = tail_ratio\n",
    "            \n",
    "    if best_pval == 0: # handle underflow\n",
    "        best_pval = np.finfo(np.float64).tiny\n",
    "            \n",
    "    if verbose:\n",
    "        # Plot the distribution of bootstrap correlations\n",
    "        plt.hist(null_data, bins=30, edgecolor='k', alpha=0.7, density=True)\n",
    "        plt.title('Tail Approximation')\n",
    "        plt.xlabel('Test Statistic')\n",
    "        plt.ylabel('Frequency')\n",
    "            \n",
    "        # Plot the fitted GPD versus the empirical tail data\n",
    "        x = np.linspace(best_threshold, np.max((null_data.max(), extreme_value)), 100)\n",
    "        y = stats.genpareto.pdf(x - best_threshold, best_c, loc=best_loc, scale=best_scale)\n",
    "        plt.plot(x, y*best_tail_ratio, 'r-', lw=2, label='Fitted GPD')\n",
    "        plt.axvline(extreme_value, color='r')\n",
    "        \n",
    "    return {'pval_original': twotailed_pval,\n",
    "            'pval_pareto': best_pval*2,\n",
    "            'goodness_of_fit': best_gof,\n",
    "            'tail_threshold': best_threshold,\n",
    "            'gpd_c': best_c,\n",
    "            'gpd_loc': best_loc,\n",
    "            'gpd_scale': best_scale,\n",
    "            'best_tail_ratio': best_tail_ratio\n",
    "            }\n"
   ],
   "outputs": [],
   "execution_count": 13
  },
  {
   "cell_type": "code",
   "id": "f3d18342ce0600b9",
   "metadata": {
    "ExecuteTime": {
     "end_time": "2024-07-16T07:22:47.380791Z",
     "start_time": "2024-07-16T07:22:46.234124Z"
    }
   },
   "source": [
    "# test it\n",
    "tail_approx(null_dist['Indirect(ACME)'][:,50722], ACME[50722], verbose=True)"
   ],
   "outputs": [
    {
     "name": "stdout",
     "output_type": "stream",
     "text": [
      "One-tailed p-value 0.984015984015984\n",
      "P-value with tail ratio 0.3: 0.014783495272630863     Goodness-of-fit: 0.30524266754924584\n",
      "P-value with tail ratio 0.25: 0.014802040311880371     Goodness-of-fit: 0.379068268702351\n",
      "P-value with tail ratio 0.2: 0.016950670799765376     Goodness-of-fit: 0.4461667918440342\n",
      "P-value with tail ratio 0.15: 0.015099603129281096     Goodness-of-fit: 0.594453229610959\n",
      "P-value with tail ratio 0.1: 0.016608337529215356     Goodness-of-fit: 0.674990344609306\n"
     ]
    },
    {
     "data": {
      "text/plain": [
       "{'pval_original': 0.03696303696303696,\n",
       " 'pval_pareto': 0.03321667505843071,\n",
       " 'goodness_of_fit': 0.674990344609306,\n",
       " 'tail_threshold': 0.16240779655271337,\n",
       " 'gpd_c': -0.12733664647409176,\n",
       " 'gpd_loc': 0.0012121421365339515,\n",
       " 'gpd_scale': 0.15509051537673924,\n",
       " 'best_tail_ratio': 0.1}"
      ]
     },
     "execution_count": 14,
     "metadata": {},
     "output_type": "execute_result"
    },
    {
     "data": {
      "text/plain": [
       "<Figure size 640x480 with 1 Axes>"
      ],
      "image/png": "[encoded data removed]"
     },
     "metadata": {},
     "output_type": "display_data"
    }
   ],
   "execution_count": 14
  },
  {
   "metadata": {},
   "cell_type": "markdown",
   "source": "## Do tail approximation for all voxels",
   "id": "d0833230998a30a5"
  },
  {
   "metadata": {
    "ExecuteTime": {
     "end_time": "2024-07-16T14:04:01.403076Z",
     "start_time": "2024-07-16T09:12:38.249728Z"
    }
   },
   "cell_type": "code",
   "source": [
    "from scipy.stats import false_discovery_control\n",
    "\n",
    "observed = {\n",
    "    \"PathA(XM)\": XM,\n",
    "    \"PathB(MY)\": MY,\n",
    "    \"Total(XY)\": XY,\n",
    "    \"Indirect(ACME)\": ACME,\n",
    "    \"Direct(Total-Indirect)\": XY - ACME,\n",
    "}\n",
    "\n",
    "tail_approximated = {}\n",
    "fdr_qvals = {}\n",
    "\n",
    "for key in null_dist.keys():\n",
    "    print(f'Calculating FDR q-values for {key}')\n",
    "    if key=='Total(XY)': #no voxel data:\n",
    "        continue\n",
    "    tail_approximated[key] = pd.DataFrame(\n",
    "        Parallel(n_jobs=-1, timeout=99999)(delayed(tail_approx)(null_dist[key][:,vox_idx],\n",
    "                                                                    observed[key][vox_idx]) for vox_idx in range(null_dist[key].shape[1]))\n",
    "        )\n",
    "    fdr_qvals[key] = false_discovery_control(tail_approximated[key].pval_pareto, method=\"bh\")\n"
   ],
   "id": "6e54983d88ef5cee",
   "outputs": [
    {
     "name": "stdout",
     "output_type": "stream",
     "text": [
      "Calculating FDR q-values for PathA(XM)\n"
     ]
    },
    {
     "name": "stderr",
     "output_type": "stream",
     "text": [
      "/Users/tspisak/src/placebo-conditioning-meta-analysis/venv/lib/python3.9/site-packages/joblib/externals/loky/process_executor.py:752: UserWarning: A worker stopped while some jobs were given to the executor. This can be caused by a too short worker timeout or by a memory leak.\n",
      "  warnings.warn(\n"
     ]
    },
    {
     "name": "stdout",
     "output_type": "stream",
     "text": [
      "Calculating FDR q-values for PathB(MY)\n",
      "Calculating FDR q-values for Total(XY)\n",
      "Calculating FDR q-values for Indirect(ACME)\n",
      "Calculating FDR q-values for Direct(Total-Indirect)\n"
     ]
    }
   ],
   "execution_count": 17
  },
  {
   "metadata": {},
   "cell_type": "markdown",
   "source": [
    "## Save results as nifiti files\n",
    "\n",
    "*(See visualization in separate notebook)*"
   ],
   "id": "be5179d4e155dbf8"
  },
  {
   "cell_type": "code",
   "id": "f916cdb82cce80ea",
   "metadata": {
    "ExecuteTime": {
     "end_time": "2024-07-16T15:19:06.553021Z",
     "start_time": "2024-07-16T15:19:06.152235Z"
    }
   },
   "source": [
    "import os\n",
    "out_dir = base_dir + '/mediation_signflipped_quantile0'\n",
    "os.makedirs(out_dir, exist_ok=True)\n",
    "# save results\n",
    "for key in fdr_qvals.keys():\n",
    "    print(key, np.min(fdr_qvals[key]), np.sum(fdr_qvals[key] < 0.05))\n",
    "    # coefficient map\n",
    "    nib.save(nib.Nifti2Image(vec2img3d(observed[key], mask.get_fdata()), affine=mask.affine),\n",
    "             out_dir + F'/beta_{key}.nii.gz')\n",
    "    # -log uncorrp\n",
    "    nib.save(nib.Nifti2Image(vec2img3d(-np.log10(tail_approximated[key].pval_original), mask.get_fdata()), affine=mask.affine),\n",
    "             out_dir + F'/uncorr_logp_{key}.nii.gz')\n",
    "    # -log fdrq\n",
    "    nib.save(nib.Nifti2Image(vec2img3d(-np.log10(fdr_qvals[key]), mask.get_fdata()), affine=mask.affine),\n",
    "             out_dir + F'/fdr_logq_{key}.nii.gz')\n",
    "    # thresholded map\n",
    "    res = np.zeros_like(fdr_qvals[key])\n",
    "    res[tail_approximated[key].pval_original<0.01] = 1\n",
    "    res[fdr_qvals[key]<0.05] = 2\n",
    "    res[observed[key]<0] *= -1\n",
    "    nib.save(nib.Nifti2Image(vec2img3d(res, mask.get_fdata()), affine=mask.affine),\n",
    "             out_dir + F'/thres_{key}.nii.gz')"
   ],
   "outputs": [
    {
     "name": "stdout",
     "output_type": "stream",
     "text": [
      "PathA(XM) 1.1493288261896739e-304 122\n",
      "PathB(MY) 6.031938520428075e-305 304\n",
      "Indirect(ACME) 5.670022209202391e-304 59\n",
      "Direct(Total-Indirect) 4.252516656901793e-303 9\n"
     ]
    }
   ],
   "execution_count": 19
  },
  {
   "metadata": {},
   "cell_type": "markdown",
   "source": "## Validate the implementation against pingouin",
   "id": "f1c4ccfe6c1e95cd"
  },
  {
   "cell_type": "code",
   "id": "ab7b1449a894b969",
   "metadata": {
    "ExecuteTime": {
     "end_time": "2024-07-16T15:20:26.884722Z",
     "start_time": "2024-07-16T15:19:11.057520Z"
    }
   },
   "source": [
    "ACME, Xm, My, Xy, Xmy = mediation(x=pheno['plc_induction'].to_numpy(),\n",
    "                                  y=pheno['Rating_diff'].to_numpy(),\n",
    "                                  m=rank_harmonized,\n",
    "                                  covar = pheno[['Age','Male']].to_numpy(),\n",
    "                                  m_type='continuous')\n",
    "pd.DataFrame({'Xm': [Xm[182]], \n",
    "              'My': [My[182]], \n",
    "              'Total': [Xy], \n",
    "              'Direct': [Xy-ACME[182]], \n",
    "              'Indirect': [ACME[182]]})"
   ],
   "outputs": [
    {
     "data": {
      "text/plain": [
       "         Xm        My     Total    Direct  Indirect\n",
       "0 -0.103466 -9.148401  2.194774  1.277521  0.917253"
      ],
      "text/html": [
       "<div>\n",
       "<style scoped>\n",
       "    .dataframe tbody tr th:only-of-type {\n",
       "        vertical-align: middle;\n",
       "    }\n",
       "\n",
       "    .dataframe tbody tr th {\n",
       "        vertical-align: top;\n",
       "    }\n",
       "\n",
       "    .dataframe thead th {\n",
       "        text-align: right;\n",
       "    }\n",
       "</style>\n",
       "<table border=\"1\" class=\"dataframe\">\n",
       "  <thead>\n",
       "    <tr style=\"text-align: right;\">\n",
       "      <th></th>\n",
       "      <th>Xm</th>\n",
       "      <th>My</th>\n",
       "      <th>Total</th>\n",
       "      <th>Direct</th>\n",
       "      <th>Indirect</th>\n",
       "    </tr>\n",
       "  </thead>\n",
       "  <tbody>\n",
       "    <tr>\n",
       "      <th>0</th>\n",
       "      <td>-0.103466</td>\n",
       "      <td>-9.148401</td>\n",
       "      <td>2.194774</td>\n",
       "      <td>1.277521</td>\n",
       "      <td>0.917253</td>\n",
       "    </tr>\n",
       "  </tbody>\n",
       "</table>\n",
       "</div>"
      ]
     },
     "execution_count": 20,
     "metadata": {},
     "output_type": "execute_result"
    }
   ],
   "execution_count": 20
  },
  {
   "metadata": {
    "ExecuteTime": {
     "end_time": "2024-07-16T15:20:26.956491Z",
     "start_time": "2024-07-16T15:20:26.886285Z"
    }
   },
   "cell_type": "code",
   "source": [
    "from pingouin import mediation_analysis\n",
    "tmp=pheno\n",
    "tmp['ex_voxel'] = rank_harmonized[:,182]\n",
    "\n",
    "stats, dist = mediation_analysis(data=tmp, x='plc_induction', m='ex_voxel', y='Rating_diff',\n",
    "                                 covar=['Age', 'Male'], \n",
    "                                 n_boot=10,\n",
    "                                 alpha=0.05, seed=42, return_dist=True)\n",
    "stats"
   ],
   "id": "7052bbe687564ae4",
   "outputs": [
    {
     "data": {
      "text/plain": [
       "           path      coef        se      pval   CI[2.5%]  CI[97.5%]  sig\n",
       "0  ex_voxel ~ X -0.103466  0.033562  0.002191  -0.169443  -0.037488  Yes\n",
       "1  Y ~ ex_voxel -9.148401  2.595576  0.000473 -14.250885  -4.045917  Yes\n",
       "2         Total  2.194774  1.797240  0.222724  -1.338310   5.727858   No\n",
       "3        Direct  1.277521  1.795334  0.477137  -2.251842   4.806884   No\n",
       "4      Indirect  0.917253  0.282654  0.000000   0.334130   1.001161  Yes"
      ],
      "text/html": [
       "<div>\n",
       "<style scoped>\n",
       "    .dataframe tbody tr th:only-of-type {\n",
       "        vertical-align: middle;\n",
       "    }\n",
       "\n",
       "    .dataframe tbody tr th {\n",
       "        vertical-align: top;\n",
       "    }\n",
       "\n",
       "    .dataframe thead th {\n",
       "        text-align: right;\n",
       "    }\n",
       "</style>\n",
       "<table border=\"1\" class=\"dataframe\">\n",
       "  <thead>\n",
       "    <tr style=\"text-align: right;\">\n",
       "      <th></th>\n",
       "      <th>path</th>\n",
       "      <th>coef</th>\n",
       "      <th>se</th>\n",
       "      <th>pval</th>\n",
       "      <th>CI[2.5%]</th>\n",
       "      <th>CI[97.5%]</th>\n",
       "      <th>sig</th>\n",
       "    </tr>\n",
       "  </thead>\n",
       "  <tbody>\n",
       "    <tr>\n",
       "      <th>0</th>\n",
       "      <td>ex_voxel ~ X</td>\n",
       "      <td>-0.103466</td>\n",
       "      <td>0.033562</td>\n",
       "      <td>0.002191</td>\n",
       "      <td>-0.169443</td>\n",
       "      <td>-0.037488</td>\n",
       "      <td>Yes</td>\n",
       "    </tr>\n",
       "    <tr>\n",
       "      <th>1</th>\n",
       "      <td>Y ~ ex_voxel</td>\n",
       "      <td>-9.148401</td>\n",
       "      <td>2.595576</td>\n",
       "      <td>0.000473</td>\n",
       "      <td>-14.250885</td>\n",
       "      <td>-4.045917</td>\n",
       "      <td>Yes</td>\n",
       "    </tr>\n",
       "    <tr>\n",
       "      <th>2</th>\n",
       "      <td>Total</td>\n",
       "      <td>2.194774</td>\n",
       "      <td>1.797240</td>\n",
       "      <td>0.222724</td>\n",
       "      <td>-1.338310</td>\n",
       "      <td>5.727858</td>\n",
       "      <td>No</td>\n",
       "    </tr>\n",
       "    <tr>\n",
       "      <th>3</th>\n",
       "      <td>Direct</td>\n",
       "      <td>1.277521</td>\n",
       "      <td>1.795334</td>\n",
       "      <td>0.477137</td>\n",
       "      <td>-2.251842</td>\n",
       "      <td>4.806884</td>\n",
       "      <td>No</td>\n",
       "    </tr>\n",
       "    <tr>\n",
       "      <th>4</th>\n",
       "      <td>Indirect</td>\n",
       "      <td>0.917253</td>\n",
       "      <td>0.282654</td>\n",
       "      <td>0.000000</td>\n",
       "      <td>0.334130</td>\n",
       "      <td>1.001161</td>\n",
       "      <td>Yes</td>\n",
       "    </tr>\n",
       "  </tbody>\n",
       "</table>\n",
       "</div>"
      ]
     },
     "execution_count": 21,
     "metadata": {},
     "output_type": "execute_result"
    }
   ],
   "execution_count": 21
  },
  {
   "metadata": {},
   "cell_type": "markdown",
   "source": "## Visualize the harmonized data",
   "id": "9b1969e68e996e54"
  },
  {
   "metadata": {
    "ExecuteTime": {
     "end_time": "2024-07-16T15:20:27.033338Z",
     "start_time": "2024-07-16T15:20:26.957109Z"
    }
   },
   "cell_type": "code",
   "source": "sns.scatterplot(x=data[pheno.Study_ID=='atlas', 100], y=rank_harmonized[pheno.Study_ID=='atlas', 100])",
   "id": "b6aef71975e805cb",
   "outputs": [
    {
     "data": {
      "text/plain": [
       "<Axes: >"
      ]
     },
     "execution_count": 22,
     "metadata": {},
     "output_type": "execute_result"
    },
    {
     "data": {
      "text/plain": [
       "<Figure size 640x480 with 1 Axes>"
      ],
      "image/png": "[encoded data removed]"
     },
     "metadata": {},
     "output_type": "display_data"
    }
   ],
   "execution_count": 22
  },
  {
   "metadata": {
    "ExecuteTime": {
     "end_time": "2024-07-16T15:20:27.113996Z",
     "start_time": "2024-07-16T15:20:27.034598Z"
    }
   },
   "cell_type": "code",
   "source": "sns.scatterplot(x=data[pheno.Study_ID=='bingel06', 100], y=rank_harmonized[pheno.Study_ID=='bingel06', 100])",
   "id": "55494697a64e7f22",
   "outputs": [
    {
     "data": {
      "text/plain": [
       "<Axes: >"
      ]
     },
     "execution_count": 23,
     "metadata": {},
     "output_type": "execute_result"
    },
    {
     "data": {
      "text/plain": [
       "<Figure size 640x480 with 1 Axes>"
      ],
      "image/png": "[encoded data removed]"
     },
     "metadata": {},
     "output_type": "display_data"
    }
   ],
   "execution_count": 23
  },
  {
   "metadata": {},
   "cell_type": "markdown",
   "source": [
    "# Group-level analysis for path a\n",
    "- with the same harmonization, we can do a group-mean and conjunction analysis for path A, to how the difference is composed"
   ],
   "id": "5c0a9ac9b8445c82"
  },
  {
   "metadata": {
    "ExecuteTime": {
     "end_time": "2024-07-17T12:29:05.967484Z",
     "start_time": "2024-07-17T12:29:05.963565Z"
    }
   },
   "cell_type": "code",
   "source": [
    "# x: n_samples\n",
    "# covar: n_samples x n_covariates\n",
    "# m:  n_samples x n_features\n",
    "def group_means(x, m, covar=None, m_type='continuous'):\n",
    "    from sklearn.linear_model import LinearRegression, LogisticRegression\n",
    "    from sklearn.multioutput import MultiOutputRegressor\n",
    "    \n",
    "    if covar is None:\n",
    "        covar = np.array([])\n",
    "        \n",
    "    # Difference: M ~ X + covar\n",
    "    if m_type == \"continuous\":\n",
    "        XM= LinearRegression().fit(X=np.c_[x,covar], y=m)\n",
    "    else:\n",
    "        XM = MultiOutputRegressor(LogisticRegression()).fit(X=np.c_[x,covar], y=m).coef_[:,0]\n",
    "        \n",
    "    group_diff = XM.coef_[:,0]\n",
    "    group0_mean = XM.intercept_  # we assume dummy coding, i.e. group 0 is the reference group\n",
    "    group1_mean = XM.intercept_ + group_diff\n",
    "    # conjunction analysis\n",
    "    min_group_effect = np.min((group0_mean, group1_mean), axis=0) # for conjunction analysis with global null\n",
    "           \n",
    "    return group_diff, group0_mean, group1_mean, min_group_effect "
   ],
   "id": "fba628fe8b52602e",
   "outputs": [],
   "execution_count": 29
  },
  {
   "metadata": {
    "ExecuteTime": {
     "end_time": "2024-07-17T12:29:07.336860Z",
     "start_time": "2024-07-17T12:29:06.579767Z"
    }
   },
   "cell_type": "code",
   "source": [
    "%%time\n",
    "group_diff, group0_mean, group1_mean, min_group_effect  = group_means(x=pheno['plc_induction'].to_numpy(),\n",
    "                                                      m=rank_harmonized,\n",
    "                                                      covar = pheno[['Age','Male']].to_numpy(),\n",
    "                                                      m_type='continuous')"
   ],
   "id": "25901103230063e8",
   "outputs": [
    {
     "name": "stdout",
     "output_type": "stream",
     "text": [
      "CPU times: user 1.21 s, sys: 3.73 s, total: 4.94 s\n",
      "Wall time: 736 ms\n"
     ]
    }
   ],
   "execution_count": 30
  },
  {
   "metadata": {
    "jupyter": {
     "is_executing": true
    },
    "ExecuteTime": {
     "start_time": "2024-07-17T12:30:35.940595Z"
    }
   },
   "cell_type": "code",
   "source": [
    "%%time\n",
    "\n",
    "def stat_fun(data, pheno):\n",
    "    rank_harmonized = rank_harmonize(data, pheno.Study_ID, pb=False)\n",
    "    return group_means(x=pheno['plc_induction'].to_numpy(),\n",
    "                       m=rank_harmonized,\n",
    "                       covar = pheno[['Age','Male']].to_numpy(),\n",
    "                       m_type='continuous')\n",
    "\n",
    "\n",
    "seed = 42 # for reproducibility\n",
    "n_perm = 16 #1000\n",
    "\n",
    "null_group_diff, null_group0_mean, null_group1_mean, min_group_effect = zip(* Parallel(n_jobs=-1, timeout=99999)(delayed(\n",
    "    signflip_workhorse)(data, pheno, stat_fun, [i, seed]) for i in range(n_perm)))\n",
    "\n",
    "# save boot_ACME, boot_XM, boot_MY, boot_XY, boot_XMY\n",
    "null_dist = {\n",
    "    \"CONDINSTgtINST\": np.array(null_group_diff),\n",
    "    \"meanINST\": np.array(null_group0_mean),\n",
    "    \"meanCOND\": np.array(null_group1_mean),\n",
    "    \"INSTandCONDINST\": np.array(min_group_effect),\n",
    "}\n",
    "np.save(base_dir + '/mediation_signflipped_null_dist_pathA.npy', null_dist)"
   ],
   "id": "b278d6a146c564b8",
   "outputs": [],
   "execution_count": null
  },
  {
   "metadata": {},
   "cell_type": "code",
   "outputs": [],
   "execution_count": null,
   "source": "",
   "id": "9a47097ade8f4ffd"
  }
 ],
 "metadata": {
  "kernelspec": {
   "display_name": "Python 3 (ipykernel)",
   "language": "python",
   "name": "python3"
  },
  "language_info": {
   "codemirror_mode": {
    "name": "ipython",
    "version": 3
   },
   "file_extension": ".py",
   "mimetype": "text/x-python",
   "name": "python",
   "nbconvert_exporter": "python",
   "pygments_lexer": "ipython3",
   "version": "3.9.6"
  }
 },
 "nbformat": 4,
 "nbformat_minor": 5
}
