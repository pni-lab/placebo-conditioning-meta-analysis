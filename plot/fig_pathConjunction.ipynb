{
 "cells": [
  {
   "cell_type": "code",
   "id": "initial_id",
   "metadata": {
    "collapsed": true,
    "jupyter": {
     "outputs_hidden": true
    },
    "ExecuteTime": {
     "end_time": "2024-07-31T10:01:22.258835Z",
     "start_time": "2024-07-31T10:01:22.238850Z"
    }
   },
   "source": [
    "import nibabel as nib\n",
    "import numpy as np\n",
    "import pandas as pd\n",
    "import nilearn.plotting as nip\n",
    "import seaborn as sns\n",
    "from matplotlib.colors import ListedColormap\n",
    "from nibabel.affines import apply_affine\n",
    "import numpy.linalg as npl\n",
    "from nilearn.reporting import get_clusters_table\n",
    "from scipy.ndimage import distance_transform_edt\n",
    "\n",
    "from nilearn.datasets import fetch_atlas_difumo\n",
    "difumo_data = fetch_atlas_difumo(dimension=128, resolution_mm=2, data_dir=None, resume=True, verbose=1, legacy_format=False)\n",
    "# load 4d image and fetch the first volume\n",
    "difumo_4d = nib.load(difumo_data['maps'])\n",
    "\n",
    "def get_difumo_label(world_coord):\n",
    "    voxel_coord = apply_affine(npl.inv(difumo_4d.affine), world_coord).astype(int)\n",
    "    max = np.max(difumo_4d.get_fdata()[voxel_coord[0], voxel_coord[1], voxel_coord[2], :])\n",
    "    argmax = np.argmax(difumo_4d.get_fdata()[voxel_coord[0], voxel_coord[1], voxel_coord[2], :])\n",
    "    location = difumo_data['labels'].iloc[argmax, :]\n",
    "    return location['difumo_names'], location['yeo_networks7'], max\n",
    "\n",
    "\n",
    "mars_labelmap = nib.load('../resources/MNI152_nonlin_MarsAtlas.nii.gz')\n",
    "mars_labels = pd.read_csv('../resources/MarsLabels_long.csv', index_col=False)\n",
    "\n",
    "def get_mars_label(world_coord, max_radius=10):\n",
    "    voxel_coord = apply_affine(npl.inv(mars_labelmap.affine), world_coord).astype(int)\n",
    "    labelmap_data = mars_labelmap.get_fdata()\n",
    "    nonzero_mask = labelmap_data > 0\n",
    "    # Compute distance transform\n",
    "    distances, indices = distance_transform_edt(~nonzero_mask, return_indices=True)\n",
    "    # Get the closest non-zero label within the max_radius\n",
    "    closest_voxel_coord = indices[:, voxel_coord[0], voxel_coord[1], voxel_coord[2]]\n",
    "    # Ensure the closest voxel is within max_radius\n",
    "    distance_to_closest = distances[tuple(voxel_coord)]\n",
    "    if distance_to_closest > max_radius:\n",
    "        return 0  # Return 0 if no non-zero label is within the radius\n",
    "    label = labelmap_data[closest_voxel_coord[0], closest_voxel_coord[1], closest_voxel_coord[2]]\n",
    "    res = mars_labels.loc[mars_labels['Index'] == label, :].copy()\n",
    "    res.loc[:, 'Distance'] = distance_to_closest\n",
    "    return res\n",
    "   \n",
    "\n",
    "dir_mediation = '/Users/tspisak/data/PIC_conditioning_withinsub_nodatalad/mediation_signflipped_signedquantile_studymod_results'\n",
    "data4d_harmonized = nib.load(f'{dir_mediation}/../all_data_studyranked.nii')\n",
    "pheno = pd.read_csv(f'{dir_mediation}/../signatures.csv')\n",
    "# get mean effect in each group for a given voxel\n",
    "def get_stats(voxel_coord, stat_fun, data4d=data4d_harmonized, pheno=pheno):\n",
    "    data = data4d.get_fdata()[voxel_coord[0], voxel_coord[1], voxel_coord[2], :]\n",
    "    return stat_fun(data, pheno)\n",
    "\n",
    "def stat_fun_groupmeans(data, pheno):\n",
    "    return np.mean(data[pheno['Conditioning']=='suggestions']), np.mean(data[pheno['Conditioning']=='suggestions & conditioning'])\n",
    "\n",
    "def stat_fun_percgt0(data, pheno):\n",
    "    mean_INT, mean_CONDINT = stat_fun_groupmeans(data, pheno)\n",
    "    return (mean_INT+0.5)*100, (mean_CONDINT+0.5)*100 #weighted average (across studies) of the % of participants with a positive effect\n",
    "\n",
    "my_cmp = ListedColormap(['cyan', 'blue', 'white', 'white', 'red', 'orange'])"
   ],
   "outputs": [],
   "execution_count": 3
  },
  {
   "cell_type": "code",
   "id": "9d849a5524bca3a9",
   "metadata": {
    "ExecuteTime": {
     "end_time": "2024-07-31T10:01:23.827710Z",
     "start_time": "2024-07-31T10:01:23.793252Z"
    }
   },
   "source": [
    "mask = nib.load(f'{dir_mediation}/../full_masked_10_percent.nii')\n",
    "mask_data = mask.get_fdata()\n",
    "\n",
    "contrast = [\n",
    "    \"PathA(XM)\",\n",
    "    \"PathB(MY)\",\n",
    "    \"Indirect(ACME)\",\n",
    "    \"Direct(Total-Indirect)\",\n",
    "    \"INST_mean\",\n",
    "    \"CONDINST_mean\",\n",
    "    \"INSTandCONDINST\",\n",
    "    ]\n",
    "img_type = ['beta', 'thres', 'uncorr_logp', 'fdr_logq']\n",
    "\n",
    "img = {}\n",
    "for c in contrast:\n",
    "    img[c] = {}\n",
    "    for t in img_type:\n",
    "        img[c][t] = nib.load(f'{dir_mediation}/{t}_{c}.nii.gz')"
   ],
   "outputs": [],
   "execution_count": 4
  },
  {
   "cell_type": "code",
   "id": "1eaaa1f6cabec32d",
   "metadata": {
    "ExecuteTime": {
     "end_time": "2024-07-31T10:01:24.532929Z",
     "start_time": "2024-07-31T10:01:24.414602Z"
    }
   },
   "source": [
    "# Nichols' conjunction analysis\n",
    "from scipy.stats import false_discovery_control\n",
    "\n",
    "logp_condist = img['CONDINST_mean']['uncorr_logp'].get_fdata()\n",
    "logp_inst = img['INST_mean']['uncorr_logp'].get_fdata()\n",
    "minlogp = np.minimum(logp_condist, logp_inst)\n",
    "# save uncorr maxp\n",
    "conjunction_map = nib.Nifti1Image(minlogp, img['PathA(XM)']['beta'].affine)\n",
    "nib.save(conjunction_map, f'{dir_mediation}/uncorr_logp_INSTandCONDINST_Nichols.nii.gz')\n",
    "#fdr: \n",
    "fdrq_conjunction_Nichols = false_discovery_control(10**(-minlogp), method=\"bh\")\n",
    "# save fdr conjunction\n",
    "conjunction_map = nib.Nifti1Image(-np.log10(fdrq_conjunction_Nichols), img['PathA(XM)']['beta'].affine)\n",
    "nib.save(conjunction_map, f'{dir_mediation}/fdr_logq_INSTandCONDINST_Nichols.nii.gz')\n",
    "# thresholded map\n",
    "\n",
    "min_beta = img['INSTandCONDINST']['beta'].get_fdata()\n",
    "\n",
    "res = np.zeros_like(fdrq_conjunction_Nichols)\n",
    "res[minlogp>-np.log10(0.01)] = 1\n",
    "res[fdrq_conjunction_Nichols<0.05] = 2\n",
    "res[min_beta<0] *= -1\n",
    "nib.save(nib.Nifti2Image(res, affine=img['INSTandCONDINST']['beta'].affine), f'{dir_mediation}/thres_INSTandCONDINST_Nichols.nii.gz')\n",
    "\n",
    "res = np.zeros_like(fdrq_conjunction_Nichols)\n",
    "res[minlogp>-np.log10(0.05)] = 1\n",
    "res[fdrq_conjunction_Nichols<0.05] = 2\n",
    "res[min_beta<0] *= -1\n",
    "nib.save(nib.Nifti2Image(res, affine=img['INSTandCONDINST']['beta'].affine), f'{dir_mediation}/thres05_INSTandCONDINST_Nichols.nii.gz')"
   ],
   "outputs": [],
   "execution_count": 5
  },
  {
   "cell_type": "code",
   "id": "d0da72f6647a55e3",
   "metadata": {
    "ExecuteTime": {
     "end_time": "2024-07-31T10:01:24.985374Z",
     "start_time": "2024-07-31T10:01:24.981376Z"
    }
   },
   "source": [
    "img['INSTandCONDINST_Nichols'] = {}\n",
    "img['INSTandCONDINST_Nichols']['thres'] = nib.load(f'{dir_mediation}/thres_INSTandCONDINST_Nichols.nii.gz')\n",
    "img['INSTandCONDINST_Nichols']['uncorr_logp'] = nib.load(f'{dir_mediation}/uncorr_logp_INSTandCONDINST_Nichols.nii.gz')\n",
    "img['INSTandCONDINST_Nichols']['fdr_logq'] = nib.load(f'{dir_mediation}/fdr_logq_INSTandCONDINST_Nichols.nii.gz')\n",
    "img['INSTandCONDINST_Nichols']['beta'] = img['INSTandCONDINST']['beta'] # stays the same"
   ],
   "outputs": [],
   "execution_count": 6
  },
  {
   "cell_type": "code",
   "id": "16b7a42806bd2212",
   "metadata": {
    "ExecuteTime": {
     "end_time": "2024-07-31T10:01:25.938099Z",
     "start_time": "2024-07-31T10:01:25.841702Z"
    }
   },
   "source": [
    "import pandas as pd\n",
    "import seaborn as sns\n",
    "import matplotlib.pyplot as plt\n",
    "from matplotlib.colors import to_rgba\n",
    "plt.style.use('default')\n",
    "\n",
    "def bars(x, y, z):\n",
    "    #world to voxel\n",
    "    fig = plt.figure(figsize=(3, 0.5))\n",
    "    x, y, z = apply_affine(npl.inv(img['PathA(XM)']['beta'].affine), (x, y, z)).astype(int)\n",
    "    condinst = (img['CONDINST_mean']['beta'].get_fdata()[x, y, z]+0.5)*100 # % of participants with a positive effect\n",
    "    inst = (img['INST_mean']['beta'].get_fdata()[x, y, z]+0.5)*100\n",
    "\n",
    "    # plot horizontal barplot\n",
    "    plt.barh(['COND+INST', 'INST'], [condinst, inst], height=0.9, color=to_rgba('red', 0.5))\n",
    "    plt.barh(['COND+INST', 'INST'], [condinst-100, inst-100], height=0.9, color=to_rgba('blue', 0.5))\n",
    "    plt.xticks([-50, 0, 50])\n",
    "    #plt.axline((-10, 0.5), (0, 0.5), color='black', linewidth=1)\n",
    "    plt.hlines(y=-0.5, xmin=-50, xmax=50, color='black', linewidth=1)\n",
    "    #plt.tight_layout()\n",
    "    sns.despine(left=True, bottom=True)\n",
    "    #return df\n",
    "\n",
    "# test it\n",
    "bars(-10, 0, 0)"
   ],
   "outputs": [
    {
     "data": {
      "text/plain": [
       "<Figure size 300x50 with 1 Axes>"
      ],
      "image/png": "[encoded data removed]"
     },
     "metadata": {},
     "output_type": "display_data"
    }
   ],
   "execution_count": 7
  },
  {
   "cell_type": "markdown",
   "id": "9b4424581c61e779",
   "metadata": {},
   "source": [
    "## MricroGL scripts\n",
    "We select slices with at least n_sign significant voxels"
   ]
  },
  {
   "cell_type": "code",
   "id": "ff24e65f5a0ac5d8",
   "metadata": {
    "ExecuteTime": {
     "end_time": "2024-07-31T10:01:27.368182Z",
     "start_time": "2024-07-31T10:01:27.347740Z"
    }
   },
   "source": [
    "# search for slices with fdr\n",
    "def fdr_slices(contrast, n_sign=4):\n",
    "    data = img[contrast]['thres'].get_fdata()\n",
    "    zcoords = []\n",
    "    for i in range(data.shape[2]):\n",
    "        if np.sum(np.abs(data[:,:,i])>0)>=n_sign:\n",
    "            #print(i, np.min(data[:,:,i]), np.max(data[:,:,i]), np.sum(np.abs(data[:,:,i])==2))\n",
    "            # convert to world coordinate\n",
    "            x, y, z = apply_affine(img[contrast]['thres'].affine, (0, 0, i))\n",
    "            zcoords.append(z)\n",
    "    zcoords = ' '.join(str(z) for z in zcoords)\n",
    "    return f'A H -0.1 V -0.1 {zcoords} S X R 0'\n",
    "    #return np.min(data), np.max(data)\n",
    "\n",
    "print('INSTandCONDINST_Nichols', fdr_slices('INSTandCONDINST_Nichols', 30))\n",
    "print('PathA(XM)', fdr_slices('PathA(XM)', 4))\n",
    "print('PathB(MY)', fdr_slices('PathB(MY)', 6))\n",
    "#print('Indirect(ACME)', fdr_slices('Indirect(ACME)', 6))\n",
    "\n",
    "\n"
   ],
   "outputs": [
    {
     "name": "stdout",
     "output_type": "stream",
     "text": [
      "INSTandCONDINST_Nichols A H -0.1 V -0.1 -16.0 22.0 24.0 26.0 28.0 30.0 S X R 0\n",
      "PathA(XM) A H -0.1 V -0.1 -34.0 -32.0 -30.0 -28.0 -26.0 -24.0 -22.0 -20.0 -18.0 -16.0 -14.0 -12.0 -10.0 -8.0 -6.0 -4.0 -2.0 0.0 2.0 4.0 6.0 8.0 10.0 12.0 14.0 16.0 18.0 20.0 22.0 24.0 26.0 28.0 30.0 32.0 34.0 36.0 38.0 40.0 42.0 44.0 46.0 48.0 50.0 52.0 54.0 56.0 58.0 60.0 64.0 66.0 68.0 S X R 0\n",
      "PathB(MY) A H -0.1 V -0.1 -34.0 -32.0 -30.0 -28.0 -26.0 -24.0 -22.0 -20.0 -18.0 -16.0 -14.0 -12.0 -10.0 -8.0 -6.0 -4.0 -2.0 0.0 2.0 4.0 6.0 8.0 10.0 12.0 14.0 16.0 18.0 20.0 22.0 24.0 26.0 28.0 30.0 32.0 34.0 36.0 38.0 40.0 42.0 44.0 46.0 48.0 50.0 52.0 54.0 56.0 58.0 60.0 62.0 64.0 66.0 68.0 70.0 72.0 74.0 S X R 0\n"
     ]
    }
   ],
   "execution_count": 8
  },
  {
   "cell_type": "code",
   "id": "a6b2337e2d016306",
   "metadata": {
    "ExecuteTime": {
     "end_time": "2024-07-31T10:01:29.670376Z",
     "start_time": "2024-07-31T10:01:28.265037Z"
    }
   },
   "source": [
    "nip.view_img(img['INSTandCONDINST_Nichols']['thres']).open_in_browser()"
   ],
   "outputs": [
    {
     "name": "stderr",
     "output_type": "stream",
     "text": [
      "/Users/tspisak/src/placebo-conditioning-meta-analysis/venv/lib/python3.9/site-packages/numpy/core/fromnumeric.py:771: UserWarning: Warning: 'partition' will ignore the 'mask' of the MaskedArray.\n",
      "  a.partition(kth, axis=axis, kind=kind, order=order)\n"
     ]
    }
   ],
   "execution_count": 9
  },
  {
   "cell_type": "code",
   "id": "eca01afbe980a0f2",
   "metadata": {
    "ExecuteTime": {
     "end_time": "2024-07-31T10:32:42.034012Z",
     "start_time": "2024-07-31T10:32:35.816673Z"
    }
   },
   "source": [
    "clust_table = get_clusters_table(stat_img=img['INSTandCONDINST_Nichols']['uncorr_logp'],\n",
    "                                 stat_threshold=-np.log10(0.01),\n",
    "                                 cluster_threshold=15,\n",
    "                                 min_distance=20\n",
    "                                 )\n",
    "\n",
    "clust_table['region'] = 'N/A'\n",
    "clust_table['yeo_network'] = 'N/A'\n",
    "\n",
    "# convert pandas column type row type to int\n",
    "clust_table['X'] = clust_table['X'].astype(int)\n",
    "clust_table['Y'] = clust_table['Y'].astype(int)\n",
    "clust_table['Z'] = clust_table['Z'].astype(int)\n",
    "\n",
    "for i, row in clust_table.iterrows():\n",
    "    x, y, z = row['X'], row['Y'], row['Z']\n",
    "    x_vox, y_vox, z_vox = apply_affine(npl.inv(img['INSTandCONDINST_Nichols']['beta'].affine), (x, y, z)).astype(int)\n",
    "    clust_table.loc[row.name, 'Effect size'] = img['INSTandCONDINST_Nichols']['beta'].get_fdata()[x_vox, y_vox, z_vox]\n",
    "    clust_table.loc[row.name, 'Direction'] = np.sign(clust_table.loc[row.name, 'Effect size'])\n",
    "    \n",
    "    clust_table.loc[row.name, 'Mean INST'] = np.round(img['INST_mean']['beta'].get_fdata()[x_vox, y_vox, z_vox]*100+50, 1)\n",
    "    clust_table.loc[row.name, 'Mean COND'] = np.round(img['CONDINST_mean']['beta'].get_fdata()[x_vox, y_vox, z_vox]*100+50, 1)\n",
    "    \n",
    "    mars_region = get_mars_label([x, y, z])\n",
    "    if not isinstance(mars_region, int):\n",
    "        clust_table.loc[row.name, 'Mars region'] = mars_region['Hemisphere'].values[0] + ' ' + mars_region['Full_name'].values[0] \n",
    "\n",
    "    region, yeo_nw, prob = get_difumo_label([x, y, z])\n",
    "    clust_table.loc[row.name, 'DiFuMo region'] = region\n",
    "    clust_table.loc[row.name, 'yeo_network'] = yeo_nw\n",
    "\n",
    "    clust_table.loc[row.name, 'Peak Stat uncorr'] = 10 ** (-row['Peak Stat'])\n",
    "    if clust_table.loc[row.name, 'Peak Stat uncorr'] < 0.0001:\n",
    "        clust_table.loc[row.name, 'Peak Stat uncorr'] = '<0.0001'\n",
    "    clust_table.loc[row.name, 'Peak Stat FDR'] = 10 ** (- img['INSTandCONDINST_Nichols']['fdr_logq'].get_fdata()[x_vox, y_vox, z_vox])\n",
    "    \n",
    "    # delete row if peak is not fdr significant\n",
    "    if clust_table.loc[row.name, 'Peak Stat FDR'] > 0.05:\n",
    "        clust_table.drop(row.name, inplace=True)\n",
    "        continue\n",
    "    \n",
    "    if clust_table.loc[row.name, 'Peak Stat FDR'] < 0.0001:\n",
    "        clust_table.loc[row.name, 'Peak Stat FDR'] = '<0.0001'\n",
    "        \n",
    "\n",
    "    ### specific for path A\n",
    "    pgt0_INT, pgt0_CONDINT = get_stats(voxel_coord=(x_vox, y_vox, z_vox), stat_fun=stat_fun_percgt0)\n",
    "    # weighted average (across studies) of the % of participants with a positive effect\n",
    "    clust_table.loc[row.name, 'perc_gt0_INT'] = pgt0_INT\n",
    "    clust_table.loc[row.name, 'perc_gt0_CONDINT'] = pgt0_CONDINT\n",
    "    # difference in % of participants with a positive effect - when modelling sex and age\n",
    "    clust_table.loc[row.name, 'perc_gt0_diff'] = pgt0_CONDINT - pgt0_INT\n",
    "\n",
    "pd.set_option(\"display.precision\", 5)\n",
    "clust_table[['Cluster ID', 'Cluster Size (mm3)', 'X', 'Y', 'Z', 'Mean INST', 'Mean COND',\n",
    "     'Effect size', 'Peak Stat uncorr', 'Peak Stat FDR', 'Mars region', 'DiFuMo region', 'yeo_network', ]]"
   ],
   "outputs": [
    {
     "name": "stderr",
     "output_type": "stream",
     "text": [
      "/var/folders/rc/b4064_3d4dj60wt9y_447fyr0000gn/T/ipykernel_43711/660721656.py:34: FutureWarning: Setting an item of incompatible dtype is deprecated and will raise an error in a future version of pandas. Value '<0.0001' has dtype incompatible with float64, please explicitly cast to a compatible dtype first.\n",
      "  clust_table.loc[row.name, 'Peak Stat uncorr'] = '<0.0001'\n",
      "/var/folders/rc/b4064_3d4dj60wt9y_447fyr0000gn/T/ipykernel_43711/660721656.py:43: FutureWarning: Setting an item of incompatible dtype is deprecated and will raise an error in a future version of pandas. Value '<0.0001' has dtype incompatible with float64, please explicitly cast to a compatible dtype first.\n",
      "  clust_table.loc[row.name, 'Peak Stat FDR'] = '<0.0001'\n"
     ]
    },
    {
     "data": {
      "text/plain": [
       "    Cluster ID  Cluster Size (mm3)   X   Y   Z  Mean INST  Mean COND  \\\n",
       "0            1                 192  16 -50  50       25.6       28.4   \n",
       "1            2                 216 -18 -38  28       18.5       16.5   \n",
       "2            3                 128 -34 -56  32       25.4       24.1   \n",
       "3            4                 352  22 -42  28       20.6       21.6   \n",
       "4            5                 192   6  54   2       20.7       19.3   \n",
       "5            6                 456  -4 -34  16       15.5       20.1   \n",
       "6            7                 328   8 -56 -36       26.6       24.6   \n",
       "7            8                 240  22 -88 -16       22.2       28.4   \n",
       "8            9                 240 -22 -18 -14       22.7       24.7   \n",
       "9           10                 240  40 -12  42       22.0       19.1   \n",
       "10          11                 248 -22 -64 -24       21.7       22.9   \n",
       "\n",
       "    Effect size Peak Stat uncorr Peak Stat FDR  \\\n",
       "0      -0.21623          <0.0001       <0.0001   \n",
       "1      -0.31490          <0.0001       <0.0001   \n",
       "2      -0.24603          <0.0001       <0.0001   \n",
       "3      -0.28360          <0.0001       <0.0001   \n",
       "4      -0.29272          <0.0001       <0.0001   \n",
       "5      -0.29912          <0.0001       0.00046   \n",
       "6      -0.23405          <0.0001       0.00173   \n",
       "7      -0.21601          <0.0001        0.0059   \n",
       "8      -0.25277          0.00014       0.01253   \n",
       "9      -0.28032          0.00026       0.02369   \n",
       "10     -0.27123          0.00039       0.03558   \n",
       "\n",
       "                             Mars region  \\\n",
       "0           Right Medial Parietal Cortex   \n",
       "1        Left Posterior Cingulate Cortex   \n",
       "2          Left Superior Parietal Cortex   \n",
       "3       Right Posterior Cingulate Cortex   \n",
       "4   Right Ventromedial Prefrontal Cortex   \n",
       "5          Left Isthmus Cingulate Cortex   \n",
       "6                                    NaN   \n",
       "7      Right Caudal Medial Visual Cortex   \n",
       "8                       Left Hippocampus   \n",
       "9        Right Dorsolateral Motor Cortex   \n",
       "10      Left Caudal Medial Visual Cortex   \n",
       "\n",
       "                                        DiFuMo region       yeo_network  \n",
       "0                     Middle frontal gyrus lateral LH             ContA  \n",
       "1                     Middle frontal gyrus lateral LH             ContA  \n",
       "2                     Middle frontal gyrus lateral LH             ContA  \n",
       "3                     Middle frontal gyrus lateral LH             ContA  \n",
       "4             Ventromedial prefrontal cortex anterior          DefaultB  \n",
       "5                     Middle frontal gyrus lateral LH             ContA  \n",
       "6               Cerebellum superior posterior fissure  No network found  \n",
       "7   Cerebrospinal fluid (between occipital pole an...           VisCent  \n",
       "8                                 Hippocampal fissure  No network found  \n",
       "9                           Precentral gyrus superior           SomMotA  \n",
       "10                                      Cerebellum VI  No network found  "
      ],
      "text/html": [
       "<div>\n",
       "<style scoped>\n",
       "    .dataframe tbody tr th:only-of-type {\n",
       "        vertical-align: middle;\n",
       "    }\n",
       "\n",
       "    .dataframe tbody tr th {\n",
       "        vertical-align: top;\n",
       "    }\n",
       "\n",
       "    .dataframe thead th {\n",
       "        text-align: right;\n",
       "    }\n",
       "</style>\n",
       "<table border=\"1\" class=\"dataframe\">\n",
       "  <thead>\n",
       "    <tr style=\"text-align: right;\">\n",
       "      <th></th>\n",
       "      <th>Cluster ID</th>\n",
       "      <th>Cluster Size (mm3)</th>\n",
       "      <th>X</th>\n",
       "      <th>Y</th>\n",
       "      <th>Z</th>\n",
       "      <th>Mean INST</th>\n",
       "      <th>Mean COND</th>\n",
       "      <th>Effect size</th>\n",
       "      <th>Peak Stat uncorr</th>\n",
       "      <th>Peak Stat FDR</th>\n",
       "      <th>Mars region</th>\n",
       "      <th>DiFuMo region</th>\n",
       "      <th>yeo_network</th>\n",
       "    </tr>\n",
       "  </thead>\n",
       "  <tbody>\n",
       "    <tr>\n",
       "      <th>0</th>\n",
       "      <td>1</td>\n",
       "      <td>192</td>\n",
       "      <td>16</td>\n",
       "      <td>-50</td>\n",
       "      <td>50</td>\n",
       "      <td>25.6</td>\n",
       "      <td>28.4</td>\n",
       "      <td>-0.21623</td>\n",
       "      <td>&lt;0.0001</td>\n",
       "      <td>&lt;0.0001</td>\n",
       "      <td>Right Medial Parietal Cortex</td>\n",
       "      <td>Middle frontal gyrus lateral LH</td>\n",
       "      <td>ContA</td>\n",
       "    </tr>\n",
       "    <tr>\n",
       "      <th>1</th>\n",
       "      <td>2</td>\n",
       "      <td>216</td>\n",
       "      <td>-18</td>\n",
       "      <td>-38</td>\n",
       "      <td>28</td>\n",
       "      <td>18.5</td>\n",
       "      <td>16.5</td>\n",
       "      <td>-0.31490</td>\n",
       "      <td>&lt;0.0001</td>\n",
       "      <td>&lt;0.0001</td>\n",
       "      <td>Left Posterior Cingulate Cortex</td>\n",
       "      <td>Middle frontal gyrus lateral LH</td>\n",
       "      <td>ContA</td>\n",
       "    </tr>\n",
       "    <tr>\n",
       "      <th>2</th>\n",
       "      <td>3</td>\n",
       "      <td>128</td>\n",
       "      <td>-34</td>\n",
       "      <td>-56</td>\n",
       "      <td>32</td>\n",
       "      <td>25.4</td>\n",
       "      <td>24.1</td>\n",
       "      <td>-0.24603</td>\n",
       "      <td>&lt;0.0001</td>\n",
       "      <td>&lt;0.0001</td>\n",
       "      <td>Left Superior Parietal Cortex</td>\n",
       "      <td>Middle frontal gyrus lateral LH</td>\n",
       "      <td>ContA</td>\n",
       "    </tr>\n",
       "    <tr>\n",
       "      <th>3</th>\n",
       "      <td>4</td>\n",
       "      <td>352</td>\n",
       "      <td>22</td>\n",
       "      <td>-42</td>\n",
       "      <td>28</td>\n",
       "      <td>20.6</td>\n",
       "      <td>21.6</td>\n",
       "      <td>-0.28360</td>\n",
       "      <td>&lt;0.0001</td>\n",
       "      <td>&lt;0.0001</td>\n",
       "      <td>Right Posterior Cingulate Cortex</td>\n",
       "      <td>Middle frontal gyrus lateral LH</td>\n",
       "      <td>ContA</td>\n",
       "    </tr>\n",
       "    <tr>\n",
       "      <th>4</th>\n",
       "      <td>5</td>\n",
       "      <td>192</td>\n",
       "      <td>6</td>\n",
       "      <td>54</td>\n",
       "      <td>2</td>\n",
       "      <td>20.7</td>\n",
       "      <td>19.3</td>\n",
       "      <td>-0.29272</td>\n",
       "      <td>&lt;0.0001</td>\n",
       "      <td>&lt;0.0001</td>\n",
       "      <td>Right Ventromedial Prefrontal Cortex</td>\n",
       "      <td>Ventromedial prefrontal cortex anterior</td>\n",
       "      <td>DefaultB</td>\n",
       "    </tr>\n",
       "    <tr>\n",
       "      <th>5</th>\n",
       "      <td>6</td>\n",
       "      <td>456</td>\n",
       "      <td>-4</td>\n",
       "      <td>-34</td>\n",
       "      <td>16</td>\n",
       "      <td>15.5</td>\n",
       "      <td>20.1</td>\n",
       "      <td>-0.29912</td>\n",
       "      <td>&lt;0.0001</td>\n",
       "      <td>0.00046</td>\n",
       "      <td>Left Isthmus Cingulate Cortex</td>\n",
       "      <td>Middle frontal gyrus lateral LH</td>\n",
       "      <td>ContA</td>\n",
       "    </tr>\n",
       "    <tr>\n",
       "      <th>6</th>\n",
       "      <td>7</td>\n",
       "      <td>328</td>\n",
       "      <td>8</td>\n",
       "      <td>-56</td>\n",
       "      <td>-36</td>\n",
       "      <td>26.6</td>\n",
       "      <td>24.6</td>\n",
       "      <td>-0.23405</td>\n",
       "      <td>&lt;0.0001</td>\n",
       "      <td>0.00173</td>\n",
       "      <td>NaN</td>\n",
       "      <td>Cerebellum superior posterior fissure</td>\n",
       "      <td>No network found</td>\n",
       "    </tr>\n",
       "    <tr>\n",
       "      <th>7</th>\n",
       "      <td>8</td>\n",
       "      <td>240</td>\n",
       "      <td>22</td>\n",
       "      <td>-88</td>\n",
       "      <td>-16</td>\n",
       "      <td>22.2</td>\n",
       "      <td>28.4</td>\n",
       "      <td>-0.21601</td>\n",
       "      <td>&lt;0.0001</td>\n",
       "      <td>0.0059</td>\n",
       "      <td>Right Caudal Medial Visual Cortex</td>\n",
       "      <td>Cerebrospinal fluid (between occipital pole an...</td>\n",
       "      <td>VisCent</td>\n",
       "    </tr>\n",
       "    <tr>\n",
       "      <th>8</th>\n",
       "      <td>9</td>\n",
       "      <td>240</td>\n",
       "      <td>-22</td>\n",
       "      <td>-18</td>\n",
       "      <td>-14</td>\n",
       "      <td>22.7</td>\n",
       "      <td>24.7</td>\n",
       "      <td>-0.25277</td>\n",
       "      <td>0.00014</td>\n",
       "      <td>0.01253</td>\n",
       "      <td>Left Hippocampus</td>\n",
       "      <td>Hippocampal fissure</td>\n",
       "      <td>No network found</td>\n",
       "    </tr>\n",
       "    <tr>\n",
       "      <th>9</th>\n",
       "      <td>10</td>\n",
       "      <td>240</td>\n",
       "      <td>40</td>\n",
       "      <td>-12</td>\n",
       "      <td>42</td>\n",
       "      <td>22.0</td>\n",
       "      <td>19.1</td>\n",
       "      <td>-0.28032</td>\n",
       "      <td>0.00026</td>\n",
       "      <td>0.02369</td>\n",
       "      <td>Right Dorsolateral Motor Cortex</td>\n",
       "      <td>Precentral gyrus superior</td>\n",
       "      <td>SomMotA</td>\n",
       "    </tr>\n",
       "    <tr>\n",
       "      <th>10</th>\n",
       "      <td>11</td>\n",
       "      <td>248</td>\n",
       "      <td>-22</td>\n",
       "      <td>-64</td>\n",
       "      <td>-24</td>\n",
       "      <td>21.7</td>\n",
       "      <td>22.9</td>\n",
       "      <td>-0.27123</td>\n",
       "      <td>0.00039</td>\n",
       "      <td>0.03558</td>\n",
       "      <td>Left Caudal Medial Visual Cortex</td>\n",
       "      <td>Cerebellum VI</td>\n",
       "      <td>No network found</td>\n",
       "    </tr>\n",
       "  </tbody>\n",
       "</table>\n",
       "</div>"
      ]
     },
     "execution_count": 16,
     "metadata": {},
     "output_type": "execute_result"
    }
   ],
   "execution_count": 16
  },
  {
   "cell_type": "code",
   "id": "7c1e9c2d45bd0abe",
   "metadata": {
    "ExecuteTime": {
     "end_time": "2024-07-23T16:13:48.440328Z",
     "start_time": "2024-07-23T16:13:48.404806Z"
    }
   },
   "source": "bars(22.0,-88.0,-16.0) # 7,8,240,22.0,-88.0,-16.0,0.222346,0.283992,-0.216008,<0.0001,0.005904,Right Caudal Medial Visual Cortex,Cerebrospinal fluid (between occipital pole and cerebellum),VisCent\n",
   "outputs": [
    {
     "data": {
      "text/plain": [
       "<Figure size 300x50 with 1 Axes>"
      ],
      "image/png": "[encoded data removed]"
     },
     "metadata": {},
     "output_type": "display_data"
    }
   ],
   "execution_count": 137
  },
  {
   "metadata": {
    "ExecuteTime": {
     "end_time": "2024-07-23T16:13:48.844017Z",
     "start_time": "2024-07-23T16:13:48.819155Z"
    }
   },
   "cell_type": "code",
   "source": [
    "bars(-18.0,-38.0,28.0) #2,216,-18.0,-38.0,28.0,0.185105,0.164985,-0.314895,<0.0001,<0.0001,Left Posterior Cingulate Cortex,Middle frontal gyrus lateral LH,ContA\n",
    "\n"
   ],
   "id": "30273f219d120fa3",
   "outputs": [
    {
     "data": {
      "text/plain": [
       "<Figure size 300x50 with 1 Axes>"
      ],
      "image/png": "[encoded data removed]"
     },
     "metadata": {},
     "output_type": "display_data"
    }
   ],
   "execution_count": 138
  },
  {
   "metadata": {
    "ExecuteTime": {
     "end_time": "2024-07-23T16:13:49.264114Z",
     "start_time": "2024-07-23T16:13:49.238074Z"
    }
   },
   "cell_type": "code",
   "source": [
    "bars(40.0,-12.0,42.0) #10,240,40.0,-12.0,42.0,0.219681,0.190816,-0.280319,0.00026,0.023692,Right Dorsolateral Motor Cortex\n",
    "\n"
   ],
   "id": "b6f0ea72820ce3a5",
   "outputs": [
    {
     "data": {
      "text/plain": [
       "<Figure size 300x50 with 1 Axes>"
      ],
      "image/png": "[encoded data removed]"
     },
     "metadata": {},
     "output_type": "display_data"
    }
   ],
   "execution_count": 139
  },
  {
   "metadata": {
    "ExecuteTime": {
     "end_time": "2024-07-23T16:13:49.966219Z",
     "start_time": "2024-07-23T16:13:49.932196Z"
    }
   },
   "cell_type": "code",
   "source": "bars(8.0,-56.0,-36.0) # 6,7,328,8.0,-56.0,-36.0,0.265953,0.246189,-0.234047,<0.0001,0.00173,NaN,Cerebellum superior posterior fissure",
   "id": "6625ba4df24178b3",
   "outputs": [
    {
     "data": {
      "text/plain": [
       "<Figure size 300x50 with 1 Axes>"
      ],
      "image/png": "[encoded data removed]"
     },
     "metadata": {},
     "output_type": "display_data"
    }
   ],
   "execution_count": 140
  },
  {
   "cell_type": "code",
   "execution_count": 41,
   "id": "a83bcd53324af148",
   "metadata": {
    "ExecuteTime": {
     "end_time": "2024-07-23T13:28:07.565415Z",
     "start_time": "2024-07-23T13:28:07.468226Z"
    }
   },
   "outputs": [
    {
     "data": {
      "text/plain": [
       "<Axes: ylabel='Count'>"
      ]
     },
     "execution_count": 41,
     "metadata": {},
     "output_type": "execute_result"
    },
    {
     "data": {
      "image/png": "[encoded data removed]",
      "text/plain": [
       "<Figure size 640x480 with 1 Axes>"
      ]
     },
     "metadata": {},
     "output_type": "display_data"
    }
   ],
   "source": [
    "x, y, z = apply_affine(npl.inv(img['PathA(XM)']['beta'].affine), (8, -56, -36)).astype(int)\n",
    "sns.histplot(data4d_harmonized.get_fdata()[x, y, z, pheno['Conditioning']=='suggestions'], bins=20)\n",
    "sns.histplot(data4d_harmonized.get_fdata()[x, y, z, pheno['Conditioning']=='suggestions & conditioning'], bins=20)"
   ]
  },
  {
   "cell_type": "code",
   "execution_count": null,
   "id": "447d6dc64258c534",
   "metadata": {},
   "outputs": [],
   "source": []
  }
 ],
 "metadata": {
  "kernelspec": {
   "display_name": "Python 3 (ipykernel)",
   "language": "python",
   "name": "python3"
  },
  "language_info": {
   "codemirror_mode": {
    "name": "ipython",
    "version": 3
   },
   "file_extension": ".py",
   "mimetype": "text/x-python",
   "name": "python",
   "nbconvert_exporter": "python",
   "pygments_lexer": "ipython3",
   "version": "3.9.6"
  }
 },
 "nbformat": 4,
 "nbformat_minor": 5
}
