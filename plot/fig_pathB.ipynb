{
 "cells": [
  {
   "cell_type": "code",
   "id": "initial_id",
   "metadata": {
    "collapsed": true,
    "jupyter": {
     "outputs_hidden": true
    },
    "ExecuteTime": {
     "end_time": "2024-07-31T11:05:07.878570Z",
     "start_time": "2024-07-31T11:05:07.529588Z"
    }
   },
   "source": [
    "import nibabel as nib\n",
    "import numpy as np\n",
    "import pandas as pd\n",
    "import nilearn.plotting as nip\n",
    "import seaborn as sns\n",
    "from matplotlib.colors import ListedColormap\n",
    "from nibabel.affines import apply_affine\n",
    "import numpy.linalg as npl\n",
    "from nilearn.reporting import get_clusters_table\n",
    "from scipy.ndimage import distance_transform_edt\n",
    "\n",
    "from nilearn.datasets import fetch_atlas_difumo\n",
    "difumo_data = fetch_atlas_difumo(dimension=128, resolution_mm=2, data_dir=None, resume=True, verbose=1, legacy_format=False)\n",
    "# load 4d image and fetch the first volume\n",
    "difumo_4d = nib.load(difumo_data['maps'])\n",
    "\n",
    "def get_difumo_label(world_coord):\n",
    "    voxel_coord = apply_affine(npl.inv(difumo_4d.affine), world_coord).astype(int)\n",
    "    max = np.max(difumo_4d.get_fdata()[voxel_coord[0], voxel_coord[1], voxel_coord[2], :])\n",
    "    argmax = np.argmax(difumo_4d.get_fdata()[voxel_coord[0], voxel_coord[1], voxel_coord[2], :])\n",
    "    location = difumo_data['labels'].iloc[argmax, :]\n",
    "    return location['difumo_names'], location['yeo_networks7'], max\n",
    "\n",
    "\n",
    "mars_labelmap = nib.load('../resources/MNI152_nonlin_MarsAtlas.nii.gz')\n",
    "mars_labels = pd.read_csv('../resources/MarsLabels_long.csv', index_col=False)\n",
    "\n",
    "def get_mars_label(world_coord, max_radius=30):\n",
    "    voxel_coord = apply_affine(npl.inv(mars_labelmap.affine), world_coord).astype(int)\n",
    "    labelmap_data = mars_labelmap.get_fdata()\n",
    "    nonzero_mask = labelmap_data > 0\n",
    "    # Compute distance transform\n",
    "    distances, indices = distance_transform_edt(~nonzero_mask, return_indices=True)\n",
    "    # Get the closest non-zero label within the max_radius\n",
    "    closest_voxel_coord = indices[:, voxel_coord[0], voxel_coord[1], voxel_coord[2]]\n",
    "    # Ensure the closest voxel is within max_radius\n",
    "    distance_to_closest = distances[tuple(voxel_coord)]\n",
    "    if distance_to_closest > max_radius:\n",
    "        return 0  # Return 0 if no non-zero label is within the radius\n",
    "    label = labelmap_data[closest_voxel_coord[0], closest_voxel_coord[1], closest_voxel_coord[2]]\n",
    "    res = mars_labels.loc[mars_labels['Index'] == label, :].copy()\n",
    "    res.loc[:, 'Distance'] = distance_to_closest\n",
    "    return res\n",
    "   \n",
    "\n",
    "dir_mediation = '/Users/tspisak/data/PIC_conditioning_withinsub_nodatalad/mediation_signflipped_signedquantile_studymod_results'\n",
    "data4d_harmonized = nib.load(f'{dir_mediation}/../all_data_studyranked.nii')\n",
    "pheno = pd.read_csv(f'{dir_mediation}/../signatures.csv')\n",
    "pheno['Rating_diff'] = -1*pheno['Rating_diff']\n",
    "# get mean effect in each group for a given voxel\n",
    "def get_stats(voxel_coord, stat_fun, data4d=data4d_harmonized, pheno=pheno):\n",
    "    data = data4d.get_fdata()[voxel_coord[0], voxel_coord[1], voxel_coord[2], :]\n",
    "    return stat_fun(data, pheno)\n",
    "\n",
    "def stat_fun_groupmeans(data, pheno):\n",
    "    return np.mean(data[pheno['Conditioning']=='suggestions']), np.mean(data[pheno['Conditioning']=='suggestions & conditioning'])\n",
    "\n",
    "def stat_fun_percgt0(data, pheno):\n",
    "    mean_INT, mean_CONDINT = stat_fun_groupmeans(data, pheno)\n",
    "    return (mean_INT+0.5)*100, (mean_CONDINT+0.5)*100 #weighted average (across studies) of the % of participants with a positive effect\n",
    "\n",
    "my_cmp = ListedColormap(['cyan', 'blue', 'white', 'white', 'red', 'orange'])"
   ],
   "outputs": [
    {
     "name": "stderr",
     "output_type": "stream",
     "text": [
      "/Users/tspisak/src/placebo-conditioning-meta-analysis/venv/lib/python3.9/site-packages/urllib3/__init__.py:35: NotOpenSSLWarning: urllib3 v2 only supports OpenSSL 1.1.1+, currently the 'ssl' module is compiled with 'LibreSSL 2.8.3'. See: https://github.com/urllib3/urllib3/issues/3020\n",
      "  warnings.warn(\n"
     ]
    }
   ],
   "execution_count": 1
  },
  {
   "cell_type": "code",
   "id": "374aafb530801b4b",
   "metadata": {
    "ExecuteTime": {
     "end_time": "2024-07-31T11:05:07.880472Z",
     "start_time": "2024-07-31T11:05:07.879264Z"
    }
   },
   "source": [],
   "outputs": [],
   "execution_count": 1
  },
  {
   "cell_type": "code",
   "id": "9d849a5524bca3a9",
   "metadata": {
    "ExecuteTime": {
     "end_time": "2024-07-31T11:05:07.910697Z",
     "start_time": "2024-07-31T11:05:07.881938Z"
    }
   },
   "source": [
    "mask = nib.load(f'{dir_mediation}/../full_masked_10_percent.nii')\n",
    "mask_data = mask.get_fdata()\n",
    "\n",
    "contrast = [\n",
    "    \"PathA(XM)\",\n",
    "    \"PathB(MY)\",\n",
    "    \"Indirect(ACME)\",\n",
    "    \"Direct(Total-Indirect)\",\n",
    "    \"INST_mean\",\n",
    "    \"CONDINST_mean\",\n",
    "    \"INSTandCONDINST\",\n",
    "    ]\n",
    "img_type = ['beta', 'thres', 'uncorr_logp', 'fdr_logq']\n",
    "\n",
    "img = {}\n",
    "for c in contrast:\n",
    "    img[c] = {}\n",
    "    for t in img_type:\n",
    "        img[c][t] = nib.load(f'{dir_mediation}/{t}_{c}.nii.gz')"
   ],
   "outputs": [],
   "execution_count": 2
  },
  {
   "cell_type": "code",
   "id": "16b7a42806bd2212",
   "metadata": {
    "ExecuteTime": {
     "end_time": "2024-07-31T11:05:08.656551Z",
     "start_time": "2024-07-31T11:05:08.297991Z"
    }
   },
   "source": [
    "import pandas as pd\n",
    "import seaborn as sns\n",
    "import matplotlib.pyplot as plt\n",
    "from matplotlib.colors import LinearSegmentedColormap\n",
    "from matplotlib.colors import to_rgba\n",
    "from matplotlib.patches import Ellipse\n",
    "import matplotlib as mpl\n",
    "plt.style.use('default')\n",
    "\n",
    "def sub_cmap(cmap, vmin, vmax):\n",
    "    return lambda v: cmap(vmin + (vmax - vmin) * v)\n",
    "\n",
    "def corrs(x, y, z):\n",
    "    #world to voxel\n",
    "    x, y, z = apply_affine(npl.inv(img['PathB(MY)']['beta'].affine), (x, y, z)).astype(int)\n",
    "    beta = img['PathB(MY)']['beta'].get_fdata()[x, y, z] \n",
    "    # calculate correlation:\n",
    "    # r = beta*(std_x/std_y)\n",
    "    # std_x = 1/sqrt(3) - std of the uniform distribution\n",
    "    # std_y = std of the dependent variable\n",
    "    correlation = beta*(1/(2*np.sqrt(3)))/pheno['Rating_diff'].std()\n",
    "    fig, ax = plt.subplots(figsize=(1.3, 1))\n",
    "    data = data4d_harmonized.get_fdata()[x, y, z,:]*100\n",
    "    for study in pheno.Study_ID.unique():\n",
    "        data[pheno.Study_ID==study] -= data[pheno.Study_ID==study].mean() # get rid of the mean\n",
    "        \n",
    "    if correlation > 0:\n",
    "        color = 'red'\n",
    "    else:\n",
    "        color = 'blue'\n",
    "    \n",
    "    cmap = LinearSegmentedColormap.from_list(\"\", [\"white\",\"lightgray\"])\n",
    "    sns.kdeplot(y=pheno['Rating_diff'], x=data, levels=3, cmap=cmap, fill=True, thresh=0.33) #levels=[0.5, 0.75], color='gray', fill=['gray', 'red'])\n",
    "    sns.regplot(y=pheno['Rating_diff'], x=data, color=color, scatter=False, line_kws=dict(alpha=1)) #, x_estimator=np.mean, x_bins=np.arange(-100, 100, 50))\n",
    "    plt.setp(ax.collections[1], alpha=0.3, color=color, zorder=10)\n",
    "    plt.xticks([-30, 0, 30])\n",
    "    #plt.yticks([5, 10, 15])\n",
    "    plt.ylim(-10, 35)\n",
    "    plt.xlim(-60, 60)\n",
    "    plt.xlabel('Percentile from 0')\n",
    "    sns.despine(left=True, bottom=True)\n",
    "    return correlation, beta\n",
    "\n",
    "# test it\n",
    "corrs(-10, 0, 0)"
   ],
   "outputs": [
    {
     "data": {
      "text/plain": [
       "(-0.09800222618622087, -5.75075972095036)"
      ]
     },
     "execution_count": 3,
     "metadata": {},
     "output_type": "execute_result"
    },
    {
     "data": {
      "text/plain": [
       "<Figure size 130x100 with 1 Axes>"
      ],
      "image/png": "[encoded data removed]"
     },
     "metadata": {},
     "output_type": "display_data"
    }
   ],
   "execution_count": 3
  },
  {
   "cell_type": "markdown",
   "id": "9b4424581c61e779",
   "metadata": {},
   "source": [
    "## MricroGL scripts\n",
    "We select slices with at least n_sign significant voxels"
   ]
  },
  {
   "cell_type": "code",
   "id": "ff24e65f5a0ac5d8",
   "metadata": {
    "ExecuteTime": {
     "end_time": "2024-07-31T11:05:10.071021Z",
     "start_time": "2024-07-31T11:05:09.999533Z"
    }
   },
   "source": [
    "from nilearn.plotting import find_cut_slices\n",
    "\n",
    "coords = find_cut_slices(img['PathB(MY)']['uncorr_logp'], direction=\"z\", n_cuts=9)\n",
    "coords = ' '.join(str(z) for z in coords)\n",
    "f'A H -0.1 V -0.1 {coords} S X R 0'"
   ],
   "outputs": [
    {
     "data": {
      "text/plain": [
       "'A H -0.1 V -0.1 -42.0 -30.0 -14.0 6.0 18.0 28.0 44.0 56.0 68.0 S X R 0'"
      ]
     },
     "execution_count": 4,
     "metadata": {},
     "output_type": "execute_result"
    }
   ],
   "execution_count": 4
  },
  {
   "cell_type": "code",
   "execution_count": 52,
   "id": "a6b2337e2d016306",
   "metadata": {
    "ExecuteTime": {
     "end_time": "2024-07-23T11:36:54.058048Z",
     "start_time": "2024-07-23T11:36:53.233276Z"
    }
   },
   "outputs": [
    {
     "name": "stderr",
     "output_type": "stream",
     "text": [
      "/Users/tspisak/src/placebo-conditioning-meta-analysis/venv/lib/python3.9/site-packages/numpy/core/fromnumeric.py:771: UserWarning: Warning: 'partition' will ignore the 'mask' of the MaskedArray.\n",
      "  a.partition(kth, axis=axis, kind=kind, order=order)\n"
     ]
    }
   ],
   "source": [
    "nip.view_img(img['PathB(MY)']['thres']).open_in_browser()"
   ]
  },
  {
   "cell_type": "code",
   "id": "eca01afbe980a0f2",
   "metadata": {
    "ExecuteTime": {
     "end_time": "2024-07-31T11:16:38.511026Z",
     "start_time": "2024-07-31T11:16:16.068304Z"
    }
   },
   "source": [
    "clust_table = get_clusters_table(stat_img=img['PathB(MY)']['uncorr_logp'],\n",
    "                                 stat_threshold=-np.log10(0.01),\n",
    "                                 cluster_threshold=20, #voxels\n",
    "                                 min_distance=20 #mm\n",
    "                                 )\n",
    "\n",
    "clust_table['region'] = 'N/A'\n",
    "clust_table['yeo_network'] = 'N/A'\n",
    "\n",
    "# convert pandas column type row type to int\n",
    "clust_table['X'] = clust_table['X'].astype(int)\n",
    "clust_table['Y'] = clust_table['Y'].astype(int)\n",
    "clust_table['Z'] = clust_table['Z'].astype(int)\n",
    "\n",
    "for i, row in clust_table.iterrows():\n",
    "    x, y, z = row['X'], row['Y'], row['Z']\n",
    "    x_vox, y_vox, z_vox = apply_affine(npl.inv(img['PathB(MY)']['beta'].affine), (x, y, z)).astype(int)\n",
    "    clust_table.loc[row.name, 'Effect size'] = img['PathB(MY)']['beta'].get_fdata()[x_vox, y_vox, z_vox] \n",
    "    # calculate correlation:\n",
    "    # r = beta*(std_x/std_y)\n",
    "    # std_x = 1/sqrt(3) - std of the uniform distribution\n",
    "    # std_y = std of the dependent variable\n",
    "    clust_table.loc[row.name, 'Correlation'] = np.round(clust_table.loc[row.name, 'Effect size']*(1/(2*np.sqrt(3)))/pheno['Rating_diff'].std(), 1)\n",
    "    \n",
    "    clust_table.loc[row.name, 'Direction'] = np.sign(clust_table.loc[row.name, 'Effect size'])\n",
    "    \n",
    "    clust_table.loc[row.name, 'Mean INST'] = np.round(img['INST_mean']['beta'].get_fdata()[x_vox, y_vox, z_vox]*100+50, 1)\n",
    "    clust_table.loc[row.name, 'Mean COND'] = np.round(img['CONDINST_mean']['beta'].get_fdata()[x_vox, y_vox, z_vox]*100+50, 1)\n",
    "    \n",
    "    mars_region = get_mars_label([x, y, z])\n",
    "    clust_table.loc[row.name, 'Mars region'] = mars_region['Hemisphere'].values[0] + ' ' + mars_region['Full_name'].values[0] \n",
    "\n",
    "    region, yeo_nw, prob = get_difumo_label([x, y, z])\n",
    "    clust_table.loc[row.name, 'DiFuMo region'] = region\n",
    "    clust_table.loc[row.name, 'yeo_network'] = yeo_nw\n",
    "\n",
    "    clust_table.loc[row.name, 'Peak Stat uncorr'] = 10 ** (-row['Peak Stat'])\n",
    "    if clust_table.loc[row.name, 'Peak Stat uncorr'] < 0.0001:\n",
    "        clust_table.loc[row.name, 'Peak Stat uncorr'] = '<0.0001'\n",
    "    clust_table.loc[row.name, 'Peak Stat FDR'] = 10 ** (- img['PathB(MY)']['fdr_logq'].get_fdata()[x_vox, y_vox, z_vox])\n",
    "    \n",
    "    # delete row if peak is not fdr significant\n",
    "    if clust_table.loc[row.name, 'Peak Stat FDR'] > 0.05:\n",
    "        clust_table.drop(row.name, inplace=True)\n",
    "        continue\n",
    "    \n",
    "    if clust_table.loc[row.name, 'Peak Stat FDR'] < 0.0001:\n",
    "        clust_table.loc[row.name, 'Peak Stat FDR'] = '<0.0001'\n",
    "        \n",
    "\n",
    "    ### specific for path A\n",
    "    pgt0_INT, pgt0_CONDINT = get_stats(voxel_coord=(x_vox, y_vox, z_vox), stat_fun=stat_fun_percgt0)\n",
    "    # weighted average (across studies) of the % of participants with a positive effect\n",
    "    clust_table.loc[row.name, 'perc_gt0_INT'] = pgt0_INT\n",
    "    clust_table.loc[row.name, 'perc_gt0_CONDINT'] = pgt0_CONDINT\n",
    "    # difference in % of participants with a positive effect - when modelling sex and age\n",
    "    clust_table.loc[row.name, 'perc_gt0_diff'] = pgt0_CONDINT - pgt0_INT\n",
    "\n",
    "pd.set_option(\"display.precision\", 5)\n",
    "clust_table[['Cluster ID', 'Cluster Size (mm3)', 'X', 'Y', 'Z', 'Mean INST', 'Mean COND',\n",
    "     'Effect size', 'Correlation', 'Peak Stat uncorr', 'Peak Stat FDR', 'Mars region', 'DiFuMo region', 'yeo_network', ]]"
   ],
   "outputs": [
    {
     "name": "stderr",
     "output_type": "stream",
     "text": [
      "/var/folders/rc/b4064_3d4dj60wt9y_447fyr0000gn/T/ipykernel_48102/2223270658.py:39: FutureWarning: Setting an item of incompatible dtype is deprecated and will raise an error in a future version of pandas. Value '<0.0001' has dtype incompatible with float64, please explicitly cast to a compatible dtype first.\n",
      "  clust_table.loc[row.name, 'Peak Stat uncorr'] = '<0.0001'\n",
      "/var/folders/rc/b4064_3d4dj60wt9y_447fyr0000gn/T/ipykernel_48102/2223270658.py:48: FutureWarning: Setting an item of incompatible dtype is deprecated and will raise an error in a future version of pandas. Value '<0.0001' has dtype incompatible with float64, please explicitly cast to a compatible dtype first.\n",
      "  clust_table.loc[row.name, 'Peak Stat FDR'] = '<0.0001'\n"
     ]
    },
    {
     "data": {
      "text/plain": [
       "   Cluster ID Cluster Size (mm3)   X   Y   Z  Mean INST  Mean COND  \\\n",
       "0           1              10544  64 -42  18       55.8       49.1   \n",
       "1          1a                     50  -4   8       49.5       48.8   \n",
       "2          1b                     54 -18  28       51.5       42.4   \n",
       "3          1c                     58 -38  18       52.3       46.1   \n",
       "4           2                520 -26 -62  10       42.7       29.4   \n",
       "5           3                392 -26  50  30       51.3       45.6   \n",
       "6           4               1160 -14 -46  70       48.7       41.0   \n",
       "7           5                808  -6 -88   6       45.5       44.9   \n",
       "8           6               1352  -4  -4   6       42.8       39.6   \n",
       "9           7                648   2 -66 -24       40.1       34.1   \n",
       "10          8                976   0   6  12       46.3       47.0   \n",
       "11          9               2448 -46 -36  24       38.6       35.9   \n",
       "12         9a                    -64 -24  22       46.9       42.7   \n",
       "13         9b                    -60 -30  42       43.3       41.9   \n",
       "14         10                464  14 -32  44       47.6       44.5   \n",
       "15         11               9760  18  -2  44       44.7       38.4   \n",
       "16        11a                      4   4  66       47.9       44.7   \n",
       "17        11b                      8  -8  44       34.1       28.3   \n",
       "18        11c                     10   6  68       43.9       42.3   \n",
       "19         12               1968  22 -42  66       44.6       42.6   \n",
       "20         13                296   8 -74 -10       39.3       44.2   \n",
       "21         14                464  30  -4 -14       45.4       43.7   \n",
       "22         15                960  50   2  50       43.2       41.4   \n",
       "23         16               1272  40 -22  22       44.2       40.6   \n",
       "24         17                880  30 -18  64       46.9       41.3   \n",
       "25         18                408  42 -36  64       54.6       56.2   \n",
       "26         19                160  30 -64  24       41.7       30.6   \n",
       "27         20                384 -10 -14  38       37.7       41.0   \n",
       "28         21               1304  10 -16   6       53.3       51.5   \n",
       "29         22                328 -16 -26 -18       47.9       47.6   \n",
       "30         23                240  -8 -72 -10       40.1       47.4   \n",
       "31         24                832 -18   0  58       47.4       42.2   \n",
       "32         25                232  32 -38  70       49.5       45.0   \n",
       "33         26                568  36 -36  34       33.9       30.9   \n",
       "34         27                680 -56  -8  10       58.3       54.6   \n",
       "35        27a                    -52   8  -2       48.4       45.4   \n",
       "36         28                360 -26 -26  56       45.6       38.9   \n",
       "37         29                496 -14 -60  34       48.3       41.7   \n",
       "38         30                184  20  -6  16       43.4       40.8   \n",
       "\n",
       "    Effect size  Correlation Peak Stat uncorr Peak Stat FDR  \\\n",
       "0      -9.89988         -0.2          <0.0001       <0.0001   \n",
       "1      -9.57251         -0.2          <0.0001       <0.0001   \n",
       "2      -8.20811         -0.1          <0.0001       <0.0001   \n",
       "3      -7.84655         -0.1          <0.0001       <0.0001   \n",
       "4      -8.12383         -0.1          <0.0001       <0.0001   \n",
       "5      -8.39572         -0.1          <0.0001       <0.0001   \n",
       "6      -9.01556         -0.2          <0.0001       <0.0001   \n",
       "7      -8.46841         -0.1          <0.0001       <0.0001   \n",
       "8      -8.04378         -0.1          <0.0001       <0.0001   \n",
       "9      -9.80946         -0.2          <0.0001       <0.0001   \n",
       "10      9.11488          0.2          <0.0001       <0.0001   \n",
       "11     -9.48223         -0.2          <0.0001       <0.0001   \n",
       "12     -9.39936         -0.2          <0.0001       <0.0001   \n",
       "13     -8.77735         -0.1          0.00011       0.04669   \n",
       "14     -8.27461         -0.1          <0.0001       <0.0001   \n",
       "15     -8.17923         -0.1          <0.0001       <0.0001   \n",
       "16    -10.04563         -0.2          <0.0001       <0.0001   \n",
       "17    -10.38285         -0.2          <0.0001       <0.0001   \n",
       "18    -10.16030         -0.2          <0.0001       <0.0001   \n",
       "19     -9.92770         -0.2          <0.0001       <0.0001   \n",
       "20     -7.84426         -0.1          <0.0001       <0.0001   \n",
       "21     -9.39501         -0.2          <0.0001       <0.0001   \n",
       "22     -8.68993         -0.1          <0.0001       <0.0001   \n",
       "23     -9.79498         -0.2          <0.0001       <0.0001   \n",
       "24     -9.89977         -0.2          <0.0001       <0.0001   \n",
       "25     -8.42277         -0.1          <0.0001       <0.0001   \n",
       "26     -8.47894         -0.1          <0.0001       <0.0001   \n",
       "27     -9.79564         -0.2          <0.0001       0.00048   \n",
       "28    -10.95208         -0.2          <0.0001       0.00073   \n",
       "29     -8.34819         -0.1          <0.0001       0.00277   \n",
       "30     -8.32083         -0.1          <0.0001       0.00302   \n",
       "31     -7.76006         -0.1          <0.0001       0.00325   \n",
       "32     -8.45916         -0.1          <0.0001       0.00325   \n",
       "33     -8.57685         -0.1          <0.0001       0.00697   \n",
       "34     -7.69856         -0.1          <0.0001       0.01461   \n",
       "35     -7.73226         -0.1          0.00011       0.04536   \n",
       "36     -8.18245         -0.1          <0.0001        0.0195   \n",
       "37     -9.15817         -0.2          <0.0001       0.03266   \n",
       "38    -10.28566         -0.2          0.00011       0.04519   \n",
       "\n",
       "                                          Mars region  \\\n",
       "0                 Right Caudal Middle Temporal Cortex   \n",
       "1                          Right Ventral Motor Cortex   \n",
       "2               Right Dorsal Inferior Parietal Cortex   \n",
       "3               Right Caudal Superior Temporal Cortex   \n",
       "4                   Left Rostral Medial Visual Cortex   \n",
       "5   Left Rostral Dorsolateral Superior Prefrontal ...   \n",
       "6               Left Dorsomedial Somatosensory Cortex   \n",
       "7                                         Left Cuneus   \n",
       "8                                       Left Thalamus   \n",
       "9                   Right Caudal Medial Visual Cortex   \n",
       "10                                       Left Caudate   \n",
       "11              Left Ventral Inferior Parietal Cortex   \n",
       "12              Left Ventral Inferior Parietal Cortex   \n",
       "13               Left Dorsal Inferior Parietal Cortex   \n",
       "14             Right Dorsomedial Somatosensory Cortex   \n",
       "15                     Right Dorsomedial Motor Cortex   \n",
       "16                  Right Dorsomedial Premotor Cortex   \n",
       "17                         Right Mid Cingulate Cortex   \n",
       "18                  Right Dorsomedial Premotor Cortex   \n",
       "19             Right Dorsomedial Somatosensory Cortex   \n",
       "20                  Right Caudal Medial Visual Cortex   \n",
       "21                                     Right Amygdala   \n",
       "22                    Right Dorsolateral Motor Cortex   \n",
       "23             Right Ventral Inferior Parietal Cortex   \n",
       "24                     Right Dorsomedial Motor Cortex   \n",
       "25            Right Dorsolateral Somatosensory Cortex   \n",
       "26                                       Right Cuneus   \n",
       "27                          Left Mid Cingulate Cortex   \n",
       "28                                     Right Thalamus   \n",
       "29               Left Medial Inferior Temporal Cortex   \n",
       "30                  Left Rostral Medial Visual Cortex   \n",
       "31                   Left Dorsomedial Premotor Cortex   \n",
       "32            Right Dorsolateral Somatosensory Cortex   \n",
       "33              Right Dorsal Inferior Parietal Cortex   \n",
       "34                          Left Ventral Motor Cortex   \n",
       "35                          Left Ventral Motor Cortex   \n",
       "36                      Left Dorsomedial Motor Cortex   \n",
       "37                        Left Medial Parietal Cortex   \n",
       "38                                      Right Caudate   \n",
       "\n",
       "                                        DiFuMo region       yeo_network  \n",
       "0                                    Angular gyrus RH         DorsAttnB  \n",
       "1                            Central operculum cortex           SomMotA  \n",
       "2                     Supramarginal gyrus anterior RH      SalVentAttnA  \n",
       "3                                    Angular gyrus RH         DorsAttnB  \n",
       "4                               Intracalcarine cortex           VisCent  \n",
       "5                    Superior frontal sulcus anterior          DefaultB  \n",
       "6                                  Paracentral lobule           SomMotA  \n",
       "7                          Calcarine cortex posterior           VisCent  \n",
       "8                                            Thalamus  No network found  \n",
       "9                              Cerebellum VI anterior  No network found  \n",
       "10                    Middle frontal gyrus lateral LH             ContA  \n",
       "11                             Supramarginal gyrus LH      SalVentAttnA  \n",
       "12                             Supramarginal gyrus LH      SalVentAttnA  \n",
       "13                     Postcentral sulcus inferior LH         DorsAttnB  \n",
       "14                         Cingulate sulcus posterior      SalVentAttnA  \n",
       "15                    Middle frontal gyrus lateral LH             ContA  \n",
       "16               Paracingulate gyrus postero-superior      SalVentAttnA  \n",
       "17               Paracingulate gyrus postero-inferior           SomMotA  \n",
       "18  Cerebrospinal fluid (between superior part of ...      SalVentAttnA  \n",
       "19  Superior precentral and postcentral sulci post...           SomMotA  \n",
       "20                             Cerebellum VI superior           VisCent  \n",
       "21                                Hippocampal fissure  No network found  \n",
       "22                         Precentral sulcus superior         DorsAttnB  \n",
       "23                           Central operculum cortex           SomMotA  \n",
       "24                               Postcentral gyrus RH           SomMotA  \n",
       "25                           Postcentral gyrus middle         DorsAttnB  \n",
       "26                    Middle frontal gyrus lateral LH             ContA  \n",
       "27                         Cingulate sulcus posterior      SalVentAttnA  \n",
       "28                                           Thalamus  No network found  \n",
       "29                    Middle frontal gyrus lateral LH             ContA  \n",
       "30                             Cerebellum VI superior           VisCent  \n",
       "31                    Middle frontal gyrus lateral LH             ContA  \n",
       "32                           Postcentral gyrus middle         DorsAttnB  \n",
       "33                    Middle frontal gyrus lateral LH             ContA  \n",
       "34                  Insula center and lateral fissure      SalVentAttnA  \n",
       "35                           Lateral fissure anterior      SalVentAttnA  \n",
       "36                      Postcentral gyrus superior LH           SomMotA  \n",
       "37           Parieto-occipital sulcus antero-superior             ContA  \n",
       "38                                           Thalamus  No network found  "
      ],
      "text/html": [
       "<div>\n",
       "<style scoped>\n",
       "    .dataframe tbody tr th:only-of-type {\n",
       "        vertical-align: middle;\n",
       "    }\n",
       "\n",
       "    .dataframe tbody tr th {\n",
       "        vertical-align: top;\n",
       "    }\n",
       "\n",
       "    .dataframe thead th {\n",
       "        text-align: right;\n",
       "    }\n",
       "</style>\n",
       "<table border=\"1\" class=\"dataframe\">\n",
       "  <thead>\n",
       "    <tr style=\"text-align: right;\">\n",
       "      <th></th>\n",
       "      <th>Cluster ID</th>\n",
       "      <th>Cluster Size (mm3)</th>\n",
       "      <th>X</th>\n",
       "      <th>Y</th>\n",
       "      <th>Z</th>\n",
       "      <th>Mean INST</th>\n",
       "      <th>Mean COND</th>\n",
       "      <th>Effect size</th>\n",
       "      <th>Correlation</th>\n",
       "      <th>Peak Stat uncorr</th>\n",
       "      <th>Peak Stat FDR</th>\n",
       "      <th>Mars region</th>\n",
       "      <th>DiFuMo region</th>\n",
       "      <th>yeo_network</th>\n",
       "    </tr>\n",
       "  </thead>\n",
       "  <tbody>\n",
       "    <tr>\n",
       "      <th>0</th>\n",
       "      <td>1</td>\n",
       "      <td>10544</td>\n",
       "      <td>64</td>\n",
       "      <td>-42</td>\n",
       "      <td>18</td>\n",
       "      <td>55.8</td>\n",
       "      <td>49.1</td>\n",
       "      <td>-9.89988</td>\n",
       "      <td>-0.2</td>\n",
       "      <td>&lt;0.0001</td>\n",
       "      <td>&lt;0.0001</td>\n",
       "      <td>Right Caudal Middle Temporal Cortex</td>\n",
       "      <td>Angular gyrus RH</td>\n",
       "      <td>DorsAttnB</td>\n",
       "    </tr>\n",
       "    <tr>\n",
       "      <th>1</th>\n",
       "      <td>1a</td>\n",
       "      <td></td>\n",
       "      <td>50</td>\n",
       "      <td>-4</td>\n",
       "      <td>8</td>\n",
       "      <td>49.5</td>\n",
       "      <td>48.8</td>\n",
       "      <td>-9.57251</td>\n",
       "      <td>-0.2</td>\n",
       "      <td>&lt;0.0001</td>\n",
       "      <td>&lt;0.0001</td>\n",
       "      <td>Right Ventral Motor Cortex</td>\n",
       "      <td>Central operculum cortex</td>\n",
       "      <td>SomMotA</td>\n",
       "    </tr>\n",
       "    <tr>\n",
       "      <th>2</th>\n",
       "      <td>1b</td>\n",
       "      <td></td>\n",
       "      <td>54</td>\n",
       "      <td>-18</td>\n",
       "      <td>28</td>\n",
       "      <td>51.5</td>\n",
       "      <td>42.4</td>\n",
       "      <td>-8.20811</td>\n",
       "      <td>-0.1</td>\n",
       "      <td>&lt;0.0001</td>\n",
       "      <td>&lt;0.0001</td>\n",
       "      <td>Right Dorsal Inferior Parietal Cortex</td>\n",
       "      <td>Supramarginal gyrus anterior RH</td>\n",
       "      <td>SalVentAttnA</td>\n",
       "    </tr>\n",
       "    <tr>\n",
       "      <th>3</th>\n",
       "      <td>1c</td>\n",
       "      <td></td>\n",
       "      <td>58</td>\n",
       "      <td>-38</td>\n",
       "      <td>18</td>\n",
       "      <td>52.3</td>\n",
       "      <td>46.1</td>\n",
       "      <td>-7.84655</td>\n",
       "      <td>-0.1</td>\n",
       "      <td>&lt;0.0001</td>\n",
       "      <td>&lt;0.0001</td>\n",
       "      <td>Right Caudal Superior Temporal Cortex</td>\n",
       "      <td>Angular gyrus RH</td>\n",
       "      <td>DorsAttnB</td>\n",
       "    </tr>\n",
       "    <tr>\n",
       "      <th>4</th>\n",
       "      <td>2</td>\n",
       "      <td>520</td>\n",
       "      <td>-26</td>\n",
       "      <td>-62</td>\n",
       "      <td>10</td>\n",
       "      <td>42.7</td>\n",
       "      <td>29.4</td>\n",
       "      <td>-8.12383</td>\n",
       "      <td>-0.1</td>\n",
       "      <td>&lt;0.0001</td>\n",
       "      <td>&lt;0.0001</td>\n",
       "      <td>Left Rostral Medial Visual Cortex</td>\n",
       "      <td>Intracalcarine cortex</td>\n",
       "      <td>VisCent</td>\n",
       "    </tr>\n",
       "    <tr>\n",
       "      <th>5</th>\n",
       "      <td>3</td>\n",
       "      <td>392</td>\n",
       "      <td>-26</td>\n",
       "      <td>50</td>\n",
       "      <td>30</td>\n",
       "      <td>51.3</td>\n",
       "      <td>45.6</td>\n",
       "      <td>-8.39572</td>\n",
       "      <td>-0.1</td>\n",
       "      <td>&lt;0.0001</td>\n",
       "      <td>&lt;0.0001</td>\n",
       "      <td>Left Rostral Dorsolateral Superior Prefrontal ...</td>\n",
       "      <td>Superior frontal sulcus anterior</td>\n",
       "      <td>DefaultB</td>\n",
       "    </tr>\n",
       "    <tr>\n",
       "      <th>6</th>\n",
       "      <td>4</td>\n",
       "      <td>1160</td>\n",
       "      <td>-14</td>\n",
       "      <td>-46</td>\n",
       "      <td>70</td>\n",
       "      <td>48.7</td>\n",
       "      <td>41.0</td>\n",
       "      <td>-9.01556</td>\n",
       "      <td>-0.2</td>\n",
       "      <td>&lt;0.0001</td>\n",
       "      <td>&lt;0.0001</td>\n",
       "      <td>Left Dorsomedial Somatosensory Cortex</td>\n",
       "      <td>Paracentral lobule</td>\n",
       "      <td>SomMotA</td>\n",
       "    </tr>\n",
       "    <tr>\n",
       "      <th>7</th>\n",
       "      <td>5</td>\n",
       "      <td>808</td>\n",
       "      <td>-6</td>\n",
       "      <td>-88</td>\n",
       "      <td>6</td>\n",
       "      <td>45.5</td>\n",
       "      <td>44.9</td>\n",
       "      <td>-8.46841</td>\n",
       "      <td>-0.1</td>\n",
       "      <td>&lt;0.0001</td>\n",
       "      <td>&lt;0.0001</td>\n",
       "      <td>Left Cuneus</td>\n",
       "      <td>Calcarine cortex posterior</td>\n",
       "      <td>VisCent</td>\n",
       "    </tr>\n",
       "    <tr>\n",
       "      <th>8</th>\n",
       "      <td>6</td>\n",
       "      <td>1352</td>\n",
       "      <td>-4</td>\n",
       "      <td>-4</td>\n",
       "      <td>6</td>\n",
       "      <td>42.8</td>\n",
       "      <td>39.6</td>\n",
       "      <td>-8.04378</td>\n",
       "      <td>-0.1</td>\n",
       "      <td>&lt;0.0001</td>\n",
       "      <td>&lt;0.0001</td>\n",
       "      <td>Left Thalamus</td>\n",
       "      <td>Thalamus</td>\n",
       "      <td>No network found</td>\n",
       "    </tr>\n",
       "    <tr>\n",
       "      <th>9</th>\n",
       "      <td>7</td>\n",
       "      <td>648</td>\n",
       "      <td>2</td>\n",
       "      <td>-66</td>\n",
       "      <td>-24</td>\n",
       "      <td>40.1</td>\n",
       "      <td>34.1</td>\n",
       "      <td>-9.80946</td>\n",
       "      <td>-0.2</td>\n",
       "      <td>&lt;0.0001</td>\n",
       "      <td>&lt;0.0001</td>\n",
       "      <td>Right Caudal Medial Visual Cortex</td>\n",
       "      <td>Cerebellum VI anterior</td>\n",
       "      <td>No network found</td>\n",
       "    </tr>\n",
       "    <tr>\n",
       "      <th>10</th>\n",
       "      <td>8</td>\n",
       "      <td>976</td>\n",
       "      <td>0</td>\n",
       "      <td>6</td>\n",
       "      <td>12</td>\n",
       "      <td>46.3</td>\n",
       "      <td>47.0</td>\n",
       "      <td>9.11488</td>\n",
       "      <td>0.2</td>\n",
       "      <td>&lt;0.0001</td>\n",
       "      <td>&lt;0.0001</td>\n",
       "      <td>Left Caudate</td>\n",
       "      <td>Middle frontal gyrus lateral LH</td>\n",
       "      <td>ContA</td>\n",
       "    </tr>\n",
       "    <tr>\n",
       "      <th>11</th>\n",
       "      <td>9</td>\n",
       "      <td>2448</td>\n",
       "      <td>-46</td>\n",
       "      <td>-36</td>\n",
       "      <td>24</td>\n",
       "      <td>38.6</td>\n",
       "      <td>35.9</td>\n",
       "      <td>-9.48223</td>\n",
       "      <td>-0.2</td>\n",
       "      <td>&lt;0.0001</td>\n",
       "      <td>&lt;0.0001</td>\n",
       "      <td>Left Ventral Inferior Parietal Cortex</td>\n",
       "      <td>Supramarginal gyrus LH</td>\n",
       "      <td>SalVentAttnA</td>\n",
       "    </tr>\n",
       "    <tr>\n",
       "      <th>12</th>\n",
       "      <td>9a</td>\n",
       "      <td></td>\n",
       "      <td>-64</td>\n",
       "      <td>-24</td>\n",
       "      <td>22</td>\n",
       "      <td>46.9</td>\n",
       "      <td>42.7</td>\n",
       "      <td>-9.39936</td>\n",
       "      <td>-0.2</td>\n",
       "      <td>&lt;0.0001</td>\n",
       "      <td>&lt;0.0001</td>\n",
       "      <td>Left Ventral Inferior Parietal Cortex</td>\n",
       "      <td>Supramarginal gyrus LH</td>\n",
       "      <td>SalVentAttnA</td>\n",
       "    </tr>\n",
       "    <tr>\n",
       "      <th>13</th>\n",
       "      <td>9b</td>\n",
       "      <td></td>\n",
       "      <td>-60</td>\n",
       "      <td>-30</td>\n",
       "      <td>42</td>\n",
       "      <td>43.3</td>\n",
       "      <td>41.9</td>\n",
       "      <td>-8.77735</td>\n",
       "      <td>-0.1</td>\n",
       "      <td>0.00011</td>\n",
       "      <td>0.04669</td>\n",
       "      <td>Left Dorsal Inferior Parietal Cortex</td>\n",
       "      <td>Postcentral sulcus inferior LH</td>\n",
       "      <td>DorsAttnB</td>\n",
       "    </tr>\n",
       "    <tr>\n",
       "      <th>14</th>\n",
       "      <td>10</td>\n",
       "      <td>464</td>\n",
       "      <td>14</td>\n",
       "      <td>-32</td>\n",
       "      <td>44</td>\n",
       "      <td>47.6</td>\n",
       "      <td>44.5</td>\n",
       "      <td>-8.27461</td>\n",
       "      <td>-0.1</td>\n",
       "      <td>&lt;0.0001</td>\n",
       "      <td>&lt;0.0001</td>\n",
       "      <td>Right Dorsomedial Somatosensory Cortex</td>\n",
       "      <td>Cingulate sulcus posterior</td>\n",
       "      <td>SalVentAttnA</td>\n",
       "    </tr>\n",
       "    <tr>\n",
       "      <th>15</th>\n",
       "      <td>11</td>\n",
       "      <td>9760</td>\n",
       "      <td>18</td>\n",
       "      <td>-2</td>\n",
       "      <td>44</td>\n",
       "      <td>44.7</td>\n",
       "      <td>38.4</td>\n",
       "      <td>-8.17923</td>\n",
       "      <td>-0.1</td>\n",
       "      <td>&lt;0.0001</td>\n",
       "      <td>&lt;0.0001</td>\n",
       "      <td>Right Dorsomedial Motor Cortex</td>\n",
       "      <td>Middle frontal gyrus lateral LH</td>\n",
       "      <td>ContA</td>\n",
       "    </tr>\n",
       "    <tr>\n",
       "      <th>16</th>\n",
       "      <td>11a</td>\n",
       "      <td></td>\n",
       "      <td>4</td>\n",
       "      <td>4</td>\n",
       "      <td>66</td>\n",
       "      <td>47.9</td>\n",
       "      <td>44.7</td>\n",
       "      <td>-10.04563</td>\n",
       "      <td>-0.2</td>\n",
       "      <td>&lt;0.0001</td>\n",
       "      <td>&lt;0.0001</td>\n",
       "      <td>Right Dorsomedial Premotor Cortex</td>\n",
       "      <td>Paracingulate gyrus postero-superior</td>\n",
       "      <td>SalVentAttnA</td>\n",
       "    </tr>\n",
       "    <tr>\n",
       "      <th>17</th>\n",
       "      <td>11b</td>\n",
       "      <td></td>\n",
       "      <td>8</td>\n",
       "      <td>-8</td>\n",
       "      <td>44</td>\n",
       "      <td>34.1</td>\n",
       "      <td>28.3</td>\n",
       "      <td>-10.38285</td>\n",
       "      <td>-0.2</td>\n",
       "      <td>&lt;0.0001</td>\n",
       "      <td>&lt;0.0001</td>\n",
       "      <td>Right Mid Cingulate Cortex</td>\n",
       "      <td>Paracingulate gyrus postero-inferior</td>\n",
       "      <td>SomMotA</td>\n",
       "    </tr>\n",
       "    <tr>\n",
       "      <th>18</th>\n",
       "      <td>11c</td>\n",
       "      <td></td>\n",
       "      <td>10</td>\n",
       "      <td>6</td>\n",
       "      <td>68</td>\n",
       "      <td>43.9</td>\n",
       "      <td>42.3</td>\n",
       "      <td>-10.16030</td>\n",
       "      <td>-0.2</td>\n",
       "      <td>&lt;0.0001</td>\n",
       "      <td>&lt;0.0001</td>\n",
       "      <td>Right Dorsomedial Premotor Cortex</td>\n",
       "      <td>Cerebrospinal fluid (between superior part of ...</td>\n",
       "      <td>SalVentAttnA</td>\n",
       "    </tr>\n",
       "    <tr>\n",
       "      <th>19</th>\n",
       "      <td>12</td>\n",
       "      <td>1968</td>\n",
       "      <td>22</td>\n",
       "      <td>-42</td>\n",
       "      <td>66</td>\n",
       "      <td>44.6</td>\n",
       "      <td>42.6</td>\n",
       "      <td>-9.92770</td>\n",
       "      <td>-0.2</td>\n",
       "      <td>&lt;0.0001</td>\n",
       "      <td>&lt;0.0001</td>\n",
       "      <td>Right Dorsomedial Somatosensory Cortex</td>\n",
       "      <td>Superior precentral and postcentral sulci post...</td>\n",
       "      <td>SomMotA</td>\n",
       "    </tr>\n",
       "    <tr>\n",
       "      <th>20</th>\n",
       "      <td>13</td>\n",
       "      <td>296</td>\n",
       "      <td>8</td>\n",
       "      <td>-74</td>\n",
       "      <td>-10</td>\n",
       "      <td>39.3</td>\n",
       "      <td>44.2</td>\n",
       "      <td>-7.84426</td>\n",
       "      <td>-0.1</td>\n",
       "      <td>&lt;0.0001</td>\n",
       "      <td>&lt;0.0001</td>\n",
       "      <td>Right Caudal Medial Visual Cortex</td>\n",
       "      <td>Cerebellum VI superior</td>\n",
       "      <td>VisCent</td>\n",
       "    </tr>\n",
       "    <tr>\n",
       "      <th>21</th>\n",
       "      <td>14</td>\n",
       "      <td>464</td>\n",
       "      <td>30</td>\n",
       "      <td>-4</td>\n",
       "      <td>-14</td>\n",
       "      <td>45.4</td>\n",
       "      <td>43.7</td>\n",
       "      <td>-9.39501</td>\n",
       "      <td>-0.2</td>\n",
       "      <td>&lt;0.0001</td>\n",
       "      <td>&lt;0.0001</td>\n",
       "      <td>Right Amygdala</td>\n",
       "      <td>Hippocampal fissure</td>\n",
       "      <td>No network found</td>\n",
       "    </tr>\n",
       "    <tr>\n",
       "      <th>22</th>\n",
       "      <td>15</td>\n",
       "      <td>960</td>\n",
       "      <td>50</td>\n",
       "      <td>2</td>\n",
       "      <td>50</td>\n",
       "      <td>43.2</td>\n",
       "      <td>41.4</td>\n",
       "      <td>-8.68993</td>\n",
       "      <td>-0.1</td>\n",
       "      <td>&lt;0.0001</td>\n",
       "      <td>&lt;0.0001</td>\n",
       "      <td>Right Dorsolateral Motor Cortex</td>\n",
       "      <td>Precentral sulcus superior</td>\n",
       "      <td>DorsAttnB</td>\n",
       "    </tr>\n",
       "    <tr>\n",
       "      <th>23</th>\n",
       "      <td>16</td>\n",
       "      <td>1272</td>\n",
       "      <td>40</td>\n",
       "      <td>-22</td>\n",
       "      <td>22</td>\n",
       "      <td>44.2</td>\n",
       "      <td>40.6</td>\n",
       "      <td>-9.79498</td>\n",
       "      <td>-0.2</td>\n",
       "      <td>&lt;0.0001</td>\n",
       "      <td>&lt;0.0001</td>\n",
       "      <td>Right Ventral Inferior Parietal Cortex</td>\n",
       "      <td>Central operculum cortex</td>\n",
       "      <td>SomMotA</td>\n",
       "    </tr>\n",
       "    <tr>\n",
       "      <th>24</th>\n",
       "      <td>17</td>\n",
       "      <td>880</td>\n",
       "      <td>30</td>\n",
       "      <td>-18</td>\n",
       "      <td>64</td>\n",
       "      <td>46.9</td>\n",
       "      <td>41.3</td>\n",
       "      <td>-9.89977</td>\n",
       "      <td>-0.2</td>\n",
       "      <td>&lt;0.0001</td>\n",
       "      <td>&lt;0.0001</td>\n",
       "      <td>Right Dorsomedial Motor Cortex</td>\n",
       "      <td>Postcentral gyrus RH</td>\n",
       "      <td>SomMotA</td>\n",
       "    </tr>\n",
       "    <tr>\n",
       "      <th>25</th>\n",
       "      <td>18</td>\n",
       "      <td>408</td>\n",
       "      <td>42</td>\n",
       "      <td>-36</td>\n",
       "      <td>64</td>\n",
       "      <td>54.6</td>\n",
       "      <td>56.2</td>\n",
       "      <td>-8.42277</td>\n",
       "      <td>-0.1</td>\n",
       "      <td>&lt;0.0001</td>\n",
       "      <td>&lt;0.0001</td>\n",
       "      <td>Right Dorsolateral Somatosensory Cortex</td>\n",
       "      <td>Postcentral gyrus middle</td>\n",
       "      <td>DorsAttnB</td>\n",
       "    </tr>\n",
       "    <tr>\n",
       "      <th>26</th>\n",
       "      <td>19</td>\n",
       "      <td>160</td>\n",
       "      <td>30</td>\n",
       "      <td>-64</td>\n",
       "      <td>24</td>\n",
       "      <td>41.7</td>\n",
       "      <td>30.6</td>\n",
       "      <td>-8.47894</td>\n",
       "      <td>-0.1</td>\n",
       "      <td>&lt;0.0001</td>\n",
       "      <td>&lt;0.0001</td>\n",
       "      <td>Right Cuneus</td>\n",
       "      <td>Middle frontal gyrus lateral LH</td>\n",
       "      <td>ContA</td>\n",
       "    </tr>\n",
       "    <tr>\n",
       "      <th>27</th>\n",
       "      <td>20</td>\n",
       "      <td>384</td>\n",
       "      <td>-10</td>\n",
       "      <td>-14</td>\n",
       "      <td>38</td>\n",
       "      <td>37.7</td>\n",
       "      <td>41.0</td>\n",
       "      <td>-9.79564</td>\n",
       "      <td>-0.2</td>\n",
       "      <td>&lt;0.0001</td>\n",
       "      <td>0.00048</td>\n",
       "      <td>Left Mid Cingulate Cortex</td>\n",
       "      <td>Cingulate sulcus posterior</td>\n",
       "      <td>SalVentAttnA</td>\n",
       "    </tr>\n",
       "    <tr>\n",
       "      <th>28</th>\n",
       "      <td>21</td>\n",
       "      <td>1304</td>\n",
       "      <td>10</td>\n",
       "      <td>-16</td>\n",
       "      <td>6</td>\n",
       "      <td>53.3</td>\n",
       "      <td>51.5</td>\n",
       "      <td>-10.95208</td>\n",
       "      <td>-0.2</td>\n",
       "      <td>&lt;0.0001</td>\n",
       "      <td>0.00073</td>\n",
       "      <td>Right Thalamus</td>\n",
       "      <td>Thalamus</td>\n",
       "      <td>No network found</td>\n",
       "    </tr>\n",
       "    <tr>\n",
       "      <th>29</th>\n",
       "      <td>22</td>\n",
       "      <td>328</td>\n",
       "      <td>-16</td>\n",
       "      <td>-26</td>\n",
       "      <td>-18</td>\n",
       "      <td>47.9</td>\n",
       "      <td>47.6</td>\n",
       "      <td>-8.34819</td>\n",
       "      <td>-0.1</td>\n",
       "      <td>&lt;0.0001</td>\n",
       "      <td>0.00277</td>\n",
       "      <td>Left Medial Inferior Temporal Cortex</td>\n",
       "      <td>Middle frontal gyrus lateral LH</td>\n",
       "      <td>ContA</td>\n",
       "    </tr>\n",
       "    <tr>\n",
       "      <th>30</th>\n",
       "      <td>23</td>\n",
       "      <td>240</td>\n",
       "      <td>-8</td>\n",
       "      <td>-72</td>\n",
       "      <td>-10</td>\n",
       "      <td>40.1</td>\n",
       "      <td>47.4</td>\n",
       "      <td>-8.32083</td>\n",
       "      <td>-0.1</td>\n",
       "      <td>&lt;0.0001</td>\n",
       "      <td>0.00302</td>\n",
       "      <td>Left Rostral Medial Visual Cortex</td>\n",
       "      <td>Cerebellum VI superior</td>\n",
       "      <td>VisCent</td>\n",
       "    </tr>\n",
       "    <tr>\n",
       "      <th>31</th>\n",
       "      <td>24</td>\n",
       "      <td>832</td>\n",
       "      <td>-18</td>\n",
       "      <td>0</td>\n",
       "      <td>58</td>\n",
       "      <td>47.4</td>\n",
       "      <td>42.2</td>\n",
       "      <td>-7.76006</td>\n",
       "      <td>-0.1</td>\n",
       "      <td>&lt;0.0001</td>\n",
       "      <td>0.00325</td>\n",
       "      <td>Left Dorsomedial Premotor Cortex</td>\n",
       "      <td>Middle frontal gyrus lateral LH</td>\n",
       "      <td>ContA</td>\n",
       "    </tr>\n",
       "    <tr>\n",
       "      <th>32</th>\n",
       "      <td>25</td>\n",
       "      <td>232</td>\n",
       "      <td>32</td>\n",
       "      <td>-38</td>\n",
       "      <td>70</td>\n",
       "      <td>49.5</td>\n",
       "      <td>45.0</td>\n",
       "      <td>-8.45916</td>\n",
       "      <td>-0.1</td>\n",
       "      <td>&lt;0.0001</td>\n",
       "      <td>0.00325</td>\n",
       "      <td>Right Dorsolateral Somatosensory Cortex</td>\n",
       "      <td>Postcentral gyrus middle</td>\n",
       "      <td>DorsAttnB</td>\n",
       "    </tr>\n",
       "    <tr>\n",
       "      <th>33</th>\n",
       "      <td>26</td>\n",
       "      <td>568</td>\n",
       "      <td>36</td>\n",
       "      <td>-36</td>\n",
       "      <td>34</td>\n",
       "      <td>33.9</td>\n",
       "      <td>30.9</td>\n",
       "      <td>-8.57685</td>\n",
       "      <td>-0.1</td>\n",
       "      <td>&lt;0.0001</td>\n",
       "      <td>0.00697</td>\n",
       "      <td>Right Dorsal Inferior Parietal Cortex</td>\n",
       "      <td>Middle frontal gyrus lateral LH</td>\n",
       "      <td>ContA</td>\n",
       "    </tr>\n",
       "    <tr>\n",
       "      <th>34</th>\n",
       "      <td>27</td>\n",
       "      <td>680</td>\n",
       "      <td>-56</td>\n",
       "      <td>-8</td>\n",
       "      <td>10</td>\n",
       "      <td>58.3</td>\n",
       "      <td>54.6</td>\n",
       "      <td>-7.69856</td>\n",
       "      <td>-0.1</td>\n",
       "      <td>&lt;0.0001</td>\n",
       "      <td>0.01461</td>\n",
       "      <td>Left Ventral Motor Cortex</td>\n",
       "      <td>Insula center and lateral fissure</td>\n",
       "      <td>SalVentAttnA</td>\n",
       "    </tr>\n",
       "    <tr>\n",
       "      <th>35</th>\n",
       "      <td>27a</td>\n",
       "      <td></td>\n",
       "      <td>-52</td>\n",
       "      <td>8</td>\n",
       "      <td>-2</td>\n",
       "      <td>48.4</td>\n",
       "      <td>45.4</td>\n",
       "      <td>-7.73226</td>\n",
       "      <td>-0.1</td>\n",
       "      <td>0.00011</td>\n",
       "      <td>0.04536</td>\n",
       "      <td>Left Ventral Motor Cortex</td>\n",
       "      <td>Lateral fissure anterior</td>\n",
       "      <td>SalVentAttnA</td>\n",
       "    </tr>\n",
       "    <tr>\n",
       "      <th>36</th>\n",
       "      <td>28</td>\n",
       "      <td>360</td>\n",
       "      <td>-26</td>\n",
       "      <td>-26</td>\n",
       "      <td>56</td>\n",
       "      <td>45.6</td>\n",
       "      <td>38.9</td>\n",
       "      <td>-8.18245</td>\n",
       "      <td>-0.1</td>\n",
       "      <td>&lt;0.0001</td>\n",
       "      <td>0.0195</td>\n",
       "      <td>Left Dorsomedial Motor Cortex</td>\n",
       "      <td>Postcentral gyrus superior LH</td>\n",
       "      <td>SomMotA</td>\n",
       "    </tr>\n",
       "    <tr>\n",
       "      <th>37</th>\n",
       "      <td>29</td>\n",
       "      <td>496</td>\n",
       "      <td>-14</td>\n",
       "      <td>-60</td>\n",
       "      <td>34</td>\n",
       "      <td>48.3</td>\n",
       "      <td>41.7</td>\n",
       "      <td>-9.15817</td>\n",
       "      <td>-0.2</td>\n",
       "      <td>&lt;0.0001</td>\n",
       "      <td>0.03266</td>\n",
       "      <td>Left Medial Parietal Cortex</td>\n",
       "      <td>Parieto-occipital sulcus antero-superior</td>\n",
       "      <td>ContA</td>\n",
       "    </tr>\n",
       "    <tr>\n",
       "      <th>38</th>\n",
       "      <td>30</td>\n",
       "      <td>184</td>\n",
       "      <td>20</td>\n",
       "      <td>-6</td>\n",
       "      <td>16</td>\n",
       "      <td>43.4</td>\n",
       "      <td>40.8</td>\n",
       "      <td>-10.28566</td>\n",
       "      <td>-0.2</td>\n",
       "      <td>0.00011</td>\n",
       "      <td>0.04519</td>\n",
       "      <td>Right Caudate</td>\n",
       "      <td>Thalamus</td>\n",
       "      <td>No network found</td>\n",
       "    </tr>\n",
       "  </tbody>\n",
       "</table>\n",
       "</div>"
      ]
     },
     "execution_count": 7,
     "metadata": {},
     "output_type": "execute_result"
    }
   ],
   "execution_count": 7
  },
  {
   "cell_type": "code",
   "id": "6625ba4df24178b3",
   "metadata": {
    "ExecuteTime": {
     "end_time": "2024-07-24T11:05:45.999051Z",
     "start_time": "2024-07-24T11:05:45.779102Z"
    }
   },
   "source": "corrs(2, -20, -30), 10**-2.02 # Brainstem\n",
   "outputs": [
    {
     "data": {
      "text/plain": [
       "((-0.14909124585667624, -8.748657706914722), 0.009549925860214359)"
      ]
     },
     "execution_count": 342,
     "metadata": {},
     "output_type": "execute_result"
    },
    {
     "data": {
      "text/plain": [
       "<Figure size 130x100 with 1 Axes>"
      ],
      "image/png": "[encoded data removed]"
     },
     "metadata": {},
     "output_type": "display_data"
    }
   ],
   "execution_count": 342
  },
  {
   "metadata": {
    "ExecuteTime": {
     "end_time": "2024-07-24T11:05:58.665774Z",
     "start_time": "2024-07-24T11:05:58.022198Z"
    }
   },
   "cell_type": "code",
   "source": "corrs(10, 26, -14), 10**-1.192, get_mars_label((10, 26, -14)) # Brainstem",
   "id": "32fcb0f08730c41a",
   "outputs": [
    {
     "data": {
      "text/plain": [
       "((0.15766472262244857, 9.251748368951535),\n",
       " 0.06426877173170198,\n",
       "     Index  Label Hemisphere     Lobe/Region                       Full_name  \\\n",
       " 79    139  PFCvm      Right  Orbito-Frontal  Ventromedial Prefrontal Cortex   \n",
       " \n",
       "    Brodman_Area  Distance  \n",
       " 79     32/10/11  1.414214  )"
      ]
     },
     "execution_count": 343,
     "metadata": {},
     "output_type": "execute_result"
    },
    {
     "data": {
      "text/plain": [
       "<Figure size 130x100 with 1 Axes>"
      ],
      "image/png": "[encoded data removed]"
     },
     "metadata": {},
     "output_type": "display_data"
    }
   ],
   "execution_count": 343
  },
  {
   "cell_type": "code",
   "execution_count": 330,
   "id": "d9ccd341d98f75a2",
   "metadata": {
    "ExecuteTime": {
     "end_time": "2024-07-24T10:35:14.834181Z",
     "start_time": "2024-07-24T10:35:14.648874Z"
    }
   },
   "outputs": [
    {
     "data": {
      "text/plain": [
       "(-0.160106115599909, -9.395009037041996)"
      ]
     },
     "execution_count": 330,
     "metadata": {},
     "output_type": "execute_result"
    },
    {
     "data": {
      "image/png": "[encoded data removed]",
      "text/plain": [
       "<Figure size 130x100 with 1 Axes>"
      ]
     },
     "metadata": {},
     "output_type": "display_data"
    }
   ],
   "source": [
    "corrs(30.0,-4.0,-14.0) #16,464,30.0,-4.0,-14.0,0.453664,0.436960,-9.395009,-0.160106,<0.0001,<0.0001,Right Amygdala,Hippocampal fissure,No network found\n"
   ]
  },
  {
   "cell_type": "code",
   "execution_count": 331,
   "id": "2a8c95d6347890fa",
   "metadata": {
    "ExecuteTime": {
     "end_time": "2024-07-24T10:35:15.266816Z",
     "start_time": "2024-07-24T10:35:15.088308Z"
    }
   },
   "outputs": [
    {
     "data": {
      "text/plain": [
       "(-0.18664104137626772, -10.952075527175932)"
      ]
     },
     "execution_count": 331,
     "metadata": {},
     "output_type": "execute_result"
    },
    {
     "data": {
      "image/png": "[encoded data removed]",
      "text/plain": [
       "<Figure size 130x100 with 1 Axes>"
      ]
     },
     "metadata": {},
     "output_type": "display_data"
    }
   ],
   "source": [
    "corrs(10.0,-16.0,6.0) # 22,1304,10.0,-16.0,6.0,0.532804,0.514550,-10.952076,-0.186641,<0.0001,0.000725,Right Thalamus,Thalamus,No network found"
   ]
  },
  {
   "cell_type": "code",
   "execution_count": 332,
   "id": "6e8f580ad34121dd",
   "metadata": {
    "ExecuteTime": {
     "end_time": "2024-07-24T10:35:15.661597Z",
     "start_time": "2024-07-24T10:35:15.510887Z"
    }
   },
   "outputs": [
    {
     "data": {
      "text/plain": [
       "(-0.16313098774573767, -9.572508197767204)"
      ]
     },
     "execution_count": 332,
     "metadata": {},
     "output_type": "execute_result"
    },
    {
     "data": {
      "image/png": "[encoded data removed]",
      "text/plain": [
       "<Figure size 130x100 with 1 Axes>"
      ]
     },
     "metadata": {},
     "output_type": "display_data"
    }
   ],
   "source": [
    "corrs(50.0,-4.0,8.0) # 1a,\"\",50.0,-4.0,8.0,0.494507,0.487576,-9.572508,-0.163131,<0.0001,<0.0001,Right Ventral Motor Cortex,Central operculum cortex,SomMotA\n"
   ]
  },
  {
   "cell_type": "code",
   "execution_count": 333,
   "id": "7691ccdbaca3a447",
   "metadata": {
    "ExecuteTime": {
     "end_time": "2024-07-24T10:35:16.185229Z",
     "start_time": "2024-07-24T10:35:16.017705Z"
    }
   },
   "outputs": [
    {
     "data": {
      "text/plain": [
       "(-0.1669222401834122, -9.794978468688447)"
      ]
     },
     "execution_count": 333,
     "metadata": {},
     "output_type": "execute_result"
    },
    {
     "data": {
      "image/png": "[encoded data removed]",
      "text/plain": [
       "<Figure size 130x100 with 1 Axes>"
      ]
     },
     "metadata": {},
     "output_type": "display_data"
    }
   ],
   "source": [
    "corrs(40.0,-22.0,22.0) # 15,1272,40.0,-22.0,22.0,0.441957,0.405507,-9.794978,-0.166922,<0.0001,<0.0001,Right Ventral Inferior Parietal Cortex,Central operculum cortex,SomMotA -> post-insula\n"
   ]
  },
  {
   "cell_type": "code",
   "execution_count": 334,
   "id": "8741e496737065ba",
   "metadata": {
    "ExecuteTime": {
     "end_time": "2024-07-24T10:35:16.680521Z",
     "start_time": "2024-07-24T10:35:16.485873Z"
    }
   },
   "outputs": [
    {
     "data": {
      "text/plain": [
       "(-0.13987941959954583, -8.20810876779943)"
      ]
     },
     "execution_count": 334,
     "metadata": {},
     "output_type": "execute_result"
    },
    {
     "data": {
      "image/png": "[encoded data removed]",
      "text/plain": [
       "<Figure size 130x100 with 1 Axes>"
      ]
     },
     "metadata": {},
     "output_type": "display_data"
    }
   ],
   "source": [
    "corrs(54.0,-18.0,28.0) # 2,1b,\"\",54.0,-18.0,28.0,0.515167,0.424427,-8.208109,-0.139879,<0.0001,<0.0001,Right Dorsal Inferior Parietal Cortex,Supramarginal gyrus anterior RH,SalVentAttnA\n"
   ]
  },
  {
   "cell_type": "code",
   "id": "e287597e36386a67",
   "metadata": {
    "ExecuteTime": {
     "end_time": "2024-07-24T10:44:13.175173Z",
     "start_time": "2024-07-24T10:44:12.959474Z"
    }
   },
   "source": "corrs(8.0,-8.0,44.0) # 12b,\"\",8.0,-8.0,44.0,0.340709,0.282534,-10.382847,-0.176940,<0.0001,<0.0001,Right Mid Cingulate Cortex,Paracingulate gyrus postero-inferior,SomMotA\n",
   "outputs": [
    {
     "data": {
      "text/plain": [
       "(-0.1769404631126267, -10.382846674736694)"
      ]
     },
     "execution_count": 336,
     "metadata": {},
     "output_type": "execute_result"
    },
    {
     "data": {
      "text/plain": [
       "<Figure size 130x100 with 1 Axes>"
      ],
      "image/png": "[encoded data removed]"
     },
     "metadata": {},
     "output_type": "display_data"
    }
   ],
   "execution_count": 336
  },
  {
   "metadata": {
    "ExecuteTime": {
     "end_time": "2024-07-24T10:47:16.183952Z",
     "start_time": "2024-07-24T10:47:15.956157Z"
    }
   },
   "cell_type": "code",
   "source": "corrs(22.0,-42.0,66.0) # 13,1968,22.0,-42.0,66.0,0.445813,0.426274,-9.927695,-0.169184,<0.0001,<0.0001,Right Dorsomedial Somatosensory Cortex,Superior precentral and postcentral sulci posterior,SomMotA\n",
   "id": "997fedc71244d493",
   "outputs": [
    {
     "data": {
      "text/plain": [
       "(-0.16918394659140132, -9.927695148888798)"
      ]
     },
     "execution_count": 337,
     "metadata": {},
     "output_type": "execute_result"
    },
    {
     "data": {
      "text/plain": [
       "<Figure size 130x100 with 1 Axes>"
      ],
      "image/png": "[encoded data removed]"
     },
     "metadata": {},
     "output_type": "display_data"
    }
   ],
   "execution_count": 337
  },
  {
   "metadata": {
    "ExecuteTime": {
     "end_time": "2024-07-24T10:49:01.953523Z",
     "start_time": "2024-07-24T10:49:01.757828Z"
    }
   },
   "cell_type": "code",
   "source": "corrs(4.0,4.0,66.0) # 12a,\"\",4.0,4.0,66.0,0.478816,0.447454,-10.045634,-0.171194,<0.0001,<0.0001,Right Dorsomedial Premotor Cortex,Paracingulate gyrus postero-superior,SalVentAttnA\n",
   "id": "b19adeced60fed87",
   "outputs": [
    {
     "data": {
      "text/plain": [
       "(-0.1711938089881654, -10.045633650551007)"
      ]
     },
     "execution_count": 338,
     "metadata": {},
     "output_type": "execute_result"
    },
    {
     "data": {
      "text/plain": [
       "<Figure size 130x100 with 1 Axes>"
      ],
      "image/png": "[encoded data removed]"
     },
     "metadata": {},
     "output_type": "display_data"
    }
   ],
   "execution_count": 338
  },
  {
   "metadata": {
    "ExecuteTime": {
     "end_time": "2024-07-24T10:52:30.322830Z",
     "start_time": "2024-07-24T10:52:30.100886Z"
    }
   },
   "cell_type": "code",
   "source": "corrs(30.0,-18.0,64.0) # 20,880,30.0,-18.0,64.0,0.469283,0.412790,-9.899772,-0.168708,<0.0001,<0.0001,Right Dorsomedial Motor Cortex,Postcentral gyrus RH,SomMotA\n",
   "id": "17e4406a3984c87c",
   "outputs": [
    {
     "data": {
      "text/plain": [
       "(-0.16870809056286584, -9.89977197011658)"
      ]
     },
     "execution_count": 339,
     "metadata": {},
     "output_type": "execute_result"
    },
    {
     "data": {
      "text/plain": [
       "<Figure size 130x100 with 1 Axes>"
      ],
      "image/png": "[encoded data removed]"
     },
     "metadata": {},
     "output_type": "display_data"
    }
   ],
   "execution_count": 339
  },
  {
   "metadata": {
    "ExecuteTime": {
     "end_time": "2024-07-24T11:36:31.703634Z",
     "start_time": "2024-07-24T11:36:31.700458Z"
    }
   },
   "cell_type": "code",
   "source": "9*(1/(2*np.sqrt(3)))/pheno['Rating_diff'].std()",
   "id": "877c3696b06c471a",
   "outputs": [
    {
     "data": {
      "text/plain": [
       "0.15337452414552052"
      ]
     },
     "execution_count": 345,
     "metadata": {},
     "output_type": "execute_result"
    }
   ],
   "execution_count": 345
  },
  {
   "metadata": {},
   "cell_type": "code",
   "outputs": [],
   "execution_count": null,
   "source": "",
   "id": "49bd998612122279"
  }
 ],
 "metadata": {
  "kernelspec": {
   "display_name": "Python 3 (ipykernel)",
   "language": "python",
   "name": "python3"
  },
  "language_info": {
   "codemirror_mode": {
    "name": "ipython",
    "version": 3
   },
   "file_extension": ".py",
   "mimetype": "text/x-python",
   "name": "python",
   "nbconvert_exporter": "python",
   "pygments_lexer": "ipython3",
   "version": "3.9.6"
  }
 },
 "nbformat": 4,
 "nbformat_minor": 5
}
