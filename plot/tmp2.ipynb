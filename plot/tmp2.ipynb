{
 "cells": [
  {
   "cell_type": "markdown",
   "source": [
    "# Tail Modelling for Bootstrap Hypothesis Testing with Generalized Pareto Distribution\n",
    "## **for more accurate estimation of small p-values, as needed e.g. for FDR correction**"
   ],
   "metadata": {
    "collapsed": false
   },
   "id": "c2ce36ae924eaa32"
  },
  {
   "cell_type": "code",
   "execution_count": 1,
   "outputs": [],
   "source": [
    "import numpy as np\n",
    "import pandas as pd\n",
    "import scipy.stats as stats\n",
    "import matplotlib.pyplot as plt"
   ],
   "metadata": {
    "collapsed": false,
    "ExecuteTime": {
     "end_time": "2024-05-23T07:15:31.208725Z",
     "start_time": "2024-05-23T07:15:24.701334Z"
    }
   },
   "id": "f707e5fced38d307"
  },
  {
   "cell_type": "markdown",
   "source": [
    "### 1. Generate sample data"
   ],
   "metadata": {
    "collapsed": false
   },
   "id": "f69b624eeee4a4b8"
  },
  {
   "cell_type": "code",
   "execution_count": 7,
   "outputs": [
    {
     "name": "stdout",
     "output_type": "stream",
     "text": [
      "Actual correlation: -0.25053582069004604\n"
     ]
    }
   ],
   "source": [
    "random = np.random.default_rng(42)\n",
    "\n",
    "# Parameters\n",
    "n_samples = 40\n",
    "true_corr = -0.1\n",
    "mean = [0, 0]\n",
    "cov = [[1, true_corr], [true_corr, 1]]  # covariance matrix \n",
    "\n",
    "# Generate the data\n",
    "data = random.multivariate_normal(mean, cov, n_samples)\n",
    "df = pd.DataFrame(data, columns=['X', 'Y'])\n",
    "\n",
    "# Calculate the actual correlation\n",
    "actual_corr = df.corr().iloc[0, 1]\n",
    "print(f\"Actual correlation: {actual_corr}\")"
   ],
   "metadata": {
    "collapsed": false,
    "ExecuteTime": {
     "end_time": "2024-05-23T07:18:47.607327Z",
     "start_time": "2024-05-23T07:18:46.210346Z"
    }
   },
   "id": "8d0e8549f5c84156"
  },
  {
   "cell_type": "markdown",
   "source": [
    "### Step 2: Bootstrap Hypothesis Testing"
   ],
   "metadata": {
    "collapsed": false
   },
   "id": "7b6d13f4c830d69b"
  },
  {
   "cell_type": "code",
   "execution_count": 8,
   "outputs": [],
   "source": [
    "n_bootstrap = 10000\n",
    "bootstrap_corrs = []\n",
    "\n",
    "for _ in range(n_bootstrap):\n",
    "    # Resample with replacement\n",
    "    bootstrap_sample = df.sample(n=n_samples, replace=True)\n",
    "    # Calculate correlation of the bootstrap sample\n",
    "    bootstrap_corr = bootstrap_sample.corr().iloc[0, 1]\n",
    "    bootstrap_corrs.append(bootstrap_corr)\n",
    "\n",
    "# Convert bootstrap correlations to a numpy array\n",
    "bootstrap_corrs = np.array(bootstrap_corrs)"
   ],
   "metadata": {
    "collapsed": false,
    "ExecuteTime": {
     "end_time": "2024-05-23T07:19:25.873489Z",
     "start_time": "2024-05-23T07:18:51.450440Z"
    }
   },
   "id": "e6ccd7e98cfb4a5c"
  },
  {
   "cell_type": "markdown",
   "source": [
    "### 3. Calculate confidence interval and \"conventional\" p-values:"
   ],
   "metadata": {
    "collapsed": false
   },
   "id": "990da79441a0027"
  },
  {
   "cell_type": "code",
   "execution_count": 9,
   "outputs": [
    {
     "name": "stdout",
     "output_type": "stream",
     "text": [
      "95% Confidence Interval for correlation: (-0.49127794878542935, 0.06336309652948166)\n",
      "Liberal p-value:        0.0561\n",
      "Conservative p-value:   0.056194380561943806\n"
     ]
    }
   ],
   "source": [
    "# Calculate 95% confidence interval\n",
    "ci_lower = np.percentile(bootstrap_corrs, 2.5)\n",
    "ci_upper = np.percentile(bootstrap_corrs, 97.5)\n",
    "print(f\"95% Confidence Interval for correlation: ({ci_lower}, {ci_upper})\")\n",
    "# calculate p-values\n",
    "n_gt0 = np.sum(bootstrap_corrs > 0)\n",
    "p_value_liberal = n_gt0 / n_bootstrap\n",
    "p_value_conservative = (n_gt0+1) / (n_bootstrap+1)\n",
    "print(f\"Liberal p-value:        {p_value_liberal}\")\n",
    "print(f\"Conservative p-value:   {p_value_conservative}\")"
   ],
   "metadata": {
    "collapsed": false,
    "ExecuteTime": {
     "end_time": "2024-05-23T07:19:28.052301Z",
     "start_time": "2024-05-23T07:19:25.864041Z"
    }
   },
   "id": "d59f47ea2eb86572"
  },
  {
   "cell_type": "markdown",
   "source": [
    "### 4. Tail modelling-based p-values"
   ],
   "metadata": {
    "collapsed": false
   },
   "id": "f23fa9a72bf9127f"
  },
  {
   "cell_type": "code",
   "execution_count": 10,
   "outputs": [
    {
     "name": "stdout",
     "output_type": "stream",
     "text": [
      "GPD parameters: shape=-0.11609029879140115, loc=1.1589488792407444e-05, scale=0.08813894328961056\n",
      "P-value with tail modelling: 0.05623108279160809\n"
     ]
    }
   ],
   "source": [
    "tail_ratio = 0.10\n",
    "extreme_value = 0  # now we want the p-value for the correlation being larger than 0 (but it could be any other value)\n",
    "\n",
    "# Identify the tail\n",
    "threshold = np.quantile(bootstrap_corrs, 1-tail_ratio)\n",
    "tail_data = bootstrap_corrs[bootstrap_corrs > threshold]\n",
    "# Fit the Generalized Pareto Distribution (GPD)\n",
    "c, loc, scale = stats.genpareto.fit(tail_data - threshold)\n",
    "# calculate the p-value\n",
    "excess_value = extreme_value - threshold\n",
    "p_value = (1 - stats.genpareto.cdf(excess_value, c, loc=loc, scale=scale)) * tail_ratio # we mltiply by the tail ratio to account for the fact that we only consider the tail\n",
    "print(f\"GPD parameters: shape={c}, loc={loc}, scale={scale}\")\n",
    "print(f\"P-value with tail modelling: {p_value}\")"
   ],
   "metadata": {
    "collapsed": false,
    "ExecuteTime": {
     "end_time": "2024-05-23T07:19:28.663397Z",
     "start_time": "2024-05-23T07:19:25.911016Z"
    }
   },
   "id": "28e1db0e77f27ced"
  },
  {
   "cell_type": "markdown",
   "source": [
    "### 5. Plot the distribution of bootstrap correlations and the tail model"
   ],
   "metadata": {
    "collapsed": false
   },
   "id": "8be5ed08a01c9c47"
  },
  {
   "cell_type": "code",
   "execution_count": 11,
   "outputs": [
    {
     "data": {
      "text/plain": "[<matplotlib.lines.Line2D at 0x12d7a13a0>]"
     },
     "execution_count": 11,
     "metadata": {},
     "output_type": "execute_result"
    },
    {
     "data": {
      "text/plain": "<Figure size 640x480 with 1 Axes>",
      "image/png": "[encoded data removed]"
     },
     "metadata": {},
     "output_type": "display_data"
    }
   ],
   "source": [
    "# Plot the distribution of bootstrap correlations\n",
    "plt.hist(bootstrap_corrs, bins=30, edgecolor='k', alpha=0.7, density=True)\n",
    "plt.title('Bootstrap Correlation Distribution')\n",
    "plt.xlabel('Correlation')\n",
    "plt.ylabel('Frequency')\n",
    "    \n",
    "# Plot the fitted GPD versus the empirical tail data\n",
    "x = np.linspace(threshold, tail_data.max(), 100)\n",
    "y = stats.genpareto.pdf(x - threshold, c, loc=loc, scale=scale)\n",
    "plt.plot(x, y*tail_ratio, 'r-', lw=2, label='Fitted GPD')"
   ],
   "metadata": {
    "collapsed": false,
    "ExecuteTime": {
     "end_time": "2024-05-23T07:19:50.406962Z",
     "start_time": "2024-05-23T07:19:45.425171Z"
    }
   },
   "id": "a4760dab25435737"
  },
  {
   "cell_type": "code",
   "execution_count": null,
   "outputs": [],
   "source": [],
   "metadata": {
    "collapsed": false
   },
   "id": "57705b51879a948d"
  }
 ],
 "metadata": {
  "kernelspec": {
   "display_name": "Python 3",
   "language": "python",
   "name": "python3"
  },
  "language_info": {
   "codemirror_mode": {
    "name": "ipython",
    "version": 2
   },
   "file_extension": ".py",
   "mimetype": "text/x-python",
   "name": "python",
   "nbconvert_exporter": "python",
   "pygments_lexer": "ipython2",
   "version": "2.7.6"
  }
 },
 "nbformat": 4,
 "nbformat_minor": 5
}
