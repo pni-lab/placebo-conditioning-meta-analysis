{
 "cells": [
  {
   "cell_type": "markdown",
   "metadata": {},
   "source": [
    "# Testing the equality of variances between placebo induction strategies"
   ]
  },
  {
   "cell_type": "code",
   "execution_count": 6,
   "metadata": {},
   "outputs": [],
   "source": [
    "import numpy as np\n",
    "import pandas as pd\n",
    "import nibabel as nib\n",
    "import seaborn as sns\n",
    "import matplotlib.pyplot as plt\n",
    "import statsmodels.formula.api as smf\n",
    "from scipy.stats import levene"
   ]
  },
  {
   "cell_type": "code",
   "execution_count": 7,
   "metadata": {},
   "outputs": [],
   "source": [
    "base_dir = '../data'\n",
    "pheno = pd.read_csv(base_dir + '/signatures.csv')\n",
    "# convert x to categorical and get integer representation\n",
    "pheno['plc_induction'] = pheno['Conditioning'].astype('category').cat.codes\n",
    "pheno['Rating_diff'] = -1*pheno['Rating_diff']   # higher score stronger placebo\n",
    "# center explanatory variables\n",
    "pheno['Rating_pain_ctr'] = pheno['Rating_pain_ctr'] - pheno['Rating_pain_ctr'].mean()\n",
    "pheno['Age'] = pheno['Age'] - pheno['Age'].mean()\n",
    "pheno['Male'] = pheno['Male'] - pheno['Male'].mean()"
   ]
  },
  {
   "cell_type": "code",
   "execution_count": 11,
   "metadata": {},
   "outputs": [
    {
     "name": "stdout",
     "output_type": "stream",
     "text": [
      "Fitting mixed model: Rating_diff ~ Male + Age + Rating_pain_ctr + (1 | Study_ID)\n",
      "          Mixed Linear Model Regression Results\n",
      "==========================================================\n",
      "Model:             MixedLM Dependent Variable: Rating_diff\n",
      "No. Observations:  409     Method:             REML       \n",
      "No. Groups:        16      Scale:              246.0204   \n",
      "Min. group size:   10      Log-Likelihood:     -1712.2135 \n",
      "Max. group size:   40      Converged:          Yes        \n",
      "Mean group size:   25.6                                   \n",
      "----------------------------------------------------------\n",
      "                Coef.  Std.Err.   z    P>|z| [0.025 0.975]\n",
      "----------------------------------------------------------\n",
      "Intercept       11.052    1.267  8.726 0.000  8.570 13.535\n",
      "Male             2.310    1.832  1.261 0.207 -1.281  5.901\n",
      "Age             -0.301    0.140 -2.146 0.032 -0.576 -0.026\n",
      "Rating_pain_ctr  0.273    0.041  6.728 0.000  0.193  0.352\n",
      "Group Var       15.044    0.653                           \n",
      "==========================================================\n",
      "\n",
      "\\n--- Levene's Test on Model Residuals ---\n",
      "Groups compared: ['suggestions', 'suggestions & conditioning']\n",
      "Levene's test statistic: 27.2257\n",
      "P-value: 0.000000289038\n",
      "Result: Reject the null hypothesis. Evidence suggests variances of residuals are unequal across Conditioning groups.\n"
     ]
    }
   ],
   "source": [
    "# Define the variables\n",
    "outcome_var = 'Rating_diff'\n",
    "grouping_var = 'Conditioning'\n",
    "random_effect_var = 'Study_ID'\n",
    "covariates = ['Male', 'Age', 'Rating_pain_ctr'] # Define covariates\n",
    "\n",
    "# --- Fit Mixed-Effects Model ---\n",
    "# Ensure the random effect variable is treated as categorical/object\n",
    "pheno[random_effect_var] = pheno[random_effect_var].astype(object)\n",
    "# Ensure the grouping variable is also treated as categorical/object if it isn't already\n",
    "pheno[grouping_var] = pheno[grouping_var].astype(object)\n",
    "\n",
    "# Construct the formula string including covariates\n",
    "formula = f\"{outcome_var} ~ {' + '.join(covariates)}\"\n",
    "\n",
    "# Handle potential missing values before fitting the model\n",
    "# Include covariates in the columns to check for NaNs\n",
    "columns_for_model = [outcome_var, grouping_var, random_effect_var] + covariates\n",
    "model_data = pheno[columns_for_model].dropna()\n",
    "\n",
    "print(f\"Fitting mixed model: {formula} + (1 | {random_effect_var})\")\n",
    "try:\n",
    "    # Fit the LME model using the updated formula and data\n",
    "    model = smf.mixedlm(formula, data=model_data, groups=model_data[random_effect_var])\n",
    "    result = model.fit()\n",
    "    print(result.summary())\n",
    "\n",
    "    # Get residuals\n",
    "    residuals = result.resid\n",
    "\n",
    "    # Add residuals and grouping variable back to a temporary DataFrame for Levene's test\n",
    "    # Ensure indices align if NaNs were dropped\n",
    "    residuals_df = pd.DataFrame({\n",
    "        'residuals': residuals,\n",
    "        grouping_var: model_data[grouping_var] # Use model_data to match indices\n",
    "    })\n",
    "\n",
    "\n",
    "    # --- Perform Levene's Test on Residuals ---\n",
    "    # Get unique groups\n",
    "    groups = residuals_df[grouping_var].unique()\n",
    "\n",
    "    # Prepare data for Levene's test: list of residual arrays for each group\n",
    "    # Filter out groups with insufficient data for variance calculation if necessary\n",
    "    residual_groups = []\n",
    "    valid_groups = []\n",
    "    for group in groups:\n",
    "        group_residuals = residuals_df['residuals'][residuals_df[grouping_var] == group]\n",
    "        if len(group_residuals) > 1: # Levene's test requires at least 2 samples per group\n",
    "             residual_groups.append(group_residuals)\n",
    "             valid_groups.append(group)\n",
    "        else:\n",
    "            print(f\"Warning: Group '{group}' has insufficient data ({len(group_residuals)} sample(s)) and will be excluded from Levene's test.\")\n",
    "\n",
    "\n",
    "    if len(valid_groups) < 2:\n",
    "         print(\"\\\\n--- Levene's Test on Model Residuals ---\")\n",
    "         print(\"Error: Levene's test requires at least two groups with sufficient data.\")\n",
    "    else:\n",
    "        print(\"\\\\n--- Levene's Test on Model Residuals ---\")\n",
    "        # Perform the test using the median (more robust)\n",
    "        stat, p_value = levene(*residual_groups, center='median')\n",
    "\n",
    "        print(f\"Groups compared: {list(valid_groups)}\")\n",
    "        print(f\"Levene's test statistic: {stat:.4f}\")\n",
    "        print(f\"P-value: {p_value:.12f}\")\n",
    "\n",
    "        if p_value < 0.05:\n",
    "            print(\"Result: Reject the null hypothesis. Evidence suggests variances of residuals are unequal across Conditioning groups.\")\n",
    "        else:\n",
    "            print(\"Result: Fail to reject the null hypothesis. No significant evidence of unequal residual variances across Conditioning groups.\")\n",
    "\n",
    "except Exception as e:\n",
    "    print(f\"An error occurred during model fitting or Levene's test: {e}\")\n",
    "    print(\"Please check your data, column names, and ensure sufficient data per group/study.\")\n"
   ]
  }
 ],
 "metadata": {
  "kernelspec": {
   "display_name": "venv",
   "language": "python",
   "name": "python3"
  },
  "language_info": {
   "codemirror_mode": {
    "name": "ipython",
    "version": 3
   },
   "file_extension": ".py",
   "mimetype": "text/x-python",
   "name": "python",
   "nbconvert_exporter": "python",
   "pygments_lexer": "ipython3",
   "version": "3.9.6"
  }
 },
 "nbformat": 4,
 "nbformat_minor": 2
}
